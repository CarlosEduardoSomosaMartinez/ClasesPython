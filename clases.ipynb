{
 "cells": [
  {
   "cell_type": "markdown",
   "metadata": {},
   "source": [
    "para la introduccion a las clases que es un tema fundamental en la poo  y es que nosotros podemos ver esto como plantillas que vamos a usar de manera recurrente apartir de esta nosotros vamos a definir como sera y que podra hacer un objeto de forma general claro  hay diferencia entre objetos pero estos pertenecen a la misama clase y en efectos practicos se comportan de la misam manera\n",
    "para nosotros ver que tipo de clase tiene un objeto nosotros lo podemos ver con la sentencia type"
   ]
  },
  {
   "cell_type": "code",
   "execution_count": 2,
   "metadata": {},
   "outputs": [
    {
     "name": "stdout",
     "output_type": "stream",
     "text": [
      "<class 'type'>\n"
     ]
    }
   ],
   "source": [
    "print(type(int))"
   ]
  },
  {
   "cell_type": "markdown",
   "metadata": {},
   "source": [
    "adicionalmente todos los objetos tine  un atributo __class__  y apartir se puede tambien sacar la clase a la que pertenece "
   ]
  },
  {
   "cell_type": "code",
   "execution_count": 3,
   "metadata": {},
   "outputs": [
    {
     "name": "stdout",
     "output_type": "stream",
     "text": [
      "<class 'str'>\n"
     ]
    }
   ],
   "source": [
    "print(\"informacion\".__class__)"
   ]
  },
  {
   "cell_type": "markdown",
   "metadata": {},
   "source": [
    "nosotros ya contamos con clases definida en python  pero esto no significa que no podamos definir una clase  algunas de las clases definidas ya las conocemos y las emos estado utilizando\n",
    "int,float,str,bool,list,dict"
   ]
  },
  {
   "cell_type": "code",
   "execution_count": 5,
   "metadata": {},
   "outputs": [],
   "source": [
    "class MiPrimeraClase:\n",
    "    pass"
   ]
  },
  {
   "cell_type": "markdown",
   "metadata": {},
   "source": [
    "si nosotros  queremos querea una instancia de esta clase osea crear un objeto  podemos hacer:"
   ]
  },
  {
   "cell_type": "code",
   "execution_count": 6,
   "metadata": {},
   "outputs": [
    {
     "data": {
      "text/plain": [
       "__main__.MiPrimeraClase"
      ]
     },
     "execution_count": 6,
     "metadata": {},
     "output_type": "execute_result"
    }
   ],
   "source": [
    "objeto_clase = MiPrimeraClase()\n",
    "type(objeto_clase)"
   ]
  },
  {
   "cell_type": "markdown",
   "metadata": {},
   "source": [
    "ahora nuestras clases no solo se declaran y ya si no que estas pueden poser atributos los cuales podemos definir en el cuerpo de la clase y estos simplemente se definirian como una variable dentro de la clase esta puede ser accedido a ella atrabes de un punto"
   ]
  },
  {
   "cell_type": "code",
   "execution_count": 7,
   "metadata": {},
   "outputs": [
    {
     "name": "stdout",
     "output_type": "stream",
     "text": [
      "0\n"
     ]
    }
   ],
   "source": [
    "class UnaClase:\n",
    "    un_atributo = 0\n",
    "\n",
    "instancia = UnaClase()\n",
    "print(instancia.un_atributo)"
   ]
  },
  {
   "cell_type": "markdown",
   "metadata": {},
   "source": [
    "ahora nosotros tambie podemos agreagar algo llamado metodos a nuestras clases y que son estos son funciones dentro de la clase las cuales de igual manera se pueden acceder solo con un punto pero tiene otra pequena peculiaridad"
   ]
  },
  {
   "cell_type": "code",
   "execution_count": 13,
   "metadata": {},
   "outputs": [
    {
     "ename": "TypeError",
     "evalue": "UnaClase.metodo() missing 1 required positional argument: 'self'",
     "output_type": "error",
     "traceback": [
      "\u001b[1;31m---------------------------------------------------------------------------\u001b[0m",
      "\u001b[1;31mTypeError\u001b[0m                                 Traceback (most recent call last)",
      "Cell \u001b[1;32mIn[13], line 9\u001b[0m\n\u001b[0;32m      6\u001b[0m     \u001b[38;5;28;01mdef\u001b[39;00m \u001b[38;5;21mmetodo\u001b[39m(\u001b[38;5;28mself\u001b[39m ):\n\u001b[0;32m      7\u001b[0m         \u001b[38;5;28;01mreturn\u001b[39;00m \u001b[38;5;124mf\u001b[39m\u001b[38;5;124m\"\u001b[39m\u001b[38;5;124m tenemos un atributo que vale \u001b[39m\u001b[38;5;124m\"\u001b[39m\n\u001b[1;32m----> 9\u001b[0m una_instancia \u001b[38;5;241m=\u001b[39m \u001b[43mUnaClase\u001b[49m\u001b[38;5;241;43m.\u001b[39;49m\u001b[43mmetodo\u001b[49m\u001b[43m(\u001b[49m\u001b[43m)\u001b[49m\n\u001b[0;32m     11\u001b[0m \u001b[38;5;28mprint\u001b[39m(una_instancia)\n",
      "\u001b[1;31mTypeError\u001b[0m: UnaClase.metodo() missing 1 required positional argument: 'self'"
     ]
    }
   ],
   "source": [
    "class UnaClase:\n",
    "    \n",
    "    \n",
    "    atributo = 1\n",
    "    \n",
    "    def metodo(self):\n",
    "        return f\" tenemos un atributo que vale \"\n",
    "\n",
    "una_instancia = UnaClase.metodo()\n",
    "\n",
    "print(una_instancia)\n"
   ]
  },
  {
   "cell_type": "markdown",
   "metadata": {},
   "source": [
    "por que usamos el self bueno cuando nosotros definimos un meotodo de manera implicita nosotros le pasamos una atributo que sera el mismo objeto  cuando nosotros lo llamamos ya no hay una necesidad de pasarle el mismo objeto como atributo es importane recordar que nosotro podemos definir tambien estos metodos fuera de nuestra clase de la siguitne manera"
   ]
  },
  {
   "cell_type": "code",
   "execution_count": 17,
   "metadata": {},
   "outputs": [
    {
     "name": "stdout",
     "output_type": "stream",
     "text": [
      "1\n"
     ]
    }
   ],
   "source": [
    "def funcion_exterior(self):\n",
    "    return self.atributo\n",
    "\n",
    "class OtherClass:\n",
    "    atributo = 1\n",
    "    funcion_interior = funcion_exterior\n",
    "\n",
    "instacia = OtherClass()\n",
    "valor = instacia.funcion_interior()\n",
    "print(valor)"
   ]
  },
  {
   "cell_type": "markdown",
   "metadata": {},
   "source": [
    "hay algo que tenemos que ver y es que los atributos de clase son diferentes a los atributos de instancia estos atributos de clase siempre sran los mismo para cada instacia mientras que los atributos de instancia no estos dependeran de cada instacia que nosotros realisemos estos se pueden modificar en cualquier momento por ejemplos"
   ]
  },
  {
   "cell_type": "code",
   "execution_count": 21,
   "metadata": {},
   "outputs": [
    {
     "name": "stdout",
     "output_type": "stream",
     "text": [
      "hola me llamo nameless notlastname\n",
      "hola me llamo nameless notlastname\n",
      "hola me llamo mario garza\n",
      "hola me llamo nameless notlastname\n",
      "20\n"
     ]
    },
    {
     "ename": "AttributeError",
     "evalue": "'Persona' object has no attribute 'edad'",
     "output_type": "error",
     "traceback": [
      "\u001b[1;31m---------------------------------------------------------------------------\u001b[0m",
      "\u001b[1;31mAttributeError\u001b[0m                            Traceback (most recent call last)",
      "Cell \u001b[1;32mIn[21], line 20\u001b[0m\n\u001b[0;32m     18\u001b[0m mario\u001b[38;5;241m.\u001b[39medad \u001b[38;5;241m=\u001b[39m \u001b[38;5;241m20\u001b[39m\n\u001b[0;32m     19\u001b[0m \u001b[38;5;28mprint\u001b[39m(mario\u001b[38;5;241m.\u001b[39medad)\n\u001b[1;32m---> 20\u001b[0m \u001b[38;5;28mprint\u001b[39m(\u001b[43mmaria\u001b[49m\u001b[38;5;241;43m.\u001b[39;49m\u001b[43medad\u001b[49m)\n",
      "\u001b[1;31mAttributeError\u001b[0m: 'Persona' object has no attribute 'edad'"
     ]
    }
   ],
   "source": [
    "class Persona:\n",
    "    nombre = \"nameless\"\n",
    "    apellido = \"notlastname\"\n",
    "    \n",
    "    def presentacion(self):\n",
    "        return f\"hola me llamo {self.nombre} {self.apellido}\"\n",
    "    \n",
    "maria = Persona()\n",
    "mario = Persona()\n",
    "\n",
    "print(maria.presentacion())\n",
    "print(mario.presentacion())\n",
    "\n",
    "mario.nombre = \"mario\"\n",
    "mario.apellido = \"garza\"\n",
    "print(mario.presentacion())\n",
    "print(maria.presentacion())\n",
    "mario.edad = 20\n",
    "print(mario.edad)\n",
    "print(maria.edad)"
   ]
  },
  {
   "cell_type": "markdown",
   "metadata": {},
   "source": [
    "ahora en el ejemplo anterior vimos como cada instancia tenia en comun los atributos de clase pero no tenia en comun los atributos de instancia lo cual me genero un error.Cuando nosotros tenemos \n",
    "un atributo especial en estos objetos donde se guaradaran  atributos de instacia en caso de no ser encontrados los buscara en los atributos de clase con ese mismo nombre este atributo especial se llama __dict__ y contiene como diccionario todos los atributos de una asignacion  ejemplo"
   ]
  },
  {
   "cell_type": "code",
   "execution_count": 24,
   "metadata": {},
   "outputs": [
    {
     "name": "stdout",
     "output_type": "stream",
     "text": [
      "{'x': 'esto estra cosa'}\n",
      "{'__module__': '__main__', 'x': 'esto es atributo', '__dict__': <attribute '__dict__' of 'C' objects>, '__weakref__': <attribute '__weakref__' of 'C' objects>, '__doc__': None}\n"
     ]
    }
   ],
   "source": [
    "class C:\n",
    "    x = \"esto es atributo\"\n",
    "\n",
    "instancia = C()\n",
    "instacia.x = \"esto estra cosa\"\n",
    "print(instacia.__dict__)\n",
    "print(C.__dict__)"
   ]
  },
  {
   "cell_type": "markdown",
   "metadata": {},
   "source": [
    "hay que conocer tambien que esto es diferente cuando nostros usamos tipos de datos mutables como lo que podria ser una lista o un diccionario ya que estos se modificaran en general reflejando cambios para cada instancia y no de manera individual ejemplo:"
   ]
  },
  {
   "cell_type": "code",
   "execution_count": 25,
   "metadata": {},
   "outputs": [
    {
     "name": "stdout",
     "output_type": "stream",
     "text": [
      "['aceite', 'huevos', 'jamon']\n",
      "['aceite', 'huevos', 'jamon']\n"
     ]
    }
   ],
   "source": [
    "class ListaDeItems():\n",
    "    lista = []\n",
    "\n",
    "    def agregar_elemento(self,objeto):\n",
    "        self.lista.append(objeto)\n",
    "\n",
    "    def ver(self):\n",
    "        return  self.lista\n",
    "    \n",
    "super = ListaDeItems()\n",
    "\n",
    "ferreteria = ListaDeItems()\n",
    "\n",
    "\n",
    "super.agregar_elemento(\"aceite\")\n",
    "super.agregar_elemento(\"huevos\")\n",
    "super.agregar_elemento(\"jamon\")\n",
    "\n",
    "print(super.ver())\n",
    "print(ferreteria.ver())"
   ]
  },
  {
   "cell_type": "markdown",
   "metadata": {},
   "source": [
    "ahora lo anterior susedido estaria mal ya que se intuye que quermos tener nuestra propia lista de objetos individual a lo que nosotros vallamos a ingresar y lo podemos corregir de una manera muy sencilla"
   ]
  },
  {
   "cell_type": "code",
   "execution_count": 27,
   "metadata": {},
   "outputs": [
    {
     "name": "stdout",
     "output_type": "stream",
     "text": [
      "['martillo', 'metro']\n"
     ]
    },
    {
     "ename": "AttributeError",
     "evalue": "'Encargos' object has no attribute 'lista'",
     "output_type": "error",
     "traceback": [
      "\u001b[1;31m---------------------------------------------------------------------------\u001b[0m",
      "\u001b[1;31mAttributeError\u001b[0m                            Traceback (most recent call last)",
      "Cell \u001b[1;32mIn[27], line 14\u001b[0m\n\u001b[0;32m     12\u001b[0m \u001b[38;5;28msuper\u001b[39m \u001b[38;5;241m=\u001b[39m Encargos()\n\u001b[0;32m     13\u001b[0m \u001b[38;5;28mprint\u001b[39m(herramientas\u001b[38;5;241m.\u001b[39mver())\n\u001b[1;32m---> 14\u001b[0m \u001b[38;5;28mprint\u001b[39m(\u001b[38;5;28;43msuper\u001b[39;49m\u001b[38;5;241;43m.\u001b[39;49m\u001b[43mver\u001b[49m\u001b[43m(\u001b[49m\u001b[43m)\u001b[49m)\n",
      "Cell \u001b[1;32mIn[27], line 6\u001b[0m, in \u001b[0;36mEncargos.ver\u001b[1;34m(self)\u001b[0m\n\u001b[0;32m      5\u001b[0m \u001b[38;5;28;01mdef\u001b[39;00m \u001b[38;5;21mver\u001b[39m(\u001b[38;5;28mself\u001b[39m):\n\u001b[1;32m----> 6\u001b[0m     \u001b[38;5;28;01mreturn\u001b[39;00m \u001b[38;5;28;43mself\u001b[39;49m\u001b[38;5;241;43m.\u001b[39;49m\u001b[43mlista\u001b[49m\n",
      "\u001b[1;31mAttributeError\u001b[0m: 'Encargos' object has no attribute 'lista'"
     ]
    }
   ],
   "source": [
    "class Encargos:\n",
    "    def agregar(self,data):\n",
    "        self.lista.append(data)\n",
    "\n",
    "    def ver(self):\n",
    "        return self.lista\n",
    "\n",
    "herramientas = Encargos()\n",
    "herramientas.lista = []\n",
    "herramientas.agregar(\"martillo\")\n",
    "herramientas.agregar(\"metro\")\n",
    "super = Encargos()\n",
    "print(herramientas.ver())\n",
    "print(super.ver())"
   ]
  },
  {
   "cell_type": "markdown",
   "metadata": {},
   "source": [
    "aunque esta no es la mejor manera en que podemos solucionar problema ya que tenemos que recordar agregar el atributo de instancia ya que nos dara error si no lo asemos pero tambien podemos solucionar esto"
   ]
  },
  {
   "cell_type": "code",
   "execution_count": null,
   "metadata": {},
   "outputs": [],
   "source": [
    "class Encargos:\n",
    "    def agregar(self,data):\n",
    "        self.lista.append(data)\n",
    "\n",
    "    def ver(self):\n",
    "        return self.lista\n",
    "    \n",
    "    def iniciar(self):\n",
    "        self.lista = []\n"
   ]
  },
  {
   "cell_type": "markdown",
   "metadata": {},
   "source": [
    "pero aqui tenemos otro problema y es que nosotros primero tenemos que  ocupar nuestro metodo inicar para poder ocupar los demas haciendonos que todavia podamos cometer un error entonces tampoco seria lo adecuado para esto nosotros tedriamos usar el metodo init que se ejecutara inmeditamente despues de hacer la instancia de la clase"
   ]
  },
  {
   "cell_type": "code",
   "execution_count": 2,
   "metadata": {},
   "outputs": [
    {
     "name": "stdout",
     "output_type": "stream",
     "text": [
      "0\n",
      "0\n"
     ]
    }
   ],
   "source": [
    "class Empleados:\n",
    "    #atributo de clase\n",
    "    contador = 0\n",
    "    #atributo de instancia\n",
    "    def __init__(self,nombre:str,apellido:str,puesto:str,genero:str) -> None:\n",
    "        self.nombre = nombre\n",
    "        self.apellido = apellido\n",
    "        self.puesto = puesto\n",
    "        self.genero = genero\n",
    "\n",
    "    #metodo de instancia\n",
    "    def calculo_de_salario(self):\n",
    "        self.nombre\n",
    "\n",
    "    @classmethod\n",
    "    def administracion(cls,nombre,apellido,genero):\n",
    "        cls.contador+=1\n",
    "        return cls(nombre,apellido,\"oficinista\",genero)\n",
    "\n",
    "\n",
    "\n",
    "primer_empleado = Empleados(\"susana\",\"rios\",\"gerente\",\"femenino\")\n",
    "segundo_empleado = Empleados(\"gustavo\",\"arrollo\",\"cocinero\",\"masculino\")\n"
   ]
  },
  {
   "cell_type": "markdown",
   "metadata": {},
   "source": [
    "un pequeno vistaso a algo que vermos de maanera mas comun seran la diferencia entre instancia y clase tanto en sus atributo como en sus metodos y es que apesar que son cosas que estaaran en contante contacto y es que un clase tienen tanto metodos que se aplican de manera general y individual y esto lo podemos cada uno de estos tiene sus limitantantes y su manera de trabajar y son las siguientes\n",
    "los metodos de clase solo tendran acceso a la clase como tal a las partes que estas como atributos de clase pero no a los de instancia mientras que las instacias a menos que le pases la referencia de la instancia y su elemento ahora en el caso de los metodos de referencia estos estan en cada referencia por individual y no es buena practica si es que tratamos de acceder a estos atributos de classes"
   ]
  },
  {
   "cell_type": "code",
   "execution_count": null,
   "metadata": {},
   "outputs": [],
   "source": [
    "class Empleados:\n",
    "    #atributo de clase\n",
    "    contador = 0\n",
    "    #atributo de instancia\n",
    "    def __init__(self,nombre:str,apellido:str,puesto:str,genero:str) -> None:\n",
    "        self.nombre = nombre\n",
    "        self.apellido = apellido\n",
    "        self.puesto = puesto\n",
    "        self.genero = genero\n",
    "\n",
    "    #metodo de instancia\n",
    "    def calculo_de_salario(self):\n",
    "        self.nombre\n",
    "\n",
    "    @classmethod\n",
    "    def administracion(cls,nombre,apellido,genero):\n",
    "        cls.contador+=1\n",
    "        return cls(nombre,apellido,\"oficinista\",genero)\n"
   ]
  },
  {
   "cell_type": "markdown",
   "metadata": {},
   "source": [
    "ahora hay que tener en cuenta nosotros podemos hacer tambien hasta sierto punto algo para poder mantener en privado siertos argumentos que tenemos por ejemplo muchas veces necetaremos tener algo como id el cual como tal el usuario no tendria que tener acceso a este id"
   ]
  },
  {
   "cell_type": "code",
   "execution_count": 4,
   "metadata": {},
   "outputs": [
    {
     "name": "stdout",
     "output_type": "stream",
     "text": [
      "1\n",
      "2\n"
     ]
    }
   ],
   "source": [
    "class Empleados:\n",
    "    #atributo de clase\n",
    "    contador = 0\n",
    "    #atributo de instancia\n",
    "    def __init__(self,nombre:str,apellido:str,puesto:str,genero:str) -> None:\n",
    "        Empleados.contador +=1\n",
    "        self.nombre = nombre\n",
    "        self.apellido = apellido\n",
    "        self.puesto = puesto\n",
    "        self.genero = genero\n",
    "        self.__id = self.contador \n",
    "\n",
    "    #metodo de instancia\n",
    "    def presentasion(self):\n",
    "        return self.__id\n",
    "\n",
    "    @classmethod\n",
    "    def administracion(cls,nombre,apellido,genero):\n",
    "        return cls(nombre,apellido,\"oficinista\",genero)\n",
    "\n",
    "trabajador = Empleados(\"carlos\",\"somosa\",\"gerente\",\"masculino\")\n",
    "trabajador1 = Empleados(\"carlos\",\"somosa\",\"gerente\",\"masculino\")\n",
    "\n",
    "print(trabajador.presentasion())\n",
    "print(trabajador1.presentasion())"
   ]
  }
 ],
 "metadata": {
  "kernelspec": {
   "display_name": "Python 3",
   "language": "python",
   "name": "python3"
  },
  "language_info": {
   "codemirror_mode": {
    "name": "ipython",
    "version": 3
   },
   "file_extension": ".py",
   "mimetype": "text/x-python",
   "name": "python",
   "nbconvert_exporter": "python",
   "pygments_lexer": "ipython3",
   "version": "3.12.2"
  }
 },
 "nbformat": 4,
 "nbformat_minor": 2
}
