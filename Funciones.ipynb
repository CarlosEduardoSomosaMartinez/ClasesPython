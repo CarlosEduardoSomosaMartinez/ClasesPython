{
 "cells": [
  {
   "cell_type": "markdown",
   "id": "8d6aa6f0-6bc5-49fa-b25a-4fd195eb4f45",
   "metadata": {},
   "source": [
    "En términos prácticos, una función es simplemente un bloque de código que podemos utilizar varias veces en nuestro código. Un ejemplo sería:"
   ]
  },
  {
   "cell_type": "code",
   "execution_count": null,
   "id": "e42d0b7b-39ed-47de-9f09-268c6278444e",
   "metadata": {},
   "outputs": [],
   "source": [
    "def daludar():\n",
    "    print(\"este es una funcion\")"
   ]
  },
  {
   "cell_type": "markdown",
   "id": "5358a1a3-8c59-4920-843b-601954659626",
   "metadata": {},
   "source": [
    "Nosotros solo y únicamente podemos usar una función después de haberla declarado. Por ejemplo:"
   ]
  },
  {
   "cell_type": "code",
   "execution_count": 2,
   "id": "4a1e3c9a-fc0f-43a8-8977-3344f1deb2ff",
   "metadata": {},
   "outputs": [
    {
     "ename": "NameError",
     "evalue": "name 'despedida' is not defined",
     "output_type": "error",
     "traceback": [
      "\u001b[1;31m---------------------------------------------------------------------------\u001b[0m",
      "\u001b[1;31mNameError\u001b[0m                                 Traceback (most recent call last)",
      "Cell \u001b[1;32mIn[2], line 1\u001b[0m\n\u001b[1;32m----> 1\u001b[0m \u001b[43mdespedida\u001b[49m()\n\u001b[0;32m      3\u001b[0m \u001b[38;5;28;01mdef\u001b[39;00m \u001b[38;5;21mdespedida\u001b[39m():\n\u001b[0;32m      4\u001b[0m     \u001b[38;5;28mprint\u001b[39m(\u001b[38;5;124m\"\u001b[39m\u001b[38;5;124mesta es una despedida\u001b[39m\u001b[38;5;124m\"\u001b[39m)\n",
      "\u001b[1;31mNameError\u001b[0m: name 'despedida' is not defined"
     ]
    }
   ],
   "source": [
    "despedida()\n",
    "\n",
    "def despedida():\n",
    "    print(\"esta es una despedida\")"
   ]
  },
  {
   "cell_type": "markdown",
   "id": "66c08ed7-fd11-405b-a5b3-64768ee68413",
   "metadata": {},
   "source": [
    "Podemos hacer que una función retorne un resultado usando la palabra reservada `return`, seguida de lo que queremos retornar."
   ]
  },
  {
   "cell_type": "code",
   "execution_count": 6,
   "id": "9af7081b-8c9a-4238-b770-61321bbb1644",
   "metadata": {},
   "outputs": [
    {
     "name": "stdout",
     "output_type": "stream",
     "text": [
      "3.1415\n"
     ]
    }
   ],
   "source": [
    "def funcion_pi():\n",
    "    numero_pi = 3.1415\n",
    "    return numero_pi\n",
    "\n",
    "\n",
    "print(funcion_pi())"
   ]
  },
  {
   "cell_type": "markdown",
   "id": "df49ded2-f65a-4b14-89db-ff211b78670a",
   "metadata": {},
   "source": [
    "Si nosotros usamos este `return`, después de él se termina la ejecución de la función, por lo cual ya no podemos seguir ejecutando más instrucciones después de él."
   ]
  },
  {
   "cell_type": "code",
   "execution_count": 7,
   "id": "b7edb747-e2d7-4f82-8a0d-f68af8d5df8c",
   "metadata": {},
   "outputs": [],
   "source": [
    "def demo():\n",
    "    return 0\n",
    "    print(\"esto ya no se ejecutara\")"
   ]
  },
  {
   "cell_type": "code",
   "execution_count": 8,
   "id": "13cedf18-6409-4ee9-8d86-a36cd4e90f6f",
   "metadata": {},
   "outputs": [
    {
     "name": "stdout",
     "output_type": "stream",
     "text": [
      "0\n"
     ]
    }
   ],
   "source": [
    "print(demo())"
   ]
  },
  {
   "cell_type": "markdown",
   "id": "174099ab-1f3d-4215-94a2-ac6c05d2ed55",
   "metadata": {},
   "source": [
    "Si nosotros no especificamos qué retornar, esto nos dará `None` como resultado. También sería lo mismo no retornar nada."
   ]
  },
  {
   "cell_type": "code",
   "execution_count": 11,
   "id": "1123e836-538d-42cb-8264-97442245d1e0",
   "metadata": {},
   "outputs": [
    {
     "name": "stdout",
     "output_type": "stream",
     "text": [
      "None\n"
     ]
    }
   ],
   "source": [
    "def funcion():\n",
    "    pass\n",
    "    #aqui nosotros podemos escribir  las intrucciones\n",
    "valor = funcion()\n",
    "print(valor)"
   ]
  },
  {
   "cell_type": "markdown",
   "id": "30d24b04-62d0-4df8-a46b-02b6ee2b3546",
   "metadata": {},
   "source": [
    "Se puede hacer que una función retorne más de un valor, y esto se logra por medio de tuplas. Podemos separar los valores por comas en el `return`, lo que retornará una tupla con tantos elementos como hayamos incluido en nuestro `return`."
   ]
  },
  {
   "cell_type": "code",
   "execution_count": 13,
   "id": "8e5660c3-d43d-4123-ac4c-2aea64919aad",
   "metadata": {},
   "outputs": [
    {
     "name": "stdout",
     "output_type": "stream",
     "text": [
      "<class 'tuple'>\n"
     ]
    }
   ],
   "source": [
    "def saluda():\n",
    "    return \"hola\",\"mundo\"\n",
    "\n",
    "hola = saluda()\n",
    "\n",
    "print(type(hola))"
   ]
  },
  {
   "cell_type": "markdown",
   "id": "55e8fa1e-53a1-4180-bddb-81e8e7cc58da",
   "metadata": {},
   "source": [
    "Ahora nosotros también podemos reducir esto a una sola línea, reduciendo la función."
   ]
  },
  {
   "cell_type": "code",
   "execution_count": 14,
   "id": "a975714b-e367-4e1e-9425-2b8188e90fac",
   "metadata": {},
   "outputs": [
    {
     "name": "stdout",
     "output_type": "stream",
     "text": [
      "hey que tal\n"
     ]
    }
   ],
   "source": [
    "def saludo():return \"hey que tal\"\n",
    "print(saludo())"
   ]
  },
  {
   "cell_type": "markdown",
   "id": "e0fe1851-056f-4e07-8211-bcdbd486dc07",
   "metadata": {},
   "source": [
    "Los parámetros que puede recibir una función son los que se consideren necesarios para dicha función, y estos se tienen que especificar en la parte del paréntesis dentro de la función. Estos parámetros funcionarán como variables dentro de la función y solo se podrán usar dentro de la función.\n",
    "\n",
    "Al momento de nosotros querer usar la función, pasaremos los argumentos en el orden que especificamos en su declaración, y estos tomarán el valor de dichos argumentos dentro de la función. Este paso de valor se le denomina \"por posición\"."
   ]
  },
  {
   "cell_type": "code",
   "execution_count": 16,
   "id": "c2f7d4dd-b704-423b-8487-098478b15f3d",
   "metadata": {},
   "outputs": [
    {
     "name": "stdout",
     "output_type": "stream",
     "text": [
      "4\n"
     ]
    }
   ],
   "source": [
    "def potencia(primero,segundo):\n",
    "    return primero ** segundo\n",
    "\n",
    "print(potencia(2,2))"
   ]
  },
  {
   "cell_type": "markdown",
   "id": "1372f047-7c99-4b9e-a49e-844273e5cd68",
   "metadata": {},
   "source": [
    "Nosotros podemos pasar argumentos a funciones de diferentes maneras, ya sea de manera continua o de manera salteada."
   ]
  },
  {
   "cell_type": "code",
   "execution_count": null,
   "id": "11b1a8e7-5d5f-46a9-99c7-dc0cf3c07168",
   "metadata": {},
   "outputs": [],
   "source": [
    "def  elavoracion_de_frase(nombre,apellido,edad):\n",
    "    return f\"tu nombre es {nombre} {apellido} y tu edad es {edad}\"\n",
    "\n",
    "print(elavoracion_de_frase(\"david\",\"campos\",90))\n",
    "frase = elavoracion_de_frase(\n",
    "    \"hernesto\",\n",
    "    \"rios\",\n",
    "    90\n",
    ")"
   ]
  },
  {
   "cell_type": "markdown",
   "id": "06806c17-ff35-4d24-b427-4b1f3ed1fc51",
   "metadata": {},
   "source": [
    "Si nosotros no pasamos argumentos a una función que sí los espera, esto nos puede generar un error de \"falta de argumentos\"."
   ]
  },
  {
   "cell_type": "code",
   "execution_count": null,
   "id": "d1ef6c19-c83d-42c2-b914-5caf6814cc09",
   "metadata": {},
   "outputs": [],
   "source": [
    "def eco(a):\n",
    "   return a\n",
    "print(eco())"
   ]
  },
  {
   "cell_type": "markdown",
   "id": "815e44ef-ce80-4e77-9dc8-646afafb5717",
   "metadata": {},
   "source": [
    "Ahora nosotros podemos poner valores por defecto a un parámetro en la definición de una función. Para hacerlo, solo hay que asignarlo usando nuestro signo de igual tras la declaración."
   ]
  },
  {
   "cell_type": "code",
   "execution_count": 4,
   "id": "e9685479-b007-4bfb-a35f-2e5a83e9d6ae",
   "metadata": {},
   "outputs": [
    {
     "name": "stdout",
     "output_type": "stream",
     "text": [
      "Tabla de multiplicar del 5\n",
      "Impresa automaticamente por nombre\n",
      "5 x 1 = 5\n",
      "5 x 2 = 10\n",
      "5 x 3 = 15\n",
      "5 x 4 = 20\n",
      "5 x 5 = 25\n",
      "5 x 6 = 30\n",
      "5 x 7 = 35\n",
      "5 x 8 = 40\n",
      "5 x 9 = 45\n",
      "5 x 10 = 50\n"
     ]
    }
   ],
   "source": [
    "\n",
    "def tabla_de_multiplicar(nombre,numero=1):\n",
    "    print(f\"Tabla de multiplicar del { numero}\")\n",
    "    print(f\"Impresa automaticamente por {nombre}\")\n",
    "    i = 1\n",
    "    while i < 11:\n",
    "        print(f\"{numero} x {i} = {numero*i}\")\n",
    "        i +=1\n",
    "tabla_de_multiplicar(\"nombre\",5)\n"
   ]
  },
  {
   "cell_type": "markdown",
   "id": "39bd5419-4bdc-4222-bad9-2ebc075af954",
   "metadata": {},
   "source": [
    "Nosotros podemos combinar este tipo de asignación por defecto con la asignación por nombre. Por ejemplo:"
   ]
  },
  {
   "cell_type": "code",
   "execution_count": 11,
   "id": "94760b93-2e45-4437-ad6e-27cfb970e86a",
   "metadata": {},
   "outputs": [
    {
     "ename": "SyntaxError",
     "evalue": "positional argument follows keyword argument (3762123392.py, line 6)",
     "output_type": "error",
     "traceback": [
      "\u001b[1;36m  Cell \u001b[1;32mIn[11], line 6\u001b[1;36m\u001b[0m\n\u001b[1;33m    print(datos(nombre=\"alex\",edad=19,\"juarez\"))\u001b[0m\n\u001b[1;37m                                              ^\u001b[0m\n\u001b[1;31mSyntaxError\u001b[0m\u001b[1;31m:\u001b[0m positional argument follows keyword argument\n"
     ]
    }
   ],
   "source": [
    "def datos(nombre=\"nameless\",apellido=\"rios\",edad=18):\n",
    "    return f\"su nombre es {nombre} {apellido} edad {edad}\"\n",
    "\n",
    "print(datos(\"carlos\",\"zamora\",19))\n",
    "print(datos(nombre=\"henesto\",edad=90,apellido=\"dd\"))\n",
    "print(datos(nombre=\"alex\",edad=19,\"juarez\"))"
   ]
  },
  {
   "cell_type": "markdown",
   "id": "e8a8f2cc-a838-41b6-a8bd-a26c5db18121",
   "metadata": {},
   "source": [
    "El paso de argumentos siempre es por posición y luego es por asignación si es que se combinan. Si solo se hace por asignación, este puede tener el orden que sea."
   ]
  }
 ],
 "metadata": {
  "kernelspec": {
   "display_name": "Python 3 (ipykernel)",
   "language": "python",
   "name": "python3"
  },
  "language_info": {
   "codemirror_mode": {
    "name": "ipython",
    "version": 3
   },
   "file_extension": ".py",
   "mimetype": "text/x-python",
   "name": "python",
   "nbconvert_exporter": "python",
   "pygments_lexer": "ipython3",
   "version": "3.12.2"
  }
 },
 "nbformat": 4,
 "nbformat_minor": 5
}
