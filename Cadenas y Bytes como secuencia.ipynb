{
 "cells": [
  {
   "cell_type": "markdown",
   "id": "be6b15a0-837c-4d2a-ab54-84b39e8d1564",
   "metadata": {},
   "source": [
    "Una secuencia en Python es una serie de objetos especiales que contiene, a su vez, un conjunto de objetos ordenados de manera secuencial. En el caso de str, estos son caracteres, y en el caso de bytes, son bytes que los componen. Esto nos permite acceder a ellos de manera individual. Para poder acceder a este tipo de datos, se utiliza una notación específica."
   ]
  },
  {
   "cell_type": "code",
   "execution_count": 1,
   "id": "33cca1b4-c37c-467c-b826-6ee9ead9f36d",
   "metadata": {},
   "outputs": [
    {
     "name": "stdout",
     "output_type": "stream",
     "text": [
      "o\n"
     ]
    }
   ],
   "source": [
    "print(\"Hola\"[1])"
   ]
  },
  {
   "cell_type": "markdown",
   "id": "42e6191a-821c-47f7-b9fd-de48e63e98c2",
   "metadata": {},
   "source": [
    "<p>en caso de los bytes es exactamente lo mismo</p>"
   ]
  },
  {
   "cell_type": "code",
   "execution_count": 2,
   "id": "e46ce6f7-7a6f-40fc-a5e9-54b275a72550",
   "metadata": {},
   "outputs": [
    {
     "name": "stdout",
     "output_type": "stream",
     "text": [
      "100\n"
     ]
    }
   ],
   "source": [
    "print(b\"adios\"[1])"
   ]
  },
  {
   "cell_type": "markdown",
   "id": "d6fd7b84-60aa-4a2d-ac3b-4e37436d9f6c",
   "metadata": {},
   "source": [
    "En caso de que pongamos un índice que no esté dentro del rango, pasará algo muy característico, y es que nos dará un error de índice fuera de rango. Además, hay que hacer una pequeña anotación: el objeto al que estemos accediendo será del mismo tipo de dato que el que nos devuelve"
   ]
  },
  {
   "cell_type": "code",
   "execution_count": 3,
   "id": "50593887-7c15-46d1-8005-920abb6c3e2e",
   "metadata": {},
   "outputs": [
    {
     "ename": "IndexError",
     "evalue": "index out of range",
     "output_type": "error",
     "traceback": [
      "\u001b[1;31m---------------------------------------------------------------------------\u001b[0m",
      "\u001b[1;31mIndexError\u001b[0m                                Traceback (most recent call last)",
      "Cell \u001b[1;32mIn[3], line 1\u001b[0m\n\u001b[1;32m----> 1\u001b[0m \u001b[38;5;28mprint\u001b[39m(\u001b[38;5;124;43mb\u001b[39;49m\u001b[38;5;124;43m\"\u001b[39;49m\u001b[38;5;124;43mesto es una prueba\u001b[39;49m\u001b[38;5;124;43m\"\u001b[39;49m\u001b[43m[\u001b[49m\u001b[38;5;241;43m11000\u001b[39;49m\u001b[43m]\u001b[49m)\n",
      "\u001b[1;31mIndexError\u001b[0m: index out of range"
     ]
    }
   ],
   "source": [
    "print(b\"esto es una prueba\"[11000])"
   ]
  },
  {
   "cell_type": "code",
   "execution_count": 4,
   "id": "47b6b28c-6ad1-4ba0-834d-160ca8b0a646",
   "metadata": {},
   "outputs": [
    {
     "name": "stdout",
     "output_type": "stream",
     "text": [
      "<class 'str'>\n"
     ]
    }
   ],
   "source": [
    "print(type(\"string\"[1]))"
   ]
  }
 ],
 "metadata": {
  "kernelspec": {
   "display_name": "Python 3 (ipykernel)",
   "language": "python",
   "name": "python3"
  },
  "language_info": {
   "codemirror_mode": {
    "name": "ipython",
    "version": 3
   },
   "file_extension": ".py",
   "mimetype": "text/x-python",
   "name": "python",
   "nbconvert_exporter": "python",
   "pygments_lexer": "ipython3",
   "version": "3.12.2"
  }
 },
 "nbformat": 4,
 "nbformat_minor": 5
}
