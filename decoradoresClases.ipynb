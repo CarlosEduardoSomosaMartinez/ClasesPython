{
 "cells": [
  {
   "cell_type": "markdown",
   "metadata": {},
   "source": [
    "los metodos no son mas que funciones en una clase por lo cual es perfectamente aplicable el que nuestros metodos tengas decoradores solo hay pequenas diferencias que nosotos tenemos que aplicar por ejemplo recordar que nuestros metodos de instancia con metodos cuyo primer argumento es la instancia ala que pertenece(self)"
   ]
  },
  {
   "cell_type": "code",
   "execution_count": null,
   "metadata": {},
   "outputs": [],
   "source": [
    "def decorador(func):\n",
    "    def wrapper(self,*args,**kwargs):\n",
    "        return func(self)\n",
    "    return wrapper\n",
    "\n",
    "class Gente:\n",
    "\n",
    "    def __init__(self,nombre,edad) :\n",
    "        self.nombre = nombre\n",
    "        self.edad = edad\n",
    "    \n",
    "    \n",
    "    @decorador\n",
    "    def saludar(self):\n",
    "        pass"
   ]
  },
  {
   "cell_type": "markdown",
   "metadata": {},
   "source": [
    "ahoraa viene otra parte importante y es que nosotros podemos usar estos decoradores con las clases y practicamente actuan de la misma manera "
   ]
  },
  {
   "cell_type": "code",
   "execution_count": null,
   "metadata": {},
   "outputs": [],
   "source": [
    "def mi_decorador(clase):\n",
    "    def saluda(self):\n",
    "        print('hola')\n",
    "    \n",
    "    def salir(self):\n",
    "        print(\"adios\")\n",
    "    \n",
    "    clase.saluda = saluda\n",
    "    clase.salir = salir\n",
    "\n",
    "    return clase\n",
    "\n",
    "@mi_decorador\n",
    "class Persona:\n",
    "    \n",
    "    def __init__(self,nombre,edad) -> None:\n",
    "        self.nombre = nombre\n",
    "        self.edad = edad"
   ]
  }
 ],
 "metadata": {
  "language_info": {
   "name": "python"
  }
 },
 "nbformat": 4,
 "nbformat_minor": 2
}
