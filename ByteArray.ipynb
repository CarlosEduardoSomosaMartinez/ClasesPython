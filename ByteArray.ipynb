{
 "cells": [
  {
   "cell_type": "markdown",
   "id": "634556c0-ccae-4b44-82b2-a6b3faf72e53",
   "metadata": {},
   "source": [
    "\"¿Qué es un bytearray? Pues no es más que un bytes, pero con la característica de que son mutables. Ahora, la manera en que nosotros definimos este tipo de estructura de datos es muy sencilla, simplemente ponemos lo siguiente:\""
   ]
  },
  {
   "cell_type": "code",
   "execution_count": 13,
   "id": "a7a193bf-9ed7-46fe-944c-60b5f982c063",
   "metadata": {},
   "outputs": [
    {
     "name": "stdout",
     "output_type": "stream",
     "text": [
      "32\n",
      "bytearray(b'estoNes un mensaje;')\n"
     ]
    }
   ],
   "source": [
    "arreglo_de_bytearray = bytearray(\"esto es un mensaje;\",\"utf-8\",\"ignore\")\n",
    "print(arreglo_de_bytearray[4])\n",
    "arreglo_de_bytearray[4] = 78\n",
    "print(arreglo_de_bytearray)"
   ]
  },
  {
   "cell_type": "markdown",
   "id": "fa97849d-9b3f-44aa-84f5-7841a17e0f02",
   "metadata": {},
   "source": [
    " \"¿Qué más podemos recibir en estos parámetros? También se le puede pasar un iterable de enteros con valores de 0 a 255. De este modo, se retorna un arreglo. También podemos pasarle un bytes.\""
   ]
  },
  {
   "cell_type": "code",
   "execution_count": 22,
   "id": "342aa571-255f-4f54-93a0-fda2699a5352",
   "metadata": {},
   "outputs": [
    {
     "name": "stdout",
     "output_type": "stream",
     "text": [
      "!!\n"
     ]
    }
   ],
   "source": [
    "arreglo = bytearray([33,33])\n",
    "print(arreglo.decode())"
   ]
  }
 ],
 "metadata": {
  "kernelspec": {
   "display_name": "Python 3 (ipykernel)",
   "language": "python",
   "name": "python3"
  },
  "language_info": {
   "codemirror_mode": {
    "name": "ipython",
    "version": 3
   },
   "file_extension": ".py",
   "mimetype": "text/x-python",
   "name": "python",
   "nbconvert_exporter": "python",
   "pygments_lexer": "ipython3",
   "version": "3.12.2"
  }
 },
 "nbformat": 4,
 "nbformat_minor": 5
}
