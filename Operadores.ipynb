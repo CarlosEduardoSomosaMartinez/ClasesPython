{
 "cells": [
  {
   "cell_type": "markdown",
   "id": "e315155c-4936-4a41-8c30-875761eec8db",
   "metadata": {},
   "source": [
    "que es un operador en si bueno esto es   un elemento del lenguaje que represnta una accion sobre nuestros datos  ahora la mayoria de estos operadores afectan sobre dos datos pero encontraremos que hay operadores de tipo unario estos operadores de tipo unario octuan sobre un valor  las operaciones que aresmmo son expresiones  cuando python las encuentra evalua su resultado en algunos momentos nosostros ya hemmos visto que existe diversas operaciones y como estas operaciones pueden ser un poco diferentes en diferentes tipos de datos incluso esclusivo a diferentes tipos de ddatos"
   ]
  },
  {
   "cell_type": "markdown",
   "id": "f9e7d786-8c4e-4e34-ba66-f174d0e99c0c",
   "metadata": {},
   "source": [
    "<h1>operadores matematicos</h1>"
   ]
  },
  {
   "cell_type": "markdown",
   "id": "d0f3cbb4-d682-40cc-afb8-af713e4b2f2a",
   "metadata": {},
   "source": [
    "se aplican a valor numericos y representan operaciones matematicas"
   ]
  },
  {
   "cell_type": "code",
   "execution_count": 3,
   "id": "7da23de8-820f-498a-9a4d-16e26e00acb3",
   "metadata": {},
   "outputs": [
    {
     "name": "stdout",
     "output_type": "stream",
     "text": [
      "4\n",
      "0\n",
      "16\n",
      "1.0\n",
      "81\n",
      "0\n",
      "3\n"
     ]
    }
   ],
   "source": [
    "print(2+2)\n",
    "print(3-3)\n",
    "print(4*4)\n",
    "print(5/5)\n",
    "print(9**2)\n",
    "print(7//58)\n",
    "print(12%9)\n"
   ]
  },
  {
   "cell_type": "markdown",
   "id": "6c7fe097-fa11-4412-a926-b706be79d3b8",
   "metadata": {},
   "source": [
    "<h1>Asignacion</h1>"
   ]
  },
  {
   "cell_type": "markdown",
   "id": "b3b5161d-bcd7-4ad4-8f9f-1933c123f510",
   "metadata": {},
   "source": [
    "los operadores de asignacion su funcionamiento es muy simple hara lo mismo solo que el valor resultante sera asignado a la primera variable"
   ]
  },
  {
   "cell_type": "code",
   "execution_count": 4,
   "id": "c2d3eb2e-2f8b-47e7-a360-51c02fb0c534",
   "metadata": {},
   "outputs": [],
   "source": [
    "a = 1\n",
    "a += 1\n",
    "a -= 1\n",
    "a = 2\n",
    "a *= 3\n",
    "a /= 2\n",
    "a **= 5\n",
    "a //= 2\n",
    "a %= 2"
   ]
  },
  {
   "cell_type": "markdown",
   "id": "14a0cf29-1975-4e46-854d-203ca52503a0",
   "metadata": {},
   "source": [
    "<h1>Operadores de Comparacion</h1>"
   ]
  },
  {
   "cell_type": "markdown",
   "id": "3facfb0d-3f8a-45a8-ada8-04f4b9306843",
   "metadata": {},
   "source": [
    "los operadores de comparacion son operadores que nos regresaran un dato booleano de tipo entreo "
   ]
  },
  {
   "cell_type": "code",
   "execution_count": 7,
   "id": "3bf9686c-9217-4f8e-aabe-1741ce31ca7c",
   "metadata": {},
   "outputs": [
    {
     "data": {
      "text/plain": [
       "'==\\n!=\\n>\\n<\\n>=\\n<='"
      ]
     },
     "execution_count": 7,
     "metadata": {},
     "output_type": "execute_result"
    }
   ],
   "source": [
    "\"\"\"==\n",
    "!=\n",
    ">\n",
    "<\n",
    ">=\n",
    "<=\"\"\""
   ]
  },
  {
   "cell_type": "markdown",
   "id": "05fd3cc3-46fe-416e-b6fa-9bf4776c7c6b",
   "metadata": {},
   "source": [
    "<h1>Operadores de cadenas y secuencias</h1>"
   ]
  },
  {
   "cell_type": "code",
   "execution_count": 8,
   "id": "187b13cf-ad9a-4fe9-ad6a-a87e02c03a10",
   "metadata": {},
   "outputs": [],
   "source": [
    "# + *\n"
   ]
  },
  {
   "cell_type": "markdown",
   "id": "7f7c0823-8dfd-45c2-8915-12500d546c7a",
   "metadata": {},
   "source": [
    "<h1>Operadores Logicos</h1>"
   ]
  },
  {
   "cell_type": "code",
   "execution_count": 9,
   "id": "a663209f-f53e-4deb-87b1-dfd4417705f7",
   "metadata": {},
   "outputs": [
    {
     "ename": "SyntaxError",
     "evalue": "invalid syntax (4233229965.py, line 1)",
     "output_type": "error",
     "traceback": [
      "\u001b[1;36m  Cell \u001b[1;32mIn[9], line 1\u001b[1;36m\u001b[0m\n\u001b[1;33m    and\u001b[0m\n\u001b[1;37m    ^\u001b[0m\n\u001b[1;31mSyntaxError\u001b[0m\u001b[1;31m:\u001b[0m invalid syntax\n"
     ]
    }
   ],
   "source": [
    "and \n",
    "or \n",
    "not\n"
   ]
  },
  {
   "cell_type": "markdown",
   "id": "bd84daa5-2b52-48ff-8bac-1e5068402b2b",
   "metadata": {},
   "source": [
    "<h1>Operador de indentidad y Pertenencia</h1>"
   ]
  },
  {
   "cell_type": "code",
   "execution_count": 10,
   "id": "faf81464-923d-4aa1-b02a-72bcd8e3c17b",
   "metadata": {},
   "outputs": [
    {
     "ename": "SyntaxError",
     "evalue": "invalid syntax (969066519.py, line 1)",
     "output_type": "error",
     "traceback": [
      "\u001b[1;36m  Cell \u001b[1;32mIn[10], line 1\u001b[1;36m\u001b[0m\n\u001b[1;33m    is\u001b[0m\n\u001b[1;37m    ^\u001b[0m\n\u001b[1;31mSyntaxError\u001b[0m\u001b[1;31m:\u001b[0m invalid syntax\n"
     ]
    }
   ],
   "source": [
    "is \n",
    "not is\n",
    "in \n",
    "not in"
   ]
  },
  {
   "cell_type": "markdown",
   "id": "974ce65e-ac63-4321-9234-cd716af14eb2",
   "metadata": {},
   "source": [
    "<h1>Operadores de conjunto</h1>"
   ]
  },
  {
   "cell_type": "code",
   "execution_count": 11,
   "id": "6300e58a-6c6a-4839-ac34-604496afda03",
   "metadata": {},
   "outputs": [
    {
     "ename": "SyntaxError",
     "evalue": "invalid syntax (2860183134.py, line 1)",
     "output_type": "error",
     "traceback": [
      "\u001b[1;36m  Cell \u001b[1;32mIn[11], line 1\u001b[1;36m\u001b[0m\n\u001b[1;33m    | #union\u001b[0m\n\u001b[1;37m    ^\u001b[0m\n\u001b[1;31mSyntaxError\u001b[0m\u001b[1;31m:\u001b[0m invalid syntax\n"
     ]
    }
   ],
   "source": [
    "| #unions\n",
    "& #inserction\n",
    "- #diferencia\n",
    "^ #diferencia simetrica"
   ]
  },
  {
   "cell_type": "code",
   "execution_count": null,
   "id": "5bfc1174-77c5-4e56-8611-6da70764a252",
   "metadata": {},
   "outputs": [],
   "source": []
  },
  {
   "cell_type": "code",
   "execution_count": null,
   "id": "54cd90a9-30ec-4eae-ba34-356c4ea2d14e",
   "metadata": {},
   "outputs": [],
   "source": []
  }
 ],
 "metadata": {
  "kernelspec": {
   "display_name": "Python 3 (ipykernel)",
   "language": "python",
   "name": "python3"
  },
  "language_info": {
   "codemirror_mode": {
    "name": "ipython",
    "version": 3
   },
   "file_extension": ".py",
   "mimetype": "text/x-python",
   "name": "python",
   "nbconvert_exporter": "python",
   "pygments_lexer": "ipython3",
   "version": "3.12.2"
  }
 },
 "nbformat": 4,
 "nbformat_minor": 5
}
