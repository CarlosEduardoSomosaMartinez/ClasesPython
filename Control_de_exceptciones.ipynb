{
 "cells": [
  {
   "cell_type": "markdown",
   "id": "ee5fc74c-c147-4a4e-8cb1-fe11eed4bbb7",
   "metadata": {},
   "source": [
    "Las cosas siempre pueden fallar, y eso es algo que también tenemos que entender y aprender a manejar. Estos errores pueden deberse a inconsistencias en los datos o en el código. Como programadores, es nuestra responsabilidad manejar estos errores de manera adecuada.\n",
    "\n",
    "La principal forma en que vamos a abordar los errores es siguiendo el principio EAFP (It's easier to ask for forgiveness than permission). La idea consiste en permitir que los errores ocurran, pero capturarlos y manejarlos de manera apropiada."
   ]
  },
  {
   "cell_type": "markdown",
   "id": "2710fac8-4305-4996-b9b7-ba9ff495ff30",
   "metadata": {},
   "source": [
    "Para usar esto, utilizaremos un bloque `try`, que intentará ejecutar cierto código. Si este código lanza cualquier excepción, entonces se ejecutará el bloque contenido en `except`. En caso contrario, se ejecutará el programa sin considerar el bloque de `except`."
   ]
  },
  {
   "cell_type": "code",
   "execution_count": 1,
   "id": "c165213c-9321-400e-8c42-7afe18ad3461",
   "metadata": {},
   "outputs": [
    {
     "name": "stdout",
     "output_type": "stream",
     "text": [
      "la division entre cero es imposible\n",
      "el programa segira corriendo\n"
     ]
    }
   ],
   "source": [
    "dividiendo = 10\n",
    "divisor = 0 \n",
    "\n",
    "try:\n",
    "    resultado = dividiendo / divisor\n",
    "    print(f\"el resultado de la division es de {resultado}\")\n",
    "except:\n",
    "    if divisor == 0:\n",
    "        print(\"la division entre cero es imposible\")\n",
    "print(\"el programa segira corriendo\")"
   ]
  },
  {
   "cell_type": "markdown",
   "id": "195ee723-39fb-4e06-8e35-666a0fe60578",
   "metadata": {},
   "source": [
    "Ahora nosotros podemos utilizar este bloque de una manera un poco más específica para capturar excepciones. Podemos hacerlo especificando qué tipo de excepción queremos capturar utilizando la palabra clave `except`, seguida del nombre de la excepción. De esta manera, podemos ser más específicos."
   ]
  },
  {
   "cell_type": "code",
   "execution_count": null,
   "id": "3d6ecc36-23ca-4bef-a125-0cb95b7645e8",
   "metadata": {},
   "outputs": [],
   "source": [
    "dividiendo = 10\n",
    "divisor = 0\n",
    "\n",
    "try:\n",
    "    resultado = dividiendo / divisor\n",
    "    print(f\"se ejecuto la division con exito {resultado}\")\n",
    "except ZeroDivisionError:\n",
    "    print(\"NO SE PUEDE DIVIDIR POR SERO\")\n",
    "except TypeError:\n",
    "    print(\"Esto no es un numero\")\n",
    "\n",
    "print(\"el programa segira corriendo\")"
   ]
  },
  {
   "cell_type": "markdown",
   "id": "d7a6e590-b401-4b85-a2f9-bce273b0fae3",
   "metadata": {},
   "source": [
    "Ahora nosotros podemos tener una excepción que tenga una mayor jerarquía, lo que significa que atrapará las excepciones de menor jerarquía. La excepción con mayor jerarquía es `Exception`, la cual atrapará a todas en general. Así que nosotros podemos organizar las excepciones de la más específica a la más general. Por ejemplo:"
   ]
  },
  {
   "cell_type": "code",
   "execution_count": null,
   "id": "df417ec2-5236-40d4-b7a5-ad0d3585a1c5",
   "metadata": {},
   "outputs": [],
   "source": [
    "dividiendo = 10\n",
    "divisor = 0\n",
    "try:\n",
    "    resultado =dividiendo / divisor\n",
    "    print(f\"el resultado es {resultado}\")\n",
    "except ZeroDivisionError:\n",
    "    print(\"No puedo dividir por cero\")\n",
    "except TypeError:\n",
    "    print(\"error no es un numero\")\n",
    "except Exception:\n",
    "    print(\"H pasado algo pero no se que es ezactamente\")\n",
    "    \n",
    "print(\"el codigo continua\")"
   ]
  },
  {
   "cell_type": "markdown",
   "id": "a5908cc2-6724-47f8-a6f5-91a0fc22faee",
   "metadata": {},
   "source": [
    "Ahora nosotros podemos referenciar a la instancia concreta de la excepción con `except`, usando la palabra reservada `as` seguida del nombre que queremos usar. Esto es útil principalmente para poder mostrar el detalle del error."
   ]
  },
  {
   "cell_type": "code",
   "execution_count": 2,
   "id": "f6a1570d-ff51-47d0-a560-56d9545f4e7d",
   "metadata": {},
   "outputs": [
    {
     "name": "stdout",
     "output_type": "stream",
     "text": [
      "No puedo dividir por cero division by zero\n",
      "el codigo continua\n"
     ]
    }
   ],
   "source": [
    "dividiendo = 10\n",
    "divisor = 0\n",
    "try:\n",
    "    resultado =dividiendo / divisor\n",
    "    print(f\"el resultado es {resultado}\")\n",
    "except ZeroDivisionError as error:\n",
    "    print(f\"No puedo dividir por cero {error}\")\n",
    "except TypeError as error:\n",
    "    print(\"error no es un numero\")\n",
    "except Exception as error:\n",
    "    print(\"H pasado algo pero no se que es ezactamente\")\n",
    "    \n",
    "print(\"el codigo continua\")"
   ]
  },
  {
   "cell_type": "markdown",
   "id": "bc70e98c-2f21-4c01-b072-5a4a8ae3fdca",
   "metadata": {},
   "source": [
    "En este caso, `as` es una palabra reservada que lo que hará es renombrar el error. A lo largo veremos que tiene más utilidades de esa naturaleza, como renombramiento de módulos y renombramiento de clases."
   ]
  },
  {
   "cell_type": "markdown",
   "id": "c179fb68-49d5-48b4-b6cd-715eadeac3d2",
   "metadata": {},
   "source": [
    "Nosotros podemos evaluar más de una condición en una misma cláusula `except`."
   ]
  },
  {
   "cell_type": "code",
   "execution_count": 5,
   "id": "b63ccbeb-cb99-49f4-9c57-9c28d3a25f05",
   "metadata": {},
   "outputs": [
    {
     "name": "stdout",
     "output_type": "stream",
     "text": [
      "Error d unsupported operand type(s) for /: 'str' and 'int'\n"
     ]
    }
   ],
   "source": [
    "dividiendo = \"d\"\n",
    "divisor = 0\n",
    "try:\n",
    "    resultado = dividiendo/ divisor\n",
    "except (ZeroDivisionError,TypeError) as err:\n",
    "    print(\"Error d\",err)"
   ]
  },
  {
   "cell_type": "markdown",
   "id": "091e7d46-bb79-4fdc-9391-e638b1fd050b",
   "metadata": {},
   "source": [
    "La estructura `try`-`except` es similar pero con más potencia que un `if`, ya que nos permite manejar excepciones. También podemos aplicar la sentencia `else`, la cual se ejecutará si no se producen errores en el bloque `try`."
   ]
  },
  {
   "cell_type": "code",
   "execution_count": null,
   "id": "3859398e-85c4-49d2-b25d-66c23b59c0cc",
   "metadata": {},
   "outputs": [],
   "source": [
    "dividiendo = 10 \n",
    "divisor = 0\n",
    "try:\n",
    "    resultado = dividiendo/divisor\n",
    "except(ZeroDivisionError ,TypeError) as aerr:\n",
    "    print(f\"esto es el error {aerr} \")\n",
    "else:\n",
    "    print(\"la divison dio resultado \")"
   ]
  },
  {
   "cell_type": "markdown",
   "id": "da7c9627-afb1-4ddc-b454-fde1541f98f0",
   "metadata": {},
   "source": [
    "Por último, tenemos la parte de `finally`, la cual se ejecutará siempre antes de continuar el flujo, sin importar lo que se haya ejecutado antes."
   ]
  }
 ],
 "metadata": {
  "kernelspec": {
   "display_name": "Python 3 (ipykernel)",
   "language": "python",
   "name": "python3"
  },
  "language_info": {
   "codemirror_mode": {
    "name": "ipython",
    "version": 3
   },
   "file_extension": ".py",
   "mimetype": "text/x-python",
   "name": "python",
   "nbconvert_exporter": "python",
   "pygments_lexer": "ipython3",
   "version": "3.12.2"
  }
 },
 "nbformat": 4,
 "nbformat_minor": 5
}
