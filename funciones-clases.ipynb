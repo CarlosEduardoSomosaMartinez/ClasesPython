{
 "cells": [
  {
   "cell_type": "markdown",
   "metadata": {},
   "source": [
    "estas son algunas de las funciones que nosotros podemos usar ciertas funciones con las clases para tener un apoyo el primero que veremos es el dir se este lanzara una lista de los atributos de ese objeto"
   ]
  },
  {
   "cell_type": "code",
   "execution_count": 10,
   "metadata": {},
   "outputs": [
    {
     "name": "stdout",
     "output_type": "stream",
     "text": [
      "['__add__', '__class__', '__contains__', '__delattr__', '__dir__', '__doc__', '__eq__', '__format__', '__ge__', '__getattribute__', '__getitem__', '__getnewargs__', '__getstate__', '__gt__', '__hash__', '__init__', '__init_subclass__', '__iter__', '__le__', '__len__', '__lt__', '__mod__', '__mul__', '__ne__', '__new__', '__reduce__', '__reduce_ex__', '__repr__', '__rmod__', '__rmul__', '__setattr__', '__sizeof__', '__str__', '__subclasshook__', 'capitalize', 'casefold', 'center', 'count', 'encode', 'endswith', 'expandtabs', 'find', 'format', 'format_map', 'index', 'isalnum', 'isalpha', 'isascii', 'isdecimal', 'isdigit', 'isidentifier', 'islower', 'isnumeric', 'isprintable', 'isspace', 'istitle', 'isupper', 'join', 'ljust', 'lower', 'lstrip', 'maketrans', 'partition', 'removeprefix', 'removesuffix', 'replace', 'rfind', 'rindex', 'rjust', 'rpartition', 'rsplit', 'rstrip', 'split', 'splitlines', 'startswith', 'strip', 'swapcase', 'title', 'translate', 'upper', 'zfill']\n"
     ]
    }
   ],
   "source": [
    "texto = \"cadena de texto\"\n",
    "print(dir(texto))"
   ]
  },
  {
   "cell_type": "markdown",
   "metadata": {},
   "source": [
    "para nosotros averiguar si existe un atributo concreto se puede usar la funcion hasattr()  que admite como primer argumento un objeto y  como segundo unca cadena con el nombre de un atributo si contiene el elemento dara true si no este dara false"
   ]
  },
  {
   "cell_type": "code",
   "execution_count": 11,
   "metadata": {},
   "outputs": [
    {
     "name": "stdout",
     "output_type": "stream",
     "text": [
      "True\n"
     ]
    }
   ],
   "source": [
    "dato = iter(\"dato como tal\")\n",
    "print(hasattr(dato,\"__iter__\"))"
   ]
  },
  {
   "cell_type": "code",
   "execution_count": 12,
   "metadata": {},
   "outputs": [
    {
     "name": "stdout",
     "output_type": "stream",
     "text": [
      "desaparecido\n"
     ]
    }
   ],
   "source": [
    "class Humano:\n",
    "    status = True\n",
    "\n",
    "    def __init__(self,nombre,raza,edad):\n",
    "        self.nombre = nombre\n",
    "        self.edad = edad\n",
    "        self.raza = raza\n",
    "\n",
    "    def morir(self):\n",
    "        self.status = False\n",
    "\n",
    "jhon = Humano(\"jhon\",\"asiatico\",56)\n",
    "\n",
    "print(getattr(jhon,\"staus\",\"desaparecido\"))"
   ]
  },
  {
   "cell_type": "markdown",
   "metadata": {},
   "source": [
    "ahora nosotros tenemos  tambien la posivilidad de asignar un valor a un atributo en caso de que no existe el atributo"
   ]
  },
  {
   "cell_type": "code",
   "execution_count": 16,
   "metadata": {},
   "outputs": [
    {
     "name": "stdout",
     "output_type": "stream",
     "text": [
      "None\n",
      "['diabetes', 'hypertension']\n"
     ]
    }
   ],
   "source": [
    "print(setattr(jhon,\"enfermedades\",[\"diabetes\",\"hypertension\"]))\n",
    "print(jhon.enfermedades)"
   ]
  },
  {
   "cell_type": "markdown",
   "metadata": {},
   "source": [
    "por ultimo nosotros podemos eleminiar elementos de un  objeto este elemento con la funcion delattr() ahora este eliminara el argumento que le pasemos por primera  sera el objeto y el segundo el atributo a eliminar"
   ]
  },
  {
   "cell_type": "code",
   "execution_count": 17,
   "metadata": {},
   "outputs": [
    {
     "name": "stdout",
     "output_type": "stream",
     "text": [
      "None\n",
      "sano\n"
     ]
    }
   ],
   "source": [
    "print(delattr(jhon,\"enfermedades\"))\n",
    "print(getattr(jhon,\"enfermedades\",\"sano\"))"
   ]
  },
  {
   "cell_type": "markdown",
   "metadata": {},
   "source": [
    "ahora otroa funcion que nosotros podemos apollarnos es paraceber si un objeto es una instacia de alguna clase  y es isinstance()"
   ]
  },
  {
   "cell_type": "code",
   "execution_count": 18,
   "metadata": {},
   "outputs": [
    {
     "name": "stdout",
     "output_type": "stream",
     "text": [
      "True\n"
     ]
    }
   ],
   "source": [
    "print(isinstance(jhon,Humano))"
   ]
  }
 ],
 "metadata": {
  "kernelspec": {
   "display_name": "Python 3",
   "language": "python",
   "name": "python3"
  },
  "language_info": {
   "codemirror_mode": {
    "name": "ipython",
    "version": 3
   },
   "file_extension": ".py",
   "mimetype": "text/x-python",
   "name": "python",
   "nbconvert_exporter": "python",
   "pygments_lexer": "ipython3",
   "version": "3.12.2"
  }
 },
 "nbformat": 4,
 "nbformat_minor": 2
}
