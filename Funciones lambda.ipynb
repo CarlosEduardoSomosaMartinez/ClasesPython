{
 "cells": [
  {
   "cell_type": "markdown",
   "id": "bea18f54-82cd-4de3-80c2-07a8cf9183a8",
   "metadata": {},
   "source": [
    "Un caso especial de funciones de uso mucho más limitado son las funciones lambda, también denominadas funciones anónimas."
   ]
  },
  {
   "cell_type": "markdown",
   "id": "2fef9ed9-f2c1-4209-8973-6531e70fc6e3",
   "metadata": {},
   "source": [
    "Las funciones lambda tienen una formulación algo diferente."
   ]
  },
  {
   "cell_type": "code",
   "execution_count": 1,
   "id": "56d53a03-1f83-48e8-9216-d5820e4ff8b0",
   "metadata": {},
   "outputs": [
    {
     "data": {
      "text/plain": [
       "<function __main__.<lambda>(alto, ancho)>"
      ]
     },
     "execution_count": 1,
     "metadata": {},
     "output_type": "execute_result"
    }
   ],
   "source": [
    "lambda alto,ancho: alto*ancho"
   ]
  },
  {
   "cell_type": "markdown",
   "id": "5ffab879-68fc-48da-9cb0-72c038b2873f",
   "metadata": {},
   "source": [
    "Estas funciones son poco legibles y no se recomienda hacerlas a menos que sean necesarias. La primera forma de utilizarlas es asignándoles un nombre, lo que nos permite usarlas como cualquier otra función."
   ]
  },
  {
   "cell_type": "code",
   "execution_count": 2,
   "id": "f6d08a5b-c15c-486c-a522-04ad038a308f",
   "metadata": {},
   "outputs": [
    {
     "name": "stdout",
     "output_type": "stream",
     "text": [
      "12\n"
     ]
    }
   ],
   "source": [
    "superfice = lambda alto,nacho : alto*nacho\n",
    "resultado= superfice(3,4)\n",
    "print(resultado)"
   ]
  },
  {
   "cell_type": "markdown",
   "id": "b6fb89a2-81e0-4934-9a0e-03bdcf1775ce",
   "metadata": {},
   "source": [
    "Nosotros también podemos utilizarlas de manera directa."
   ]
  },
  {
   "cell_type": "code",
   "execution_count": 4,
   "id": "955bf8c5-5422-4ded-8b71-b1a67fef3a7c",
   "metadata": {},
   "outputs": [
    {
     "name": "stdout",
     "output_type": "stream",
     "text": [
      "6\n"
     ]
    }
   ],
   "source": [
    "resultado = (lambda alto,ancho :alto*ancho)(3,2)\n",
    "print(resultado)"
   ]
  },
  {
   "cell_type": "markdown",
   "id": "db417111-41c1-456d-aa8d-3580b5a7e9c9",
   "metadata": {},
   "source": [
    "También podemos usar este tipo de funciones de manera directa en las funciones que reciban a otra. Esto podría ser desde un map hasta un mapeo."
   ]
  },
  {
   "cell_type": "code",
   "execution_count": 9,
   "id": "6b31fcb8-7987-436e-accc-01e373f7ed2f",
   "metadata": {},
   "outputs": [
    {
     "name": "stdout",
     "output_type": "stream",
     "text": [
      "{'a': <function <lambda> at 0x0000016ADDB95440>, 'b': <function <lambda> at 0x0000016ADDB94860>}\n"
     ]
    }
   ],
   "source": [
    "dicc =  {\"a\": 1 , \"b\": 2 }\n",
    "other_dicc = {key:(lambda x : x*x) for key in dicc.keys()}\n",
    "print(other_dicc)"
   ]
  },
  {
   "cell_type": "code",
   "execution_count": 11,
   "id": "d830827c-6ace-46ba-8a31-f224b8e0c8f0",
   "metadata": {},
   "outputs": [
    {
     "name": "stdout",
     "output_type": "stream",
     "text": [
      " a = 1\n",
      " b = 4\n"
     ]
    }
   ],
   "source": [
    "for key,value in dicc.items():\n",
    "    print(f\" { key} = {other_dicc[key](value)}\")"
   ]
  }
 ],
 "metadata": {
  "kernelspec": {
   "display_name": "Python 3 (ipykernel)",
   "language": "python",
   "name": "python3"
  },
  "language_info": {
   "codemirror_mode": {
    "name": "ipython",
    "version": 3
   },
   "file_extension": ".py",
   "mimetype": "text/x-python",
   "name": "python",
   "nbconvert_exporter": "python",
   "pygments_lexer": "ipython3",
   "version": "3.12.2"
  }
 },
 "nbformat": 4,
 "nbformat_minor": 5
}
