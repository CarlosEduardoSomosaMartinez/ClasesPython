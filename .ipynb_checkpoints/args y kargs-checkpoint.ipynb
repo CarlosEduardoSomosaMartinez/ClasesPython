{
 "cells": [
  {
   "cell_type": "markdown",
   "id": "68b2d031-bcc4-4320-99fe-9a423ebc9bf4",
   "metadata": {},
   "source": [
    "en muchas ocasiones diferentes nos toparemos con el caso de no poder contar con numero fijo de argumentos para una funcion si no que esta pueda recibir un numero variable de argumentos.\n",
    "Los args son un parametro que se define como cualquier otrom pero con un asterisco ante del nombre y esto python lo interpetara  en vez de una variable como el nombre de una tupla que almacenara este tipo  de argumentos recibidos"
   ]
  },
  {
   "cell_type": "code",
   "execution_count": 2,
   "id": "0731deec-7ab4-4396-9bc7-7d88d9a74dad",
   "metadata": {},
   "outputs": [
    {
     "name": "stdout",
     "output_type": "stream",
     "text": [
      "la lista de animales es\n",
      "perro gallo leon\n"
     ]
    }
   ],
   "source": [
    "def imprimir_lista(nombre_lista,*lista):\n",
    "    print(f\"la lista de {nombre_lista} es\")\n",
    "    print(*lista)\n",
    "imprimir_lista(\"animales\",\"perro\",\"gallo\",\"leon\")"
   ]
  },
  {
   "cell_type": "markdown",
   "id": "835dddba-fb65-45fc-b3a7-1e5e734ef505",
   "metadata": {},
   "source": [
    "si una funcion debe tener argumentos fijo estos siempre iran despues de los args ya que de lo contrario estos simplemente capturarian todos los valores consiguientes"
   ]
  },
  {
   "cell_type": "markdown",
   "id": "55640e62-9a63-471a-a3e1-557c07e288a7",
   "metadata": {},
   "source": [
    "ahora exisste una version refinada a estos llamado **kwargs (keywords  arguments).se trata  de argumentos que se pasan por nombre  en par de clave-valor y es un diccionario\n"
   ]
  },
  {
   "cell_type": "code",
   "execution_count": 9,
   "id": "eaa47607-b2f3-4e0c-a2d7-6cf829f10bf9",
   "metadata": {},
   "outputs": [
    {
     "name": "stdout",
     "output_type": "stream",
     "text": [
      "diccionario de paciente\n",
      "{'edad': 18, 'name': 'carlos', 'estado': 'vivo'}\n"
     ]
    }
   ],
   "source": [
    "def imprime_datos(nombre,**dicc):\n",
    "    print(f\"diccionario de {nombre}\")\n",
    "    print(dicc)\n",
    "imprime_datos(\"paciente\",edad=18,name=\"carlos\",estado=\"vivo\")"
   ]
  },
  {
   "cell_type": "markdown",
   "id": "a29e53ae-a947-42b5-a627-d8daf359d05c",
   "metadata": {},
   "source": [
    "si se pueden usar los dos como argumentos pero tienen que se en la siguiente forma"
   ]
  },
  {
   "cell_type": "code",
   "execution_count": 10,
   "id": "9bd9e73a-e3a2-40cb-b501-8eb919221c68",
   "metadata": {},
   "outputs": [
    {
     "name": "stdout",
     "output_type": "stream",
     "text": [
      "('uno', 'dos', 'tres')\n",
      "{'dia': 'lunes', 'mes': 'abril', 'year': '2000'}\n"
     ]
    }
   ],
   "source": [
    "def datos(*tupla,**dicci):\n",
    "    print(tupla)\n",
    "    print(dicci)\n",
    "datos(\"uno\",\"dos\",\"tres\",dia=\"lunes\",mes=\"abril\",year=\"2000\")"
   ]
  },
  {
   "cell_type": "markdown",
   "id": "3850eee1-c947-455d-ab76-60e8d0812747",
   "metadata": {},
   "source": [
    "nosotros podemos decidir si es que podemos pasar un argumento por posicion o asignacion este tipo de caracterisitica se anadio en versiones resientes de python en la 3.8  si es que quermos pasar o forzar a que solo se puedan pasar po posicion nosotros podemos usar la diagonal en nuestros parametrosponiendo primero los nombres que queremos que sean recibidos por posicionamiento y seguidos de los que queremos de manera noral "
   ]
  },
  {
   "cell_type": "code",
   "execution_count": 14,
   "id": "2a1e410f-3152-4246-9ce6-f24be02b64c3",
   "metadata": {},
   "outputs": [
    {
     "ename": "TypeError",
     "evalue": "pos() got some positional-only arguments passed as keyword arguments: 'valor2'",
     "output_type": "error",
     "traceback": [
      "\u001b[1;31m---------------------------------------------------------------------------\u001b[0m",
      "\u001b[1;31mTypeError\u001b[0m                                 Traceback (most recent call last)",
      "Cell \u001b[1;32mIn[14], line 3\u001b[0m\n\u001b[0;32m      1\u001b[0m \u001b[38;5;28;01mdef\u001b[39;00m \u001b[38;5;21mpos\u001b[39m(valor,valor1,valor2,\u001b[38;5;241m/\u001b[39m):\n\u001b[0;32m      2\u001b[0m     \u001b[38;5;28mprint\u001b[39m(valor,valor1,valor2)\n\u001b[1;32m----> 3\u001b[0m \u001b[43mpos\u001b[49m\u001b[43m(\u001b[49m\u001b[38;5;241;43m1\u001b[39;49m\u001b[43m,\u001b[49m\u001b[38;5;241;43m3\u001b[39;49m\u001b[43m,\u001b[49m\u001b[43mvalor2\u001b[49m\u001b[38;5;241;43m=\u001b[39;49m\u001b[38;5;241;43m4\u001b[39;49m\u001b[43m)\u001b[49m\n",
      "\u001b[1;31mTypeError\u001b[0m: pos() got some positional-only arguments passed as keyword arguments: 'valor2'"
     ]
    }
   ],
   "source": [
    "def pos(valor,valor1,valor2,/,normal,normal):\n",
    "    print(valor,valor1,valor2)\n",
    "pos(1,3,4,3,3)"
   ]
  },
  {
   "cell_type": "markdown",
   "id": "9dca3fab-3506-403b-a688-5f28b8b95ea6",
   "metadata": {},
   "source": [
    "ahora por otro lado yo puedo forzar a pasar solo argumentos por nombre estos argumentos siempre iran enfrente de un arterisco"
   ]
  },
  {
   "cell_type": "code",
   "execution_count": 17,
   "id": "487a6179-ff42-4e55-b2cd-9236e7bdd3e3",
   "metadata": {},
   "outputs": [
    {
     "name": "stdout",
     "output_type": "stream",
     "text": [
      "apellido algo\n"
     ]
    }
   ],
   "source": [
    "def pre(*,nombre,apellido):\n",
    "    print(nombre,apellido)\n",
    "pre(apellido=\"algo\",nombre=\"apellido\")"
   ]
  },
  {
   "cell_type": "code",
   "execution_count": null,
   "id": "68ddd6aa-3b60-4e8f-8391-2e6ffb7a562d",
   "metadata": {},
   "outputs": [],
   "source": []
  }
 ],
 "metadata": {
  "kernelspec": {
   "display_name": "Python 3 (ipykernel)",
   "language": "python",
   "name": "python3"
  },
  "language_info": {
   "codemirror_mode": {
    "name": "ipython",
    "version": 3
   },
   "file_extension": ".py",
   "mimetype": "text/x-python",
   "name": "python",
   "nbconvert_exporter": "python",
   "pygments_lexer": "ipython3",
   "version": "3.12.2"
  }
 },
 "nbformat": 4,
 "nbformat_minor": 5
}
