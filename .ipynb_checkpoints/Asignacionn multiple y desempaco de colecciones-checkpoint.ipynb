{
 "cells": [
  {
   "cell_type": "markdown",
   "id": "6a968b1a-4ab6-488d-bac5-a8cfff4c2593",
   "metadata": {},
   "source": [
    "nosotros podemos asiganr valores a colecciones  que contenga  la misma cantidad de valores por ejemplo"
   ]
  },
  {
   "cell_type": "code",
   "execution_count": 7,
   "id": "240454d6-608d-484e-b970-ddaec41dfc90",
   "metadata": {},
   "outputs": [
    {
     "name": "stdout",
     "output_type": "stream",
     "text": [
      "1 2 3 4\n",
      "1 2 3\n",
      "1 2 3\n",
      "a b c\n",
      "1 2 3\n",
      "('a', 1) ('b', 2) ('c', 3)\n"
     ]
    }
   ],
   "source": [
    "tupla = (1,2,3,4)\n",
    "a,b,c,d = tupla\n",
    "print(a,b,c,d)\n",
    "#para un lista\n",
    "lista = [1,2,3,]\n",
    "a1,b1,c1 = lista\n",
    "print(a1,b1,c1)\n",
    "#set\n",
    "set = {1,2,3}\n",
    "a2,b2,c2 = set\n",
    "print(a2,b2,c2)\n",
    "#diccionarios\n",
    "diccionario = {\"a\":1,\"b\":2,\"c\":3}\n",
    "a3,b3,c3 = diccionario\n",
    "a4,b4,c4 = diccionario.values()\n",
    "a5,b5,c5 = diccionario.items()\n",
    "print(a3,b3,c3)\n",
    "print(a4,b4,c4)\n",
    "print(a5,b5,c5)"
   ]
  },
  {
   "cell_type": "markdown",
   "id": "878e2670-3d31-46f9-b8d2-dc3ae9a8b060",
   "metadata": {},
   "source": [
    "ahora existe un problema comun en estos casos y es que tenemos que tener el mismo numero de valores que de variables pero tambien podemos resolver  estode una forma muy sencilla"
   ]
  },
  {
   "cell_type": "code",
   "execution_count": 8,
   "id": "b267df2b-378d-439b-9522-3b4fc08bfb8a",
   "metadata": {},
   "outputs": [
    {
     "name": "stdout",
     "output_type": "stream",
     "text": [
      "1 2 [3, 4, 5]\n"
     ]
    }
   ],
   "source": [
    "lista = [ 1,2,3,4,5 ]\n",
    "valor_1,valor_2,*valor_3 = lista\n",
    "print(valor_1,valor_2,valor_3)"
   ]
  },
  {
   "cell_type": "markdown",
   "id": "e2633a1e-2a02-4213-9c9f-a9a1faa30683",
   "metadata": {},
   "source": [
    "este asterico marcara para poder almacenar los valores extras que estan en la coleccion y esta tambien no es necesaria ponerla al final puede estan en cualquier lugar"
   ]
  },
  {
   "cell_type": "code",
   "execution_count": 9,
   "id": "1da0f436-4a58-4fbb-a737-3b1a72e88c23",
   "metadata": {},
   "outputs": [
    {
     "name": "stdout",
     "output_type": "stream",
     "text": [
      "1 [2, 3, 4] 5\n"
     ]
    }
   ],
   "source": [
    "dato_1,*dato_2,dato_3 = lista\n",
    "print(dato_1,dato_2,dato_3)"
   ]
  },
  {
   "cell_type": "markdown",
   "id": "dd10a8aa-a845-4f3f-b09a-334df7c87241",
   "metadata": {},
   "source": [
    "ahora una de las restricciones que tenemos es que solo podeos usar un solo asterisco"
   ]
  },
  {
   "cell_type": "markdown",
   "id": "aa1c2ab8-d925-4eed-b3ac-31268d3198ef",
   "metadata": {},
   "source": [
    "algo que podemos usar con esta formade desempaquetar datos es crear una lista apartir de la siguiente"
   ]
  },
  {
   "cell_type": "code",
   "execution_count": 10,
   "id": "0483bb69-0f56-4fc2-948b-1f0d1f544f2a",
   "metadata": {},
   "outputs": [
    {
     "ename": "SyntaxError",
     "evalue": "starred assignment target must be in a list or tuple (2957173846.py, line 1)",
     "output_type": "error",
     "traceback": [
      "\u001b[1;36m  Cell \u001b[1;32mIn[10], line 1\u001b[1;36m\u001b[0m\n\u001b[1;33m    *listota = 1,2,3,4,5,6\u001b[0m\n\u001b[1;37m    ^\u001b[0m\n\u001b[1;31mSyntaxError\u001b[0m\u001b[1;31m:\u001b[0m starred assignment target must be in a list or tuple\n"
     ]
    }
   ],
   "source": [
    "*listota, = 1,2,3,4,5,6"
   ]
  },
  {
   "cell_type": "code",
   "execution_count": null,
   "id": "d11aeb1d-04cf-45f8-81f4-726f23c0e78c",
   "metadata": {},
   "outputs": [],
   "source": []
  }
 ],
 "metadata": {
  "kernelspec": {
   "display_name": "Python 3 (ipykernel)",
   "language": "python",
   "name": "python3"
  },
  "language_info": {
   "codemirror_mode": {
    "name": "ipython",
    "version": 3
   },
   "file_extension": ".py",
   "mimetype": "text/x-python",
   "name": "python",
   "nbconvert_exporter": "python",
   "pygments_lexer": "ipython3",
   "version": "3.12.2"
  }
 },
 "nbformat": 4,
 "nbformat_minor": 5
}
