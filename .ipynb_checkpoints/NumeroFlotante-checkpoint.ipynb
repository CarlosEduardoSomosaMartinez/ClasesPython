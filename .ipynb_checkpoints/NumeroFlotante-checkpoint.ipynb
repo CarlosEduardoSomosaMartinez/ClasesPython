{
 "cells": [
  {
   "cell_type": "markdown",
   "id": "be20f947-a95e-4196-b4da-2c092344b8a8",
   "metadata": {},
   "source": [
    "no hay mucho que decir de los numeros flotantes la unica diferencia es que nosotros los podemos declarar dos tipos de formas con un . y  con el metodo constructor"
   ]
  },
  {
   "cell_type": "code",
   "execution_count": 2,
   "id": "2125bc0a-b03b-4c9c-bb3b-e646acb8a199",
   "metadata": {},
   "outputs": [
    {
     "name": "stdout",
     "output_type": "stream",
     "text": [
      "3.4\n"
     ]
    }
   ],
   "source": [
    "numero = 2.4\n",
    "numero2 = float(1)\n",
    "print(1+2.4)"
   ]
  },
  {
   "cell_type": "markdown",
   "id": "11a8e1aa-7494-4ee9-b93a-0a122a9edd57",
   "metadata": {},
   "source": [
    "esto es raro  pero es bueno es saberlo y es que nosotro podemos escribir numero muy grandes enserio muy grande y es que podemos usar notacion cientifica y que es  bueno usamos una base que se multipla por dies elevado al conficiente a continuacion por ejemplo"
   ]
  },
  {
   "cell_type": "code",
   "execution_count": 5,
   "id": "8e0f02f4-ecff-4b85-a29f-9479a0f4c81e",
   "metadata": {},
   "outputs": [
    {
     "name": "stdout",
     "output_type": "stream",
     "text": [
      "inf\n"
     ]
    }
   ],
   "source": [
    "cientifica = float(1E1_000)\n",
    "print(cientifica)"
   ]
  },
  {
   "cell_type": "code",
   "execution_count": null,
   "id": "c1351e25-a264-4849-9b65-4bef73c4a98f",
   "metadata": {},
   "outputs": [],
   "source": [
    "print(cientifica)"
   ]
  }
 ],
 "metadata": {
  "kernelspec": {
   "display_name": "Python 3 (ipykernel)",
   "language": "python",
   "name": "python3"
  },
  "language_info": {
   "codemirror_mode": {
    "name": "ipython",
    "version": 3
   },
   "file_extension": ".py",
   "mimetype": "text/x-python",
   "name": "python",
   "nbconvert_exporter": "python",
   "pygments_lexer": "ipython3",
   "version": "3.12.2"
  }
 },
 "nbformat": 4,
 "nbformat_minor": 5
}
