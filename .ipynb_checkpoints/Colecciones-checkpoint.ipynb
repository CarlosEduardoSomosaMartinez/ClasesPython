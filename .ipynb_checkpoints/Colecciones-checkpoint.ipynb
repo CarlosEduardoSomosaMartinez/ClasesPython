{
 "cells": [
  {
   "cell_type": "markdown",
   "id": "e7f37d89-4d0b-448a-9de2-79ae60b536c3",
   "metadata": {},
   "source": [
    "las colecciones son similares a las series pero con la diferencia ques estas no son ordenadas"
   ]
  },
  {
   "cell_type": "markdown",
   "id": "effb2a7b-fe30-4a5b-999e-f0a7c65cfddd",
   "metadata": {},
   "source": [
    "<h1>Diccionarios</h1>"
   ]
  },
  {
   "cell_type": "markdown",
   "id": "8a478420-bb84-4ae6-aee0-246332b2bffd",
   "metadata": {},
   "source": [
    "los diccionarios son algo parecido a las listats con ladiferencia con que los indices no  tienen que ser numeros sino que  puede ser  cadenas  tuplas o en general objeto que se puedan hasher inclusive no es necesario que todos los indices sean del mismo tipo  y estos indeces se les denominaria claves, ahora esas claves equivaldran a un valor que esta relacionado a ellos de hay el nombre clave valor nosotros podemos usar este tipo de coleccion de esta manera"
   ]
  },
  {
   "cell_type": "code",
   "execution_count": 1,
   "id": "f9979c1e-dc5f-4098-a79b-b4a69ee3cd49",
   "metadata": {},
   "outputs": [
    {
     "name": "stdout",
     "output_type": "stream",
     "text": [
      "{'clave1': 'valor', 'clave2': 'valor2'}\n"
     ]
    }
   ],
   "source": [
    "#para nosotros  usarlo primero lo definimos con parentisis\n",
    "diccionario = {\"clave1\":\"valor\",\"clave2\":\"valor2\"}\n",
    "print(diccionario)"
   ]
  },
  {
   "cell_type": "markdown",
   "id": "92e9dcdb-e1af-4f44-beaf-90cde5897beb",
   "metadata": {},
   "source": [
    "ahora para nostros acceder  nosotros podemos usar a notacion de [] pra los indices con la ecepcion de que nosotros deberiamos usar el nombre de la claves\n"
   ]
  },
  {
   "cell_type": "code",
   "execution_count": 2,
   "id": "bf021b71-8819-425d-b13b-b4747696c077",
   "metadata": {},
   "outputs": [
    {
     "data": {
      "text/plain": [
       "'valor'"
      ]
     },
     "execution_count": 2,
     "metadata": {},
     "output_type": "execute_result"
    }
   ],
   "source": [
    "diccionario[\"clave1\"]"
   ]
  },
  {
   "cell_type": "markdown",
   "id": "3336b4b4-ee27-4abb-ba2b-c7d96d02504a",
   "metadata": {},
   "source": [
    "ahora nosotros podemos agregar de manera peculiar elementos a nuestra listas  y esto es poniendo  una  clave no existente un valor"
   ]
  },
  {
   "cell_type": "code",
   "execution_count": 4,
   "id": "d1549f53-08a0-4b02-a509-7080656307ba",
   "metadata": {},
   "outputs": [
    {
     "name": "stdout",
     "output_type": "stream",
     "text": [
      "{'clave1': 'valor', 'clave2': 'valor2', 'clave3': 'valor3'}\n"
     ]
    }
   ],
   "source": [
    "diccionario[\"clave3\"]=\"valor3\"\n",
    "print(diccionario)"
   ]
  },
  {
   "cell_type": "markdown",
   "id": "9c67952c-cb55-4da7-8fb7-645770cc1cb5",
   "metadata": {},
   "source": [
    "si nostros llegasmo a reasignar un valor este solo se actulizara"
   ]
  },
  {
   "cell_type": "code",
   "execution_count": 6,
   "id": "0083eebd-6501-446f-9bc6-58992fc71b39",
   "metadata": {},
   "outputs": [
    {
     "name": "stdout",
     "output_type": "stream",
     "text": [
      "{'clave1': 'valorNuevo', 'clave2': 'valor2', 'clave3': 'valor3'}\n"
     ]
    }
   ],
   "source": [
    "diccionario[\"clave1\"]=\"valorNuevo\"\n",
    "print(diccionario)"
   ]
  },
  {
   "cell_type": "markdown",
   "id": "bf195217-f474-4f6a-82b6-42585237adec",
   "metadata": {},
   "source": [
    "si una clave se repite en la  declaracion de una variable  esta tomara el valor del ultimo"
   ]
  },
  {
   "cell_type": "code",
   "execution_count": 7,
   "id": "96acf7d8-49d1-4083-87d6-7ed1d641c004",
   "metadata": {},
   "outputs": [],
   "source": [
    "persona = {\"nombre\":\"carlos\",\"nombre\":\"alex\"}"
   ]
  },
  {
   "cell_type": "markdown",
   "id": "af962454-f6d1-425f-a0e5-72441f73f817",
   "metadata": {},
   "source": [
    "ahora de segunda manera de declararlo de manera explicita dict() ahora nosotros podemos usar  arguementos de la sigueiente manera para poder anadirlo como clave valor"
   ]
  },
  {
   "cell_type": "code",
   "execution_count": 9,
   "id": "00fc25e7-8749-4b2f-90f1-7f9247e14a93",
   "metadata": {},
   "outputs": [
    {
     "name": "stdout",
     "output_type": "stream",
     "text": [
      "{'animal': 'perro', 'planta': 'tomate'}\n"
     ]
    }
   ],
   "source": [
    "declaracionExplicita = dict(animal=\"perro\",planta=\"tomate\")\n",
    "print(declaracionExplicita)"
   ]
  },
  {
   "cell_type": "markdown",
   "id": "5f8d8a8b-e164-4329-a49b-3d090f9f0842",
   "metadata": {},
   "source": [
    "ahora nosotros podemos usar esto de otra manera podemos pasar iterables con parje de iterables que contengan clave valor para crear nuestro diccionario"
   ]
  },
  {
   "cell_type": "code",
   "execution_count": 10,
   "id": "8d666b99-c213-4366-b7a7-1a26c7cdf4b5",
   "metadata": {},
   "outputs": [
    {
     "name": "stdout",
     "output_type": "stream",
     "text": [
      "{'primero': 'valor1', 'segundo': 'valor2', 'tercero': 'valor3'}\n",
      "{'cosa': 'una cosa', 'algoCosa': 'otraCosa'}\n"
     ]
    }
   ],
   "source": [
    "listaDic = dict([(\"primero\",\"valor1\"),(\"segundo\",\"valor2\"),(\"tercero\",\"valor3\")])\n",
    "tuplaDic = dict(((\"cosa\",\"una cosa\"),(\"algoCosa\",\"otraCosa\")))\n",
    "print(listaDic)\n",
    "print(tuplaDic)\n",
    "#tema aqui"
   ]
  },
  {
   "cell_type": "markdown",
   "id": "11fdc981-baf7-4921-995d-132f2d40b449",
   "metadata": {},
   "source": [
    "ahora nosotros podemos usar una funcion de tipo zip() para crear esta estructura de manera mas facil y poderle pasarlo como un diccionario"
   ]
  },
  {
   "cell_type": "code",
   "execution_count": 12,
   "id": "8db62912-4d24-4167-8f60-c5b8df72d94f",
   "metadata": {},
   "outputs": [
    {
     "name": "stdout",
     "output_type": "stream",
     "text": [
      "<zip object at 0x000001F5111E23C0>\n"
     ]
    }
   ],
   "source": [
    "clave = [\"a\",\"b\",\"c\"]\n",
    "valor = [\"A\",\"B\",\"C\"]\n",
    "comprimido = zip(clave,valor)\n",
    "print(comprimido)"
   ]
  },
  {
   "cell_type": "markdown",
   "id": "3394fe02-77d2-49a0-aa51-f030c73e2667",
   "metadata": {},
   "source": [
    "de esta manera creamos un objeto llamado iterador el cual se lo podemos crear un diccionario"
   ]
  },
  {
   "cell_type": "code",
   "execution_count": 13,
   "id": "a702bb09-b897-4d95-bd39-5e68f4067ebd",
   "metadata": {},
   "outputs": [
    {
     "name": "stdout",
     "output_type": "stream",
     "text": [
      "{'a': 'A', 'b': 'B', 'c': 'C'}\n"
     ]
    }
   ],
   "source": [
    "diccionario = dict(comprimido)\n",
    "print(diccionario)"
   ]
  },
  {
   "cell_type": "markdown",
   "id": "59830fc7-a168-44cb-bd94-2c672dc80c3b",
   "metadata": {},
   "source": [
    "ahora solo hay una limitante para los datos que pueden contener y esto es en la claves ya que estas claves tienen que ser hasheables\n"
   ]
  },
  {
   "cell_type": "markdown",
   "id": "434a8386-b17e-4782-bb94-ca49928aaad6",
   "metadata": {},
   "source": [
    "ahora nosotros podemos eliminar elementos de un arreglos con el metodo de del"
   ]
  },
  {
   "cell_type": "code",
   "execution_count": 16,
   "id": "6f807848-a41c-490a-86f8-4bf216d2e7ca",
   "metadata": {},
   "outputs": [
    {
     "name": "stdout",
     "output_type": "stream",
     "text": [
      "{'uno': 1, 'dos': 2, 'tercer': 3, 'cuarto': 4}\n",
      "{'dos': 2, 'tercer': 3, 'cuarto': 4}\n"
     ]
    }
   ],
   "source": [
    "numeros = {\n",
    "    \"uno\":1,\n",
    "    \"dos\":2,\n",
    "    \"tercer\":3,\n",
    "    \"cuarto\":4\n",
    "}\n",
    "print(numeros)\n",
    "del numeros[\"uno\"]\n",
    "print(numeros)"
   ]
  },
  {
   "cell_type": "markdown",
   "id": "277c502a-b07a-4b9f-a024-e3a6af6da803",
   "metadata": {},
   "source": [
    "nosotros podemos saver su longitud de el diccionario  atraves de la funcion len()"
   ]
  },
  {
   "cell_type": "code",
   "execution_count": 17,
   "id": "b615e9b5-83dc-4337-82fe-030421dbdbb1",
   "metadata": {},
   "outputs": [
    {
     "data": {
      "text/plain": [
       "3"
      ]
     },
     "execution_count": 17,
     "metadata": {},
     "output_type": "execute_result"
    }
   ],
   "source": [
    "len(numeros)"
   ]
  },
  {
   "cell_type": "markdown",
   "id": "f3e6e2ce-b01c-43e8-a8eb-9f65a8f59a25",
   "metadata": {},
   "source": [
    "la union de dos diccionario se hace mediante el operador \"barra vertical\" (|)  y retorna otro diccionario con los   elementos de ambos"
   ]
  },
  {
   "cell_type": "code",
   "execution_count": 19,
   "id": "bfacd96e-cc89-4ebb-bfdc-235c57b05638",
   "metadata": {},
   "outputs": [
    {
     "name": "stdout",
     "output_type": "stream",
     "text": [
      "{'nombre': 'xavier', 'apellido': 'arrollo', 'age': 12, 'trabjo': 'nada'}\n"
     ]
    }
   ],
   "source": [
    "diccionario_a = {\n",
    "    \"nombre\":\"xavier\",\n",
    "    \"apellido\":\"arrollo\"\n",
    "}\n",
    "diccionario_b = {\n",
    "    \"age\":12,\n",
    "    \"trabjo\":\"nada\"\n",
    "}\n",
    "union = diccionario_a | diccionario_b\n",
    "print(union)"
   ]
  },
  {
   "cell_type": "markdown",
   "id": "02361fa3-cfa6-4b83-ae84-098078e41ee1",
   "metadata": {},
   "source": [
    "tambien existe la union por asignacion ( |= )"
   ]
  },
  {
   "cell_type": "code",
   "execution_count": 20,
   "id": "5e8d7c00-c727-4803-b918-20a91a84fcf9",
   "metadata": {},
   "outputs": [
    {
     "name": "stdout",
     "output_type": "stream",
     "text": [
      "{'nombre': 'xavier', 'apellido': 'arrollo', 'age': 12, 'trabjo': 'nada'}\n"
     ]
    }
   ],
   "source": [
    "diccionario_a |= diccionario_b\n",
    "print(diccionario_a)"
   ]
  },
  {
   "cell_type": "code",
   "execution_count": 21,
   "id": "2c1a8e47-4df0-4c34-ba21-585c6466f91b",
   "metadata": {},
   "outputs": [
    {
     "ename": "KeyError",
     "evalue": "'algo'",
     "output_type": "error",
     "traceback": [
      "\u001b[1;31m---------------------------------------------------------------------------\u001b[0m",
      "\u001b[1;31mKeyError\u001b[0m                                  Traceback (most recent call last)",
      "Cell \u001b[1;32mIn[21], line 2\u001b[0m\n\u001b[0;32m      1\u001b[0m \u001b[38;5;66;03m#ahora si acceder  a un valor que no existe en nuestro diccionario nos darioa un error\u001b[39;00m\n\u001b[1;32m----> 2\u001b[0m \u001b[38;5;28mprint\u001b[39m(\u001b[43mdiccionario_a\u001b[49m\u001b[43m[\u001b[49m\u001b[38;5;124;43m\"\u001b[39;49m\u001b[38;5;124;43malgo\u001b[39;49m\u001b[38;5;124;43m\"\u001b[39;49m\u001b[43m]\u001b[49m)\n",
      "\u001b[1;31mKeyError\u001b[0m: 'algo'"
     ]
    }
   ],
   "source": [
    "#ahora si acceder  a un valor que no existe en nuestro diccionario nos darioa un error\n",
    "print(diccionario_a[\"algo\"])"
   ]
  },
  {
   "cell_type": "markdown",
   "id": "fae710cc-2200-449c-a37e-9170bf2426c6",
   "metadata": {},
   "source": [
    "en ocasiones nuestros diccionarios son tan grandes que no sabemos si estas tienen algun tipo de clave y para evitar el error usaremos get()"
   ]
  },
  {
   "cell_type": "code",
   "execution_count": 34,
   "id": "6f8226bb-fd0f-4d45-a62d-ef7589c93d53",
   "metadata": {},
   "outputs": [
    {
     "name": "stdout",
     "output_type": "stream",
     "text": [
      "algo None\n"
     ]
    }
   ],
   "source": [
    "usuario = {\n",
    "    \"nombre\":\"algo\",\n",
    "    \"apellido\":\"algo mas\"\n",
    "}\n",
    "variable = usuario.get(\"nombre\")\n",
    "variable1 = usuario.get(\"teleono\")\n",
    "\n",
    "print(variable,variable1)"
   ]
  },
  {
   "cell_type": "markdown",
   "id": "4e614e77-a348-48a5-93ae-7b4001144c29",
   "metadata": {},
   "source": [
    "anteriormente vimos una manera de eliminar y otra forma en que podemos hacerlo es atraves de el pop() aparte de devolvernos un valor eliminara la referencia pasada"
   ]
  },
  {
   "cell_type": "code",
   "execution_count": 35,
   "id": "117197e5-0400-419e-a728-fd541bf42d84",
   "metadata": {},
   "outputs": [
    {
     "name": "stdout",
     "output_type": "stream",
     "text": [
      "algo\n"
     ]
    }
   ],
   "source": [
    "variable9 = usuario.pop(\"nombre\")\n",
    "print(variable9)"
   ]
  },
  {
   "cell_type": "markdown",
   "id": "70a8e256-f92e-491e-8c9e-81327f6cdca6",
   "metadata": {},
   "source": [
    "el metodo popitem() hace lo mismo pero no recibe ningun argumento sino que extrar el ultimo elemento del diccionario"
   ]
  },
  {
   "cell_type": "code",
   "execution_count": 36,
   "id": "a9f91ba2-48cd-485a-8fba-e359f63a579b",
   "metadata": {},
   "outputs": [
    {
     "name": "stdout",
     "output_type": "stream",
     "text": [
      "('apellido', 'algo mas')\n"
     ]
    }
   ],
   "source": [
    "otra_variable = usuario.popitem()\n",
    "print(otra_variable)"
   ]
  },
  {
   "cell_type": "code",
   "execution_count": 37,
   "id": "e269e444-0e89-4187-ae66-1053800a652d",
   "metadata": {},
   "outputs": [
    {
     "name": "stdout",
     "output_type": "stream",
     "text": [
      "{}\n"
     ]
    }
   ],
   "source": [
    "print(usuario)"
   ]
  },
  {
   "cell_type": "markdown",
   "id": "66bf6fdb-b592-449b-ab4a-51985f560a48",
   "metadata": {},
   "source": [
    "ahora el metodo clear nosotros podemos usar este para elminar de manera global todo esto no acpeta argumentos"
   ]
  },
  {
   "cell_type": "code",
   "execution_count": 39,
   "id": "5c9558ac-e299-4cdb-aefa-2026120a0f1a",
   "metadata": {},
   "outputs": [
    {
     "name": "stdout",
     "output_type": "stream",
     "text": [
      "{}\n"
     ]
    }
   ],
   "source": [
    "borrado = {\"clave1\":\"valor\",\"clave2\":\"valor2\"}\n",
    "borrado.clear()\n",
    "print(borrado)"
   ]
  },
  {
   "cell_type": "markdown",
   "id": "4f44bf55-6e0f-45ae-b052-e7688e0777a0",
   "metadata": {},
   "source": [
    "setdefault en caso de que no existe la clave la anadira  con el valor por defecto "
   ]
  },
  {
   "cell_type": "code",
   "execution_count": 41,
   "id": "bbfa34f2-74ed-4878-a297-170d53f3334e",
   "metadata": {},
   "outputs": [
    {
     "name": "stdout",
     "output_type": "stream",
     "text": [
      "{'clave1': 'valor', 'clave2': 'valor2', 'clave3': 'valor3'}\n"
     ]
    }
   ],
   "source": [
    "borrado = {\"clave1\":\"valor\",\"clave2\":\"valor2\"}\n",
    "borrado.setdefault(\"clave3\",\"valor3\")\n",
    "print(borrado)"
   ]
  },
  {
   "cell_type": "markdown",
   "id": "8b210f94-3a0a-4ffc-a09c-3ef36b67a303",
   "metadata": {},
   "source": [
    "ahora nosotros podemos actulizar datos en masa y tambien update() le podemos pasar valores en forma de clave valor  en forma de diccionario ode iterable"
   ]
  },
  {
   "cell_type": "code",
   "execution_count": 42,
   "id": "31bce799-37dd-45dd-81ed-090f43a57292",
   "metadata": {},
   "outputs": [],
   "source": [
    "borrado.update([[\"clave4\",\"value4\"],[\"clave5\",\"value5\"]])"
   ]
  },
  {
   "cell_type": "code",
   "execution_count": 43,
   "id": "2bbfe3fd-60de-4424-8d61-d83c71c676a3",
   "metadata": {},
   "outputs": [
    {
     "name": "stdout",
     "output_type": "stream",
     "text": [
      "{'clave1': 'valor', 'clave2': 'valor2', 'clave3': 'valor3', 'clave4': 'value4', 'clave5': 'value5'}\n"
     ]
    }
   ],
   "source": [
    "print(borrado)"
   ]
  },
  {
   "cell_type": "code",
   "execution_count": 47,
   "id": "ca1dd694-2116-4d31-8da6-9fbe321d46df",
   "metadata": {},
   "outputs": [
    {
     "ename": "ValueError",
     "evalue": "dictionary update sequence element #0 has length 6; 2 is required",
     "output_type": "error",
     "traceback": [
      "\u001b[1;31m---------------------------------------------------------------------------\u001b[0m",
      "\u001b[1;31mValueError\u001b[0m                                Traceback (most recent call last)",
      "Cell \u001b[1;32mIn[47], line 1\u001b[0m\n\u001b[1;32m----> 1\u001b[0m \u001b[43mborrado\u001b[49m\u001b[38;5;241;43m.\u001b[39;49m\u001b[43mupdate\u001b[49m\u001b[43m(\u001b[49m\u001b[43m(\u001b[49m\u001b[43m(\u001b[49m\u001b[38;5;124;43m\"\u001b[39;49m\u001b[38;5;124;43mclave6\u001b[39;49m\u001b[38;5;124;43m\"\u001b[39;49m\u001b[43m,\u001b[49m\u001b[38;5;124;43m\"\u001b[39;49m\u001b[38;5;124;43mvalor6\u001b[39;49m\u001b[38;5;124;43m\"\u001b[39;49m\u001b[43m)\u001b[49m\u001b[43m)\u001b[49m\u001b[43m)\u001b[49m\n\u001b[0;32m      2\u001b[0m \u001b[38;5;28mprint\u001b[39m(borrado)\n",
      "\u001b[1;31mValueError\u001b[0m: dictionary update sequence element #0 has length 6; 2 is required"
     ]
    }
   ],
   "source": [
    "borrado.update(((\"clave6\",\"valor6\")))\n",
    "print(borrado)"
   ]
  },
  {
   "cell_type": "code",
   "execution_count": null,
   "id": "79b5f3ba-c90b-445c-82dd-125b2244ee44",
   "metadata": {},
   "outputs": [],
   "source": []
  }
 ],
 "metadata": {
  "kernelspec": {
   "display_name": "Python 3 (ipykernel)",
   "language": "python",
   "name": "python3"
  },
  "language_info": {
   "codemirror_mode": {
    "name": "ipython",
    "version": 3
   },
   "file_extension": ".py",
   "mimetype": "text/x-python",
   "name": "python",
   "nbconvert_exporter": "python",
   "pygments_lexer": "ipython3",
   "version": "3.12.2"
  }
 },
 "nbformat": 4,
 "nbformat_minor": 5
}
