{
 "cells": [
  {
   "cell_type": "markdown",
   "metadata": {},
   "source": [
    "veremos lo que es un bucle o tambien conocido como loop este solo  es un bloque de codigo que se ejecuta de manera repetida segun cierta condicion\n",
    "cuadno la  condicion  se deja de cumplir este tipo de bucle se para "
   ]
  },
  {
   "cell_type": "markdown",
   "metadata": {},
   "source": [
    "while CONDICION:\n",
    "    INSTRUCCIONES"
   ]
  },
  {
   "cell_type": "code",
   "execution_count": 2,
   "metadata": {},
   "outputs": [
    {
     "name": "stdout",
     "output_type": "stream",
     "text": [
      "0\n",
      "1\n",
      "2\n",
      "3\n",
      "4\n",
      "5\n",
      "6\n",
      "7\n",
      "8\n",
      "9\n"
     ]
    }
   ],
   "source": [
    "a = 0\n",
    "while a < 10:\n",
    "    print(a)\n",
    "    a += 1"
   ]
  },
  {
   "cell_type": "markdown",
   "metadata": {},
   "source": [
    "nosotros podemos usar estes while en una sola linea"
   ]
  },
  {
   "cell_type": "code",
   "execution_count": 1,
   "metadata": {},
   "outputs": [
    {
     "name": "stdout",
     "output_type": "stream",
     "text": [
      "0\n",
      "1\n",
      "2\n",
      "3\n",
      "4\n",
      "5\n",
      "6\n",
      "7\n",
      "8\n",
      "9\n"
     ]
    }
   ],
   "source": [
    "a = 0\n",
    "while a < 10: print(a);a+=1"
   ]
  },
  {
   "cell_type": "markdown",
   "metadata": {},
   "source": [
    "nosotros podemos  utilizar el bucle else  de el sigueinte modo"
   ]
  },
  {
   "cell_type": "code",
   "execution_count": null,
   "metadata": {},
   "outputs": [],
   "source": [
    "while  condicion:\n",
    "    instrucciones_a_ejecutar\n",
    "else:\n",
    "    instrucciones_fuera_del_bucle"
   ]
  },
  {
   "cell_type": "markdown",
   "metadata": {},
   "source": [
    "si la condicion nunca llega a ser cierta el bloque else si se ejecutara en un bucle while "
   ]
  },
  {
   "cell_type": "code",
   "execution_count": 3,
   "metadata": {},
   "outputs": [
    {
     "name": "stdout",
     "output_type": "stream",
     "text": [
      "1\n",
      "2\n"
     ]
    }
   ],
   "source": [
    "a = 0\n",
    "while a < 10:\n",
    "    a = a+1\n",
    "    if a == 3:\n",
    "        break\n",
    "    print(a)\n",
    "else:\n",
    "    print(\"ya hemos terminado\")"
   ]
  },
  {
   "cell_type": "code",
   "execution_count": 4,
   "metadata": {},
   "outputs": [
    {
     "name": "stdout",
     "output_type": "stream",
     "text": [
      "1\n",
      "2\n",
      "3\n",
      "4\n",
      "5\n",
      "6\n",
      "7\n",
      "8\n",
      "9\n",
      "10\n",
      "ya hemos terminado\n"
     ]
    }
   ],
   "source": [
    "a = 0\n",
    "while a < 10:\n",
    "    a = a+1\n",
    "    print(a)\n",
    "else:\n",
    "    print(\"ya hemos terminado\")"
   ]
  },
  {
   "cell_type": "markdown",
   "metadata": {},
   "source": [
    "una opcion parecida es continue dque tambien interrumpe el bucle pero  solo  en un ciclo que esta en ejecion"
   ]
  },
  {
   "cell_type": "code",
   "execution_count": 5,
   "metadata": {},
   "outputs": [
    {
     "name": "stdout",
     "output_type": "stream",
     "text": [
      "1\n",
      "2\n",
      "4\n",
      "5\n",
      "6\n",
      "7\n",
      "8\n",
      "9\n",
      "10\n",
      "ya hemos terminado\n"
     ]
    }
   ],
   "source": [
    "a = 0\n",
    "while a < 10:\n",
    "    a = a+1\n",
    "    if a == 3:\n",
    "        continue\n",
    "    print(a)\n",
    "else:\n",
    "    print(\"ya hemos terminado\")"
   ]
  },
  {
   "cell_type": "markdown",
   "metadata": {},
   "source": [
    "nosotros podemos  anidar nuestras sentencias de tipo while"
   ]
  },
  {
   "cell_type": "code",
   "execution_count": 7,
   "metadata": {},
   "outputs": [
    {
     "name": "stdout",
     "output_type": "stream",
     "text": [
      "tabla del 3\n",
      "3 x 1 = 3\n",
      "3 x 2 = 6\n",
      "3 x 3 = 9\n",
      "3 x 4 = 12\n",
      "3 x 5 = 15\n",
      "3 x 6 = 18\n",
      "3 x 7 = 21\n",
      "3 x 8 = 24\n",
      "3 x 9 = 27\n",
      "3 x 10 = 30\n",
      "tabla del 4\n",
      "4 x 1 = 4\n",
      "4 x 2 = 8\n",
      "4 x 3 = 12\n",
      "4 x 4 = 16\n",
      "4 x 5 = 20\n",
      "4 x 6 = 24\n",
      "4 x 7 = 28\n",
      "4 x 8 = 32\n",
      "4 x 9 = 36\n",
      "4 x 10 = 40\n",
      "tabla del 5\n",
      "5 x 1 = 5\n",
      "5 x 2 = 10\n",
      "5 x 3 = 15\n",
      "5 x 4 = 20\n",
      "5 x 5 = 25\n",
      "5 x 6 = 30\n",
      "5 x 7 = 35\n",
      "5 x 8 = 40\n",
      "5 x 9 = 45\n",
      "5 x 10 = 50\n",
      "tabla del 6\n",
      "6 x 1 = 6\n",
      "6 x 2 = 12\n",
      "6 x 3 = 18\n",
      "6 x 4 = 24\n",
      "6 x 5 = 30\n",
      "6 x 6 = 36\n",
      "6 x 7 = 42\n",
      "6 x 8 = 48\n",
      "6 x 9 = 54\n",
      "6 x 10 = 60\n",
      "tabla del 7\n",
      "7 x 1 = 7\n",
      "7 x 2 = 14\n",
      "7 x 3 = 21\n",
      "7 x 4 = 28\n",
      "7 x 5 = 35\n",
      "7 x 6 = 42\n",
      "7 x 7 = 49\n",
      "7 x 8 = 56\n",
      "7 x 9 = 63\n",
      "7 x 10 = 70\n",
      "#################\n"
     ]
    }
   ],
   "source": [
    "primero = 3\n",
    "while primero <= 7:\n",
    "    print(\"tabla del {}\".format(primero))\n",
    "    segundo = 1\n",
    "\n",
    "    while segundo <=10:\n",
    "        print(\"{} x {} = {}\".format(primero,segundo,primero*segundo))\n",
    "        segundo+=1\n",
    "    primero += 1\n",
    "print(\"#################\")"
   ]
  },
  {
   "cell_type": "markdown",
   "metadata": {},
   "source": [
    "nosotros podemos  usar multiples  while con otras  estructuras de control "
   ]
  },
  {
   "cell_type": "code",
   "execution_count": 11,
   "metadata": {},
   "outputs": [
    {
     "name": "stdout",
     "output_type": "stream",
     "text": [
      "2  es primo\n",
      "3  es primo\n",
      "5  es primo\n",
      "7  es primo\n",
      "11  es primo\n",
      "13  es primo\n",
      "17  es primo\n",
      "19  es primo\n",
      "23  es primo\n",
      "29  es primo\n",
      "31  es primo\n",
      "37  es primo\n",
      "41  es primo\n",
      "43  es primo\n",
      "47  es primo\n",
      "53  es primo\n",
      "59  es primo\n",
      "61  es primo\n",
      "67  es primo\n",
      "71  es primo\n",
      "73  es primo\n",
      "79  es primo\n",
      "83  es primo\n",
      "89  es primo\n",
      "97  es primo\n"
     ]
    }
   ],
   "source": [
    "inicio = 2\n",
    "final = 100\n",
    "while inicio<=final:\n",
    "    divisor = 2\n",
    "    while divisor<= inicio/divisor:\n",
    "        if inicio%divisor == 0:\n",
    "            break\n",
    "        divisor+=1\n",
    "    else:\n",
    "        print(inicio,\" es primo\")\n",
    "    inicio+=1\n"
   ]
  }
 ],
 "metadata": {
  "kernelspec": {
   "display_name": "Python 3",
   "language": "python",
   "name": "python3"
  },
  "language_info": {
   "codemirror_mode": {
    "name": "ipython",
    "version": 3
   },
   "file_extension": ".py",
   "mimetype": "text/x-python",
   "name": "python",
   "nbconvert_exporter": "python",
   "pygments_lexer": "ipython3",
   "version": "3.12.2"
  }
 },
 "nbformat": 4,
 "nbformat_minor": 2
}
