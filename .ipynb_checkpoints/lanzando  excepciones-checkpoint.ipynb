{
 "cells": [
  {
   "cell_type": "markdown",
   "id": "b8cad188-87ca-4910-a82f-b490537c646a",
   "metadata": {},
   "source": [
    "podemos  lanzar nuestras  propias excepciones gracias a la orden raise, que  debe ir seguida de la clase de  excepciones que queremos  lanzar \n",
    "raise ZeroDivisionError"
   ]
  },
  {
   "cell_type": "code",
   "execution_count": 2,
   "id": "0bb75230-0ed2-4979-892f-af6e575e9862",
   "metadata": {},
   "outputs": [
    {
     "ename": "ZeroDivisionError",
     "evalue": "",
     "output_type": "error",
     "traceback": [
      "\u001b[1;31m---------------------------------------------------------------------------\u001b[0m",
      "\u001b[1;31mZeroDivisionError\u001b[0m                         Traceback (most recent call last)",
      "Cell \u001b[1;32mIn[2], line 1\u001b[0m\n\u001b[1;32m----> 1\u001b[0m \u001b[38;5;28;01mraise\u001b[39;00m \u001b[38;5;167;01mZeroDivisionError\u001b[39;00m\n",
      "\u001b[1;31mZeroDivisionError\u001b[0m: "
     ]
    }
   ],
   "source": [
    "raise ZeroDivisionError"
   ]
  },
  {
   "cell_type": "markdown",
   "id": "34c8907a-b599-49c4-a91e-56376f8d1e8f",
   "metadata": {},
   "source": [
    "nosotros  pdemos anadir elementos para completar informacion  a esa excepcion"
   ]
  },
  {
   "cell_type": "code",
   "execution_count": 3,
   "id": "ed961e36-2323-40cc-bd29-cf01ac3b6c84",
   "metadata": {},
   "outputs": [
    {
     "ename": "ZeroDivisionError",
     "evalue": "Texto con informacion",
     "output_type": "error",
     "traceback": [
      "\u001b[1;31m---------------------------------------------------------------------------\u001b[0m",
      "\u001b[1;31mZeroDivisionError\u001b[0m                         Traceback (most recent call last)",
      "Cell \u001b[1;32mIn[3], line 1\u001b[0m\n\u001b[1;32m----> 1\u001b[0m \u001b[38;5;28;01mraise\u001b[39;00m \u001b[38;5;167;01mZeroDivisionError\u001b[39;00m(\u001b[38;5;124m\"\u001b[39m\u001b[38;5;124mTexto con informacion\u001b[39m\u001b[38;5;124m\"\u001b[39m)\n",
      "\u001b[1;31mZeroDivisionError\u001b[0m: Texto con informacion"
     ]
    }
   ],
   "source": [
    "raise ZeroDivisionError(\"Texto con informacion\")"
   ]
  },
  {
   "cell_type": "markdown",
   "id": "deed2648-e1b8-4703-b282-774b1721110c",
   "metadata": {},
   "source": [
    "nostros podemos aplicar esta  excepciones   de manera equivalente"
   ]
  },
  {
   "cell_type": "code",
   "execution_count": 4,
   "id": "9129c9fa-b065-4550-a281-a4d0feaa98f2",
   "metadata": {
    "scrolled": true
   },
   "outputs": [
    {
     "ename": "TypeError",
     "evalue": "",
     "output_type": "error",
     "traceback": [
      "\u001b[1;31m---------------------------------------------------------------------------\u001b[0m",
      "\u001b[1;31mTypeError\u001b[0m                                 Traceback (most recent call last)",
      "Cell \u001b[1;32mIn[4], line 1\u001b[0m\n\u001b[1;32m----> 1\u001b[0m \u001b[38;5;28;01mraise\u001b[39;00m \u001b[38;5;167;01mTypeError\u001b[39;00m()\n\u001b[0;32m      2\u001b[0m \u001b[38;5;28;01mraise\u001b[39;00m \u001b[38;5;167;01mTypeError\u001b[39;00m\n",
      "\u001b[1;31mTypeError\u001b[0m: "
     ]
    }
   ],
   "source": [
    "raise TypeError()\n",
    "raise TypeError"
   ]
  },
  {
   "cell_type": "markdown",
   "id": "bbfd56ab-3514-463d-ab30-04cdf1c2cd9d",
   "metadata": {},
   "source": [
    "en la primera sentencia estamos  lanzando un error con pisibles argumenos mientras en el segundo estamos directamente utilizando la clase pero python se encara de instanciarla de todos modos"
   ]
  },
  {
   "cell_type": "markdown",
   "id": "e56f16b6-c8e5-499c-8e92-a25fb66fda7f",
   "metadata": {},
   "source": [
    "nosotros podemos lanzar estas excepciones en el try y de esta misma manera nostros podemos  o tenemos la capacidad de capturarlo en el excepcion"
   ]
  },
  {
   "cell_type": "code",
   "execution_count": 6,
   "id": "72037b87-cadb-422d-9276-9df414bd8ee9",
   "metadata": {},
   "outputs": [
    {
     "name": "stdout",
     "output_type": "stream",
     "text": [
      "El divisor es cero\n"
     ]
    }
   ],
   "source": [
    "divisor = 0 \n",
    "try:\n",
    "    if divisor == 0 :\n",
    "        raise ZeroDivisionError(\"El divisor es cero\")\n",
    "except ZeroDivisionError as err:\n",
    "    print(err)"
   ]
  },
  {
   "cell_type": "markdown",
   "id": "ee51a5b1-9c6f-4772-acd9-3f7eff519537",
   "metadata": {},
   "source": [
    "En ocasiones especialmente al trabajar en funciones o modulos  puede ser necesario capturar una excepcion para actuar  de un modo determinado  ante  ella y  luego   relanzar  esa misma  excepcion u otra diferente para que puede ser capturado de nuevo en un nivel superior"
   ]
  },
  {
   "cell_type": "markdown",
   "id": "2e976a1a-0c39-499c-8f72-f62dd1b1e265",
   "metadata": {},
   "source": [
    "es que nosotros  podemos lanzar estar ecepciones desde  el bloque except"
   ]
  },
  {
   "cell_type": "code",
   "execution_count": 10,
   "id": "69388ffa-5275-4996-bb55-b5d824f2ac14",
   "metadata": {},
   "outputs": [
    {
     "ename": "ZeroDivisionError",
     "evalue": "El divisor sigue siendo cero",
     "output_type": "error",
     "traceback": [
      "\u001b[1;31m---------------------------------------------------------------------------\u001b[0m",
      "\u001b[1;31mZeroDivisionError\u001b[0m                         Traceback (most recent call last)",
      "Cell \u001b[1;32mIn[10], line 4\u001b[0m\n\u001b[0;32m      3\u001b[0m     \u001b[38;5;28;01mif\u001b[39;00m divisor \u001b[38;5;241m==\u001b[39m \u001b[38;5;241m0\u001b[39m :\n\u001b[1;32m----> 4\u001b[0m         \u001b[38;5;28;01mraise\u001b[39;00m \u001b[38;5;167;01mZeroDivisionError\u001b[39;00m(\u001b[38;5;124m\"\u001b[39m\u001b[38;5;124mEl divisor es cero\u001b[39m\u001b[38;5;124m\"\u001b[39m)\n\u001b[0;32m      5\u001b[0m \u001b[38;5;28;01mexcept\u001b[39;00m \u001b[38;5;167;01mZeroDivisionError\u001b[39;00m \u001b[38;5;28;01mas\u001b[39;00m err :\n",
      "\u001b[1;31mZeroDivisionError\u001b[0m: El divisor es cero",
      "\nDuring handling of the above exception, another exception occurred:\n",
      "\u001b[1;31mZeroDivisionError\u001b[0m                         Traceback (most recent call last)",
      "Cell \u001b[1;32mIn[10], line 6\u001b[0m\n\u001b[0;32m      4\u001b[0m         \u001b[38;5;28;01mraise\u001b[39;00m \u001b[38;5;167;01mZeroDivisionError\u001b[39;00m(\u001b[38;5;124m\"\u001b[39m\u001b[38;5;124mEl divisor es cero\u001b[39m\u001b[38;5;124m\"\u001b[39m)\n\u001b[0;32m      5\u001b[0m \u001b[38;5;28;01mexcept\u001b[39;00m \u001b[38;5;167;01mZeroDivisionError\u001b[39;00m \u001b[38;5;28;01mas\u001b[39;00m err :\n\u001b[1;32m----> 6\u001b[0m     \u001b[38;5;28;01mraise\u001b[39;00m \u001b[38;5;167;01mZeroDivisionError\u001b[39;00m(\u001b[38;5;124m\"\u001b[39m\u001b[38;5;124mEl divisor sigue siendo cero\u001b[39m\u001b[38;5;124m\"\u001b[39m)\n",
      "\u001b[1;31mZeroDivisionError\u001b[0m: El divisor sigue siendo cero"
     ]
    }
   ],
   "source": [
    "divisor = 0 \n",
    "try:\n",
    "    if divisor == 0 :\n",
    "        raise ZeroDivisionError(\"El divisor es cero\")\n",
    "except ZeroDivisionError as err :\n",
    "    raise ZeroDivisionError(\"El divisor sigue siendo cero\")"
   ]
  },
  {
   "cell_type": "markdown",
   "id": "0a776960-fe7d-40a1-91bf-715fab69ea4e",
   "metadata": {},
   "source": [
    "tambien puede usarse  dentro de un bloque  except sin  indicar ningun excepcion y de esta manera   se relansara la  misma excepcion actual"
   ]
  },
  {
   "cell_type": "code",
   "execution_count": 12,
   "id": "e5ebebcf-4f84-402d-b8aa-7ad7ab6887bf",
   "metadata": {},
   "outputs": [
    {
     "ename": "ZeroDivisionError",
     "evalue": "Errorrrrrrrrrrrrrrrrrrrrr",
     "output_type": "error",
     "traceback": [
      "\u001b[1;31m---------------------------------------------------------------------------\u001b[0m",
      "\u001b[1;31mZeroDivisionError\u001b[0m                         Traceback (most recent call last)",
      "Cell \u001b[1;32mIn[12], line 4\u001b[0m\n\u001b[0;32m      2\u001b[0m \u001b[38;5;28;01mtry\u001b[39;00m:\n\u001b[0;32m      3\u001b[0m     \u001b[38;5;28;01mif\u001b[39;00m divisor \u001b[38;5;241m==\u001b[39m \u001b[38;5;241m0\u001b[39m:\n\u001b[1;32m----> 4\u001b[0m         \u001b[38;5;28;01mraise\u001b[39;00m \u001b[38;5;167;01mZeroDivisionError\u001b[39;00m(\u001b[38;5;124m\"\u001b[39m\u001b[38;5;124mErrorrrrrrrrrrrrrrrrrrrrr\u001b[39m\u001b[38;5;124m\"\u001b[39m)\n\u001b[0;32m      5\u001b[0m \u001b[38;5;28;01mexcept\u001b[39;00m \u001b[38;5;167;01mZeroDivisionError\u001b[39;00m:\n\u001b[0;32m      6\u001b[0m     \u001b[38;5;28;01mraise\u001b[39;00m\n",
      "\u001b[1;31mZeroDivisionError\u001b[0m: Errorrrrrrrrrrrrrrrrrrrrr"
     ]
    }
   ],
   "source": [
    "divisor = 0\n",
    "try:\n",
    "    if divisor == 0:\n",
    "        raise ZeroDivisionError(\"Errorrrrrrrrrrrrrrrrrrrrr\")\n",
    "except ZeroDivisionError:\n",
    "    raise"
   ]
  },
  {
   "cell_type": "markdown",
   "id": "e9ed420c-2c6b-4b1c-9cbf-9209a8bb4914",
   "metadata": {},
   "source": [
    "de esta manera un try de nivel superior puede capturar esta ecepcion4\n",
    "pt"
   ]
  },
  {
   "cell_type": "code",
   "execution_count": 13,
   "id": "76748ecd-ded7-41e2-84fb-952d79397702",
   "metadata": {},
   "outputs": [
    {
     "name": "stdout",
     "output_type": "stream",
     "text": [
      "nos encargaremos de lanzar y  la excepcion\n",
      "me equivoque\n"
     ]
    }
   ],
   "source": [
    "try:\n",
    "    try:\n",
    "        raise ZeroDivisionError(\"me equivoque\")\n",
    "    except Exception as err:\n",
    "        print(\"nos encargaremos de lanzar y  la excepcion\")\n",
    "        raise\n",
    "        \n",
    "except ZeroDivisionError as error:\n",
    "    print(error)"
   ]
  },
  {
   "cell_type": "markdown",
   "id": "3c62c8f9-9a83-4699-90f1-4772a8567a48",
   "metadata": {},
   "source": [
    "ahora nostros talvez no entendamos por que estamos haciendo este tipo de cosas pero tenemos que tomar encuentra que trabajaremos con funciones de manera constante y de esa manera es cuando nos damos cuenta que tan util  es manejar los errores a estos niveles"
   ]
  },
  {
   "cell_type": "code",
   "execution_count": 16,
   "id": "bff28933-7f8a-4930-9d59-28f0a2a9e949",
   "metadata": {},
   "outputs": [
    {
     "name": "stdout",
     "output_type": "stream",
     "text": [
      "se ha presentado algun problema\n",
      "El divisor es cero\n"
     ]
    }
   ],
   "source": [
    "def mi_funcion():\n",
    "    try:\n",
    "        raise ZeroDivisionError(\"El divisor es cero\")\n",
    "    except ZeroDivisionError as err:\n",
    "        print(\"se ha presentado algun problema\")\n",
    "        raise\n",
    "\n",
    "try:\n",
    "    mi_funcion()\n",
    "except ZeroDivisionError as err:\n",
    "    print(err)\n",
    "    \n",
    "        "
   ]
  },
  {
   "cell_type": "markdown",
   "id": "a553eb64-fbf1-45d8-ae6f-54dea67738e2",
   "metadata": {},
   "source": [
    "por ultimo nosotros podemos encadenar excepciones haciendo que  unas dependan de otras  lanzando la excepcion  normalmente pero seguida de la  palabra reservada from y a continucion la excepcion de la depende"
   ]
  },
  {
   "cell_type": "code",
   "execution_count": 17,
   "id": "fe40e999-3d6e-4f91-aaf4-e63fdda7e0e5",
   "metadata": {},
   "outputs": [
    {
     "ename": "Exception",
     "evalue": "la desgracia no persigue",
     "output_type": "error",
     "traceback": [
      "\u001b[1;31m---------------------------------------------------------------------------\u001b[0m",
      "\u001b[1;31mException\u001b[0m                                 Traceback (most recent call last)",
      "Cell \u001b[1;32mIn[17], line 2\u001b[0m\n\u001b[0;32m      1\u001b[0m \u001b[38;5;28;01mtry\u001b[39;00m:\n\u001b[1;32m----> 2\u001b[0m     \u001b[38;5;28;01mraise\u001b[39;00m \u001b[38;5;167;01mException\u001b[39;00m(\u001b[38;5;124m\"\u001b[39m\u001b[38;5;124mproblemilla\u001b[39m\u001b[38;5;124m\"\u001b[39m)\n\u001b[0;32m      3\u001b[0m \u001b[38;5;28;01mexcept\u001b[39;00m \u001b[38;5;167;01mException\u001b[39;00m \u001b[38;5;28;01mas\u001b[39;00m err:\n",
      "\u001b[1;31mException\u001b[0m: problemilla",
      "\nThe above exception was the direct cause of the following exception:\n",
      "\u001b[1;31mException\u001b[0m                                 Traceback (most recent call last)",
      "Cell \u001b[1;32mIn[17], line 4\u001b[0m\n\u001b[0;32m      2\u001b[0m     \u001b[38;5;28;01mraise\u001b[39;00m \u001b[38;5;167;01mException\u001b[39;00m(\u001b[38;5;124m\"\u001b[39m\u001b[38;5;124mproblemilla\u001b[39m\u001b[38;5;124m\"\u001b[39m)\n\u001b[0;32m      3\u001b[0m \u001b[38;5;28;01mexcept\u001b[39;00m \u001b[38;5;167;01mException\u001b[39;00m \u001b[38;5;28;01mas\u001b[39;00m err:\n\u001b[1;32m----> 4\u001b[0m     \u001b[38;5;28;01mraise\u001b[39;00m \u001b[38;5;167;01mException\u001b[39;00m(\u001b[38;5;124m\"\u001b[39m\u001b[38;5;124mla desgracia no persigue\u001b[39m\u001b[38;5;124m\"\u001b[39m) \u001b[38;5;28;01mfrom\u001b[39;00m  \u001b[38;5;21;01merr\u001b[39;00m\n",
      "\u001b[1;31mException\u001b[0m: la desgracia no persigue"
     ]
    }
   ],
   "source": [
    "try:\n",
    "    raise Exception(\"problemilla\")\n",
    "except Exception as err:\n",
    "    raise Exception(\"la desgracia no persigue\") from  err"
   ]
  },
  {
   "cell_type": "code",
   "execution_count": 22,
   "id": "71debc37-e60b-4f41-9ea8-b07936c58651",
   "metadata": {},
   "outputs": [
    {
     "name": "stdout",
     "output_type": "stream",
     "text": [
      "tenemos un error\n",
      "problemilla\n"
     ]
    }
   ],
   "source": [
    "\n",
    "try:\n",
    "    raise Exception(\"problemilla\")\n",
    "except Exception as err:\n",
    "    print(\"tenemos un error\")\n",
    "    raise Exception(\"la desgracia nos persigue\") from err\n"
   ]
  },
  {
   "cell_type": "code",
   "execution_count": null,
   "id": "f50e1f93-afba-4e66-98cb-2e94649df17e",
   "metadata": {},
   "outputs": [],
   "source": []
  }
 ],
 "metadata": {
  "kernelspec": {
   "display_name": "Python 3 (ipykernel)",
   "language": "python",
   "name": "python3"
  },
  "language_info": {
   "codemirror_mode": {
    "name": "ipython",
    "version": 3
   },
   "file_extension": ".py",
   "mimetype": "text/x-python",
   "name": "python",
   "nbconvert_exporter": "python",
   "pygments_lexer": "ipython3",
   "version": "3.12.2"
  }
 },
 "nbformat": 4,
 "nbformat_minor": 5
}
