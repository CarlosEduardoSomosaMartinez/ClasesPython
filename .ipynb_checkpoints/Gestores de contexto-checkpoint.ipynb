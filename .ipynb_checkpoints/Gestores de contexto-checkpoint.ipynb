{
 "cells": [
  {
   "cell_type": "markdown",
   "id": "a922c56b-88b5-4002-aaef-8217e7419119",
   "metadata": {},
   "source": [
    "un gestor de contexto lo que nos va ayudar  para que cierto recursos sean liberados despues de que los hemos utilizado sin importar si un error se hall producido o no aunque de manera rapida veremos explicitamente que son pero  todavia no tendremos la habilidad para nostros poder usarlos ya que lo utilizaremos para poder ocupar recursos como una  conexion a una base de datos una conexion  o tambien podemos usarlo para conectarnos a una api o incluso trabajar con archivos "
   ]
  },
  {
   "cell_type": "markdown",
   "id": "e3b25aab-a8d5-4099-ad2d-672285942d16",
   "metadata": {},
   "source": [
    "que hariamos nosotros en caso de contar con un gestor de contexto seria de la siguiente manera al querer trabajr con un archivo"
   ]
  },
  {
   "cell_type": "code",
   "execution_count": 1,
   "id": "f786567f-75b2-43c3-9370-6f5a17c89a2f",
   "metadata": {},
   "outputs": [
    {
     "ename": "NameError",
     "evalue": "name 'fichero' is not defined",
     "output_type": "error",
     "traceback": [
      "\u001b[1;31m---------------------------------------------------------------------------\u001b[0m",
      "\u001b[1;31mNameError\u001b[0m                                 Traceback (most recent call last)",
      "Cell \u001b[1;32mIn[1], line 9\u001b[0m\n\u001b[0;32m      7\u001b[0m     \u001b[38;5;28mprint\u001b[39m(contenido)\n\u001b[0;32m      8\u001b[0m \u001b[38;5;28;01mfinally\u001b[39;00m:\n\u001b[1;32m----> 9\u001b[0m     \u001b[43mfichero\u001b[49m\u001b[38;5;241m.\u001b[39mclose()\n",
      "\u001b[1;31mNameError\u001b[0m: name 'fichero' is not defined"
     ]
    }
   ],
   "source": [
    "try: \n",
    "    fichero = open(\"texto.txt\")\n",
    "except Exception:\n",
    "    pass\n",
    "else:\n",
    "    contenido = fichero.readline()\n",
    "    print(contenido)\n",
    "finally:\n",
    "    fichero.close()"
   ]
  },
  {
   "cell_type": "code",
   "execution_count": null,
   "id": "33c132a6-5ca5-488e-8ed2-69ef38c7d476",
   "metadata": {},
   "outputs": [],
   "source": []
  }
 ],
 "metadata": {
  "kernelspec": {
   "display_name": "Python 3 (ipykernel)",
   "language": "python",
   "name": "python3"
  },
  "language_info": {
   "codemirror_mode": {
    "name": "ipython",
    "version": 3
   },
   "file_extension": ".py",
   "mimetype": "text/x-python",
   "name": "python",
   "nbconvert_exporter": "python",
   "pygments_lexer": "ipython3",
   "version": "3.12.2"
  }
 },
 "nbformat": 4,
 "nbformat_minor": 5
}
