{
 "cells": [
  {
   "cell_type": "markdown",
   "id": "3c0423e7-fbfd-42e8-b337-87151a1234b9",
   "metadata": {},
   "source": [
    "esto son otro tipo de secuencias ordenadas al igual que la anterior se puede acceder por su indece segun su posicion ahora a diferencia de lo anterior nosotros tenemos un tipo de objeto de tipo mutable por lo contrario de los anteriores ejemplos de cadena de bytes"
   ]
  },
  {
   "cell_type": "markdown",
   "id": "0b142fd7-ecb5-44b6-9da9-034823e3f54b",
   "metadata": {},
   "source": [
    "ahora hay dos formas de declarar una lista de forma literal con dos corchetes y en la que igual que la anterior tambien nosotros podemos introducir cualquier tipo  dato mezcladdo inclusive otras secunecias ahora esto si son mas logicas que las declaremos de manera vacia , y aparte tambien podemos hacer a declaracion de manera explicita con nuestra funcion list() y que podemos  inicialisar con un elementos de ese iterable "
   ]
  },
  {
   "cell_type": "code",
   "execution_count": 11,
   "id": "6f72a4e4-182b-4bb7-bcf7-f3e3666e0364",
   "metadata": {},
   "outputs": [
    {
     "name": "stdout",
     "output_type": "stream",
     "text": [
      "[1, 2, 3, 4, 5]\n",
      "['e', 's', 't', 'o', ' ', 'e', 's', ' ', 'u', 'n', 'a', ' ', 'f', 'r', 'a', 's', 'e']\n"
     ]
    }
   ],
   "source": [
    "frase = \"esto es una frase\"\n",
    "lista = [1,2,3,4,5]\n",
    "lista2 = list(frase)\n",
    "print(lista)\n",
    "print(lista2)"
   ]
  },
  {
   "cell_type": "markdown",
   "id": "b461921c-e85f-4420-900a-afe989de2a34",
   "metadata": {},
   "source": [
    "nosotros podemos acceder a esas posiciones atraves de ya conocidos corchetes ahora hay que acordanos que inicia en el 0 hasta n\n",
    "ahora si es que nosotros ponemos un indice que esta mas alla de lo que  deberia avarcar nosotro tendremos un error IndexError"
   ]
  },
  {
   "cell_type": "code",
   "execution_count": 2,
   "id": "0b48a813-bca8-411c-8bdc-a5cef934e34b",
   "metadata": {},
   "outputs": [
    {
     "ename": "IndexError",
     "evalue": "list index out of range",
     "output_type": "error",
     "traceback": [
      "\u001b[1;31m---------------------------------------------------------------------------\u001b[0m",
      "\u001b[1;31mIndexError\u001b[0m                                Traceback (most recent call last)",
      "Cell \u001b[1;32mIn[2], line 1\u001b[0m\n\u001b[1;32m----> 1\u001b[0m \u001b[38;5;28mprint\u001b[39m(\u001b[43mlista\u001b[49m\u001b[43m[\u001b[49m\u001b[38;5;241;43m9\u001b[39;49m\u001b[43m]\u001b[49m)\n",
      "\u001b[1;31mIndexError\u001b[0m: list index out of range"
     ]
    }
   ],
   "source": [
    "print(lista[9])"
   ]
  },
  {
   "cell_type": "markdown",
   "id": "7164e60c-a3cf-4564-b46a-825924b69cd7",
   "metadata": {},
   "source": [
    "nosotros tambien podemos  acceder a nuestras listas dentro de otras listas al igual  que nuestras listas"
   ]
  },
  {
   "cell_type": "code",
   "execution_count": 6,
   "id": "c71a6bd5-46ea-4c08-980b-11583138af6d",
   "metadata": {},
   "outputs": [
    {
     "name": "stdout",
     "output_type": "stream",
     "text": [
      "[1, 2, 3, 4, [3, 'estos', (1, 3, 4)]]\n",
      "4\n"
     ]
    }
   ],
   "source": [
    "sub_listas = [1,2,3,4,[3,\"estos\",(1,3,4)]]\n",
    "print(sub_listas)\n",
    "print(sub_listas[4][2][2])"
   ]
  },
  {
   "cell_type": "markdown",
   "id": "639a9f0f-12af-4ed6-9535-1d6806310ac2",
   "metadata": {},
   "source": [
    "al igual que las listas nosotros podemos hacer la sepacions por lineas para poder ordenar nuestras listas"
   ]
  },
  {
   "cell_type": "code",
   "execution_count": 7,
   "id": "950172d6-df9e-4bee-8718-dc4105b7de30",
   "metadata": {},
   "outputs": [
    {
     "name": "stdout",
     "output_type": "stream",
     "text": [
      "[1, 2, 3, 4, 5, 6, 3, 5, 6, 7]\n"
     ]
    }
   ],
   "source": [
    "lista_ordenada = [\n",
    "    1,2,3,4,5,\n",
    "    6,3,5,6,7,\n",
    "]\n",
    "print(lista_ordenada)"
   ]
  },
  {
   "cell_type": "markdown",
   "id": "0a51683c-dd81-4731-8b64-a7dde5154173",
   "metadata": {},
   "source": [
    "ahora esta es lo que marca la diferencia con las tuplas esta y es que podemos modificar una de estos es la de eleminar lo usaremos del"
   ]
  },
  {
   "cell_type": "code",
   "execution_count": 9,
   "id": "5301cac1-b1a2-4ed1-bcf6-7e22ea8e3a98",
   "metadata": {},
   "outputs": [
    {
     "name": "stdout",
     "output_type": "stream",
     "text": [
      "['uno', 'dos', 'tres', 'cuatro', 'cinco']\n",
      "cuatro\n",
      "cinco\n",
      "['uno', 'tres', 'cuatro', 'cinco']\n"
     ]
    }
   ],
   "source": [
    "lista_modificada = [\"uno\",\"dos\",\"tres\",\"cuatro\",\"cinco\"]\n",
    "print(lista_modificada)\n",
    "print(lista_modificada[3])\n",
    "del lista_modificada[1]\n",
    "print(lista_modificada[3])\n",
    "print(lista_modificada)"
   ]
  },
  {
   "cell_type": "markdown",
   "id": "fcb6aee7-7be5-4a09-90fd-6ba5aaf115c9",
   "metadata": {},
   "source": [
    "ahora  la lista comparte  lo mismo metodos y funciones que tienen la mayoria de secencias de mas adelante  y tienen metodos caracteristicos por su mutuabilidad el primero metodo es append"
   ]
  },
  {
   "cell_type": "code",
   "execution_count": null,
   "id": "1c68a0ab-4e93-41da-84b1-c63c7bfe724e",
   "metadata": {},
   "outputs": [],
   "source": [
    "lista = [\"prima\",\"segundo\",\"tercero\"]\n",
    "print(lista)\n",
    "lista.append(\"cuarto\")"
   ]
  },
  {
   "cell_type": "markdown",
   "id": "97649013-4ac4-475d-9735-9cab01e49ff6",
   "metadata": {},
   "source": [
    "en ocasiones necesitamos agregar mas elementos una lista y lo podemos hacer con un iterable agregandoselo al final extend()"
   ]
  },
  {
   "cell_type": "code",
   "execution_count": 13,
   "id": "2e66341a-1060-4d51-95b3-cf4754293c30",
   "metadata": {},
   "outputs": [
    {
     "name": "stdout",
     "output_type": "stream",
     "text": [
      "[1, 2, 3, 4]\n"
     ]
    }
   ],
   "source": [
    "lista = []\n",
    "lista.extend((1,2,3,4))\n",
    "print(lista)"
   ]
  },
  {
   "cell_type": "markdown",
   "id": "7ed46cd3-9cd9-46c9-ad34-28214ae88993",
   "metadata": {},
   "source": [
    "en ocasiones tambien ocuparemos insertar elementos en una parte de la lista que no sea el  final y para eso tenemos el metodo  insert que nos pedira dos  argumentos el  indice el numero a insertar"
   ]
  },
  {
   "cell_type": "code",
   "execution_count": 18,
   "id": "042483db-5e6e-4f0d-80c5-c1af0eac8d2e",
   "metadata": {},
   "outputs": [
    {
     "name": "stdout",
     "output_type": "stream",
     "text": [
      "['cero', 'uno', 'dos']\n",
      "['cero', 'uno', 'uno punto cinco', 'dos']\n"
     ]
    }
   ],
   "source": [
    "lista = [\"cero\",\"uno\",\"dos\"]\n",
    "print(lista)\n",
    "lista.insert(2,\"uno punto cinco\")\n",
    "print(lista)"
   ]
  },
  {
   "cell_type": "markdown",
   "id": "1b0cfe02-a26c-47f7-98bb-0fa792761275",
   "metadata": {},
   "source": [
    "si ya agregamos  es hora de remover y es que  nosotros podemos eliminar  la primera aparicion del elemento que le pasemos al parametro  de remove()\n",
    "en caso de no exister se  lanzara otra  valueError o tambien podemos usar la opcion nu-clear"
   ]
  },
  {
   "cell_type": "code",
   "execution_count": 19,
   "id": "65be3c98-cbf7-4f53-aa24-9b1c0e3c90a3",
   "metadata": {},
   "outputs": [
    {
     "name": "stdout",
     "output_type": "stream",
     "text": [
      "['uno', 'uno punto cinco', 'dos']\n",
      "[]\n"
     ]
    }
   ],
   "source": [
    "lista.remove(\"cero\")\n",
    "print(lista)\n",
    "lista.clear()\n",
    "print(lista)"
   ]
  },
  {
   "cell_type": "markdown",
   "id": "a1813054-ec14-4d9b-873e-8519152f7e61",
   "metadata": {},
   "source": [
    "ahora  reverse solo lo usaremos para efectivamente para invertir un orden de los elementos\n"
   ]
  },
  {
   "cell_type": "code",
   "execution_count": 20,
   "id": "2801bd94-69bf-4f11-b139-5a299fdd6505",
   "metadata": {},
   "outputs": [
    {
     "name": "stdout",
     "output_type": "stream",
     "text": [
      "[1, 3, 4, 5, 3, 9]\n",
      "[9, 3, 5, 4, 3, 1]\n"
     ]
    }
   ],
   "source": [
    "lista = [1,3,4,5,3,9]\n",
    "print(lista)\n",
    "lista.reverse()\n",
    "print(lista)"
   ]
  },
  {
   "cell_type": "markdown",
   "id": "19cf8675-6879-4ed0-b83e-5b6fcb792706",
   "metadata": {},
   "source": [
    "ahora por ultimo y un elemento que es fundamental en un comportamiento de estructura de datos y es el metodo pop que lo que hace es eliminar el ultimo numero de  lista pero tambien hace algo que es particular parece ser como un remove y es eliminar un dato segun su indice y te devuleve el objeto eliminado ejemplo"
   ]
  },
  {
   "cell_type": "code",
   "execution_count": 23,
   "id": "2466eb45-d58a-45b5-a424-34d30c99bcf6",
   "metadata": {},
   "outputs": [
    {
     "name": "stdout",
     "output_type": "stream",
     "text": [
      "[1, 3, 2, 3]\n",
      "5\n",
      "2\n",
      "[1, 3, 3]\n"
     ]
    }
   ],
   "source": [
    "remove_lista = [1,3,2,3,5]\n",
    "elemento = remove_lista.pop()\n",
    "print(remove_lista)\n",
    "print(elemento)\n",
    "elemento_selecciondo = remove_lista.pop(2)\n",
    "print(elemento_selecciondo)\n",
    "print(remove_lista)"
   ]
  },
  {
   "cell_type": "markdown",
   "id": "81f7b131-127e-43b2-a8d0-14092754cca1",
   "metadata": {},
   "source": [
    "otro metodo  que se puede ocupar  par poder nosotros  copiar un arreglo aunque esto se hace de forma superficial y no de forma profunda"
   ]
  },
  {
   "cell_type": "code",
   "execution_count": null,
   "id": "763db65d-f160-4c62-a77a-491d70ea4278",
   "metadata": {},
   "outputs": [],
   "source": [
    "lista = [1,2,3,4,5]\n",
    "lista_copia = lista.copy(lista)"
   ]
  }
 ],
 "metadata": {
  "kernelspec": {
   "display_name": "Python 3 (ipykernel)",
   "language": "python",
   "name": "python3"
  },
  "language_info": {
   "codemirror_mode": {
    "name": "ipython",
    "version": 3
   },
   "file_extension": ".py",
   "mimetype": "text/x-python",
   "name": "python",
   "nbconvert_exporter": "python",
   "pygments_lexer": "ipython3",
   "version": "3.12.2"
  }
 },
 "nbformat": 4,
 "nbformat_minor": 5
}
