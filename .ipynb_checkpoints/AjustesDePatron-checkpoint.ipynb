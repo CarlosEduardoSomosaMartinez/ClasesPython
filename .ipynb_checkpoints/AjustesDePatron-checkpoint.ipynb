{
 "cells": [
  {
   "cell_type": "markdown",
   "metadata": {},
   "source": [
    "python cuenta con su version del switch la cual algo que podemos conoces como ajuste de patron y podemos  tener un estructura como la siguiente"
   ]
  },
  {
   "cell_type": "markdown",
   "metadata": {},
   "source": [
    "match Sujeto\n",
    "    case Patron :\n",
    "        instrucciones si logramaos ejecutar ese fragmento de codigo\n",
    "    "
   ]
  },
  {
   "cell_type": "markdown",
   "metadata": {},
   "source": [
    "por ejemplo vemos como se puede resolver el caso de aeropuertos usando nuestro switch o ajuste de patron"
   ]
  },
  {
   "cell_type": "code",
   "execution_count": 1,
   "metadata": {},
   "outputs": [
    {
     "name": "stdout",
     "output_type": "stream",
     "text": [
      "Granada\n"
     ]
    }
   ],
   "source": [
    "iata = \"GRX\"\n",
    "\n",
    "match iata:\n",
    "    case \"MAD\":\n",
    "        ciudad = \"madrid\"\n",
    "    case \"AEP\":\n",
    "        ciudad = \"buenos Aires\"\n",
    "    case \"EPA\":\n",
    "        ciudad = \"buenos Aires\"\n",
    "    case \"EZA\":\n",
    "        ciudad = \"buenos Aires\"\n",
    "    case \"GRX\":\n",
    "        ciudad = \"Granada\"\n",
    "    case \"LHR\":\n",
    "        ciudad = \"Londres\"\n",
    "    case \"LGW\":\n",
    "        ciudad = \"Londres\"\n",
    "    case _:\n",
    "        ciudad = \"no lo se\"\n",
    "    \n",
    "print(ciudad)"
   ]
  },
  {
   "cell_type": "markdown",
   "metadata": {},
   "source": [
    "nuestro sujeto sera puesto en el match y despues se compara con cada case y en caso de que coincida el codigo se ejecutara y por ultimo nuestra parte final del case tenemos un comodin ese comodin aceptara cualquier patron"
   ]
  },
  {
   "cell_type": "markdown",
   "metadata": {},
   "source": [
    "nosotros podemos evaluar mas de un patron en un mismo case esto se hace  la barra vertical"
   ]
  },
  {
   "cell_type": "code",
   "execution_count": 2,
   "metadata": {},
   "outputs": [
    {
     "name": "stdout",
     "output_type": "stream",
     "text": [
      "No lo se\n"
     ]
    }
   ],
   "source": [
    "iata = \"GRX\"\n",
    "match iata:\n",
    "    case \"MAD\":\n",
    "        ciudad = \"madrid\"\n",
    "    case \"AEP\"| \"EPA\" | \"EZA\":\n",
    "        ciudad = \"buenos Aires\"\n",
    "    case _:\n",
    "        ciudad = \"No lo se\"\n",
    "print(ciudad)"
   ]
  },
  {
   "cell_type": "markdown",
   "metadata": {},
   "source": [
    "seria riduculo pensar que solo es lo unico que puede hacer match pero poara demostrarte  algo un poco mas potente podemos hacer un ejemplo un poco mas complicado un ejemplo para clasificar un conjunto de rgb  0 al 256"
   ]
  },
  {
   "cell_type": "code",
   "execution_count": null,
   "metadata": {},
   "outputs": [],
   "source": [
    "rgb =  (120,0,0)\n",
    "match rgb:\n",
    "    case (0,0,0):\n",
    "        print(\"el color es negro\")\n",
    "    case (255,255,255):\n",
    "        print(\"el color es blanco\")\n",
    "    case _:\n",
    "        print(\"es cualquier otro color\")\n",
    "    \n"
   ]
  },
  {
   "cell_type": "markdown",
   "metadata": {},
   "source": [
    "ahora nosotros podemos se un poco mas ambiguo para que pdamos comparar de una mejor manera siendo un pco mas ambiguos \n",
    "en la comparacio en lugar de un valor literal podemos poner un nombre el que queramos y de esa manera nosotros podemos capturar el dato que ocupemos "
   ]
  },
  {
   "cell_type": "code",
   "execution_count": 7,
   "metadata": {},
   "outputs": [
    {
     "name": "stdout",
     "output_type": "stream",
     "text": [
      "es  rojo en $25\n"
     ]
    }
   ],
   "source": [
    "rgb = (25,0,0)\n",
    "match rgb:\n",
    "    case (_,_):\n",
    "        print(\"tenemos que tener tres elementos \")\n",
    "    case (255,255,255):\n",
    "        print(\"es balnco\")\n",
    "    case (0,0,0):\n",
    "        print(\"es negro\")\n",
    "    case (r,0,0):\n",
    "        print(f\"es  rojo en {r}\")\n",
    "        "
   ]
  },
  {
   "cell_type": "markdown",
   "metadata": {},
   "source": [
    "como pudemos observar en el ultimo case este hara match con cualquier numero en la primera poscion y con ceros en las restantes este nombre no es esclusivo para la primera posicion ahora nosotros podemos tener ya una pequena idea de lo que ase y es lo que ara es no solo aceptar cualquier valor si no tambien capturarlo\n",
    " \n",
    " ahora nosotros ya tenemos la ideas de tres formas de declarar patrones dentro  de este match y son los literales los patrones  de captura que no son mas que nombres que coinciden  con el sujeto o la parte a la que se le corresponde  y ademas,  capturan valor con que ha coincidido  y que podemos usar despued  y por ultimoo el comin que se indica mediante un guion bajo y concide con cualquier cosa\n",
    "\n",
    " ahora un patron puede tener sub patrones o tambion opciones distintass de un subpatron usando la barra  vertical del modo que le indicamos un patron completo"
   ]
  },
  {
   "cell_type": "code",
   "execution_count": 10,
   "metadata": {},
   "outputs": [
    {
     "name": "stdout",
     "output_type": "stream",
     "text": [
      "mascota comun\n"
     ]
    }
   ],
   "source": [
    "animal = (\"mascota\",\"gato\")\n",
    "\n",
    "match animal:\n",
    "    case (\"mascota\" , \"perro\"|\"gato\"):\n",
    "        print(\"mascota comun\")\n",
    "    case (\"mascota\", \"leon\" | \"cocodrilo\"):\n",
    "        print(\"mascota peligrosa\")\n"
   ]
  },
  {
   "cell_type": "markdown",
   "metadata": {},
   "source": [
    "nosotro podemos aplicar todos estos tipos de   patrones a oto tipo de coleccion por ejemplo  las listar"
   ]
  },
  {
   "cell_type": "code",
   "execution_count": 11,
   "metadata": {},
   "outputs": [
    {
     "name": "stdout",
     "output_type": "stream",
     "text": [
      "hola mundo\n"
     ]
    }
   ],
   "source": [
    "lista = [\"hola\",\"mundo\"]\n",
    "match lista:\n",
    "    case [prim,seg,ter]:\n",
    "        print(prim,seg,ter)\n",
    "    case [prim,seg]:\n",
    "        print(prim,seg)\n",
    "    case _:\n",
    "        print(\"Otro caso\")"
   ]
  },
  {
   "cell_type": "markdown",
   "metadata": {},
   "source": [
    "tambien podemos usarlo en diccionarios "
   ]
  },
  {
   "cell_type": "code",
   "execution_count": 9,
   "metadata": {},
   "outputs": [
    {
     "name": "stdout",
     "output_type": "stream",
     "text": [
      "todos los datos {'apellido': 'Hinodjosa'}\n"
     ]
    }
   ],
   "source": [
    "datos = {\n",
    "    \"nombre\":\"hectodr\",\n",
    "    \"apellido\":\"Hinodjosa\"\n",
    "}\n",
    "match datos:\n",
    "    case {\"nombre\":\"Pablo\",\"apellido\":\"Hinojosa\"}:\n",
    "        print(\"hey es mi nombre\")\n",
    "    case {\"apellido\":\"Hinojosa\",\"nombre\":nombre}:\n",
    "        print(f\"es de la familia y se llama {nombre}\")\n",
    "    case { \"nombre\":\"hectodr\",**datos} :\n",
    "        print(\"todos los datos\",datos)\n",
    "    case _:\n",
    "        print(\"no se quien es\")"
   ]
  },
  {
   "cell_type": "markdown",
   "metadata": {},
   "source": [
    " cuando nosotros  usamos una secuencia  de sujeto  esta solo concidira con el case que se  ajuste de manera concreta a el importando  el numero de elemenotos asi como  su orden  pero pasa algo curioso cuando usamos un diccionario y es que esto es irrelevante solo necesita tener  el contenido del case aunque este tenga en comparacion un diccionario "
   ]
  },
  {
   "cell_type": "markdown",
   "metadata": {},
   "source": [
    "anteriormente nosotros vimos el tema de desempaquetadores  y lo podemos  usar para tomar un numero determinado de vaores un ejemplo como"
   ]
  },
  {
   "cell_type": "code",
   "execution_count": null,
   "metadata": {},
   "outputs": [],
   "source": [
    "fase = [\"carro\",\n",
    "       \"camioneta\",\n",
    "       \"moto\",\n",
    "       \"trailer\"]\n",
    "match fase:\n",
    "    case [primer,segundo,*resto]:\n",
    "        print(primer,segundo,resto)\n",
    "    case todo:\n",
    "        print(\"esto es  todo la fase\")\n",
    "        print(todo)"
   ]
  },
  {
   "cell_type": "markdown",
   "metadata": {},
   "source": [
    "nosotros podemos hacer esto mismo  con los diccionarios en caso de que no tengamos nada que almacenar simplemente nos dara un recuadro vacio "
   ]
  },
  {
   "cell_type": "code",
   "execution_count": null,
   "metadata": {},
   "outputs": [],
   "source": [
    "datos ={\n",
    "    \"nombre\":\"Alondra\",\n",
    "    \"apellido\":\"Hinojosa\",\n",
    "    \"elegancia\":\"epoca\"\n",
    "}\n",
    "\n",
    "match datos:\n",
    "    case {\"nombre\":nombre,**resto}\n",
    "        print(f\"El nombre es {nombre}\")\n",
    "        print(resto)\n",
    "    case _:\n",
    "        print(\"no hay nada\")"
   ]
  },
  {
   "cell_type": "markdown",
   "metadata": {},
   "source": [
    "nosotros  podemos hacer calculos funciones  en los patrones de modo que el sujeto tenga que condicir con ellos tra la aplicacion de esos claculosy esas funciones"
   ]
  },
  {
   "cell_type": "code",
   "execution_count": 16,
   "metadata": {},
   "outputs": [
    {
     "ename": "NameError",
     "evalue": "name 'rgb' is not defined",
     "output_type": "error",
     "traceback": [
      "\u001b[1;31m---------------------------------------------------------------------------\u001b[0m",
      "\u001b[1;31mNameError\u001b[0m                                 Traceback (most recent call last)",
      "Cell \u001b[1;32mIn[16], line 2\u001b[0m\n\u001b[0;32m      1\u001b[0m color \u001b[38;5;241m=\u001b[39m (\u001b[38;5;241m2\u001b[39m,\u001b[38;5;241m2\u001b[39m,\u001b[38;5;241m2\u001b[39m)\n\u001b[1;32m----> 2\u001b[0m \u001b[38;5;28;01mmatch\u001b[39;00m \u001b[43mrgb\u001b[49m:\n\u001b[0;32m      3\u001b[0m     \u001b[38;5;28;01mcase\u001b[39;00m(_,_):\n\u001b[0;32m      4\u001b[0m         \u001b[38;5;28mprint\u001b[39m(\u001b[38;5;124m\"\u001b[39m\u001b[38;5;124mla tupla debe tener tres elementos\u001b[39m\u001b[38;5;124m\"\u001b[39m)\n",
      "\u001b[1;31mNameError\u001b[0m: name 'rgb' is not defined"
     ]
    }
   ],
   "source": [
    "color = (2,2,2)\n",
    "match color:\n",
    "    case(_,_):\n",
    "        print(\"la tupla debe tener tres elementos\")\n",
    "    case(int(r),0,0):\n",
    "        print(f\"de esta manera aseguramos que el dato sea un {type(r)}\")\n",
    "    "
   ]
  },
  {
   "cell_type": "code",
   "execution_count": null,
   "metadata": {},
   "outputs": [],
   "source": [
    "    "
   ]
  }
 ],
 "metadata": {
  "kernelspec": {
   "display_name": "Python 3 (ipykernel)",
   "language": "python",
   "name": "python3"
  },
  "language_info": {
   "codemirror_mode": {
    "name": "ipython",
    "version": 3
   },
   "file_extension": ".py",
   "mimetype": "text/x-python",
   "name": "python",
   "nbconvert_exporter": "python",
   "pygments_lexer": "ipython3",
   "version": "3.12.2"
  }
 },
 "nbformat": 4,
 "nbformat_minor": 4
}
