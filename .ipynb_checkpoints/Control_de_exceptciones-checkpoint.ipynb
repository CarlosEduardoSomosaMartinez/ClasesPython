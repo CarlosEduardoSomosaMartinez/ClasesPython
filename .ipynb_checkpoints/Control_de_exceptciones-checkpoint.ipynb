{
 "cells": [
  {
   "cell_type": "markdown",
   "id": "ee5fc74c-c147-4a4e-8cb1-fe11eed4bbb7",
   "metadata": {},
   "source": [
    "las cosas fallan siempre fallan y eso es algo que tambien tenemos que saber como hacerle frente a esos errores.Estos errores  se puede darse por inconsistencias.ahora nosotros como programadores debemos tener manejar esos errores es nuestra responsabilidad la principal  forma en que vamos a acercarnos a los errores es  eafp  its easier to ask  for forgivenes than permission  es mas facil pedir perdon que pedir permiso.La idea consiste en permitir  que los errores ocurran pero capturarlo "
   ]
  },
  {
   "cell_type": "markdown",
   "id": "2710fac8-4305-4996-b9b7-ba9ff495ff30",
   "metadata": {},
   "source": [
    "para nosotros  usar hacer esto usaremos nuestro bloque try es ejecutado y si lanza cualquier excepcion entonces  se ejecutara el bloque contenido except.\n",
    "en caso contrario se ejecutara el programa y  ignorando el bloque de except"
   ]
  },
  {
   "cell_type": "code",
   "execution_count": 1,
   "id": "c165213c-9321-400e-8c42-7afe18ad3461",
   "metadata": {},
   "outputs": [
    {
     "name": "stdout",
     "output_type": "stream",
     "text": [
      "la division entre cero es imposible\n",
      "el programa segira corriendo\n"
     ]
    }
   ],
   "source": [
    "dividiendo = 10\n",
    "divisor = 0 \n",
    "\n",
    "try:\n",
    "    resultado = dividiendo / divisor\n",
    "    print(f\"el resultado de la division es de {resultado}\")\n",
    "except:\n",
    "    if divisor == 0:\n",
    "        print(\"la division entre cero es imposible\")\n",
    "print(\"el programa segira corriendo\")"
   ]
  },
  {
   "cell_type": "markdown",
   "id": "195ee723-39fb-4e06-8e35-666a0fe60578",
   "metadata": {},
   "source": [
    "ahora nosotros podemos utilizar este bloque de una manera un  poco mas espesifica de poder capturarlas y es que nosotros le podemos pedir esto a la parte de except disiendole especificamente con  EXCEPION se lanzara de esta manera nosotros podemos sermas especificos "
   ]
  },
  {
   "cell_type": "code",
   "execution_count": null,
   "id": "3d6ecc36-23ca-4bef-a125-0cb95b7645e8",
   "metadata": {},
   "outputs": [],
   "source": [
    "dividiendo = 10\n",
    "divisor = 0\n",
    "\n",
    "try:\n",
    "    resultado = dividiendo / divisor\n",
    "    print(f\"se ejecuto la division con exito {resultado}\")\n",
    "except ZeroDivisionError:\n",
    "    print(\"NO SE PUEDE DIVIDIR POR SERO\")\n",
    "except TypeError:\n",
    "    print(\"Esto no es un numero\")\n",
    "\n",
    "print(\"el programa segira corriendo\")"
   ]
  },
  {
   "cell_type": "markdown",
   "id": "d7a6e590-b401-4b85-a2f9-bce273b0fae3",
   "metadata": {},
   "source": [
    "ahora  nosotros podemos tener un exception  que tengan una mayor jerarquia  eso significa que atrapara las excepciones de menor jerarquia ahora la expcion con mayor gerarquia es EXCEPION la cual las atrapara a todas en general asi que nosotros podemos ocuparlas de las ma especifica a la mas general ejemplo"
   ]
  },
  {
   "cell_type": "code",
   "execution_count": null,
   "id": "df417ec2-5236-40d4-b7a5-ad0d3585a1c5",
   "metadata": {},
   "outputs": [],
   "source": [
    "dividiendo = 10\n",
    "divisor = 0\n",
    "try:\n",
    "    resultado =dividiendo / divisor\n",
    "    print(f\"el resultado es {resultado}\")\n",
    "except ZeroDivisionError:\n",
    "    print(\"No puedo dividir por cero\")\n",
    "except TypeError:\n",
    "    print(\"error no es un numero\")\n",
    "except Exception:\n",
    "    print(\"H pasado algo pero no se que es ezactamente\")\n",
    "    \n",
    "print(\"el codigo continua\")"
   ]
  },
  {
   "cell_type": "markdown",
   "id": "a5908cc2-6724-47f8-a6f5-91a0fc22faee",
   "metadata": {},
   "source": [
    "ahora nosotros podemos referenciar a la instancia concreta de la excepcion con except usanndo la palabra reservada as seguida del nombre que queremos usar,Esto es util principalmente para poder mostrar el detalle del error"
   ]
  },
  {
   "cell_type": "code",
   "execution_count": 2,
   "id": "f6a1570d-ff51-47d0-a560-56d9545f4e7d",
   "metadata": {},
   "outputs": [
    {
     "name": "stdout",
     "output_type": "stream",
     "text": [
      "No puedo dividir por cero division by zero\n",
      "el codigo continua\n"
     ]
    }
   ],
   "source": [
    "dividiendo = 10\n",
    "divisor = 0\n",
    "try:\n",
    "    resultado =dividiendo / divisor\n",
    "    print(f\"el resultado es {resultado}\")\n",
    "except ZeroDivisionError as error:\n",
    "    print(f\"No puedo dividir por cero {error}\")\n",
    "except TypeError as error:\n",
    "    print(\"error no es un numero\")\n",
    "except Exception as error:\n",
    "    print(\"H pasado algo pero no se que es ezactamente\")\n",
    "    \n",
    "print(\"el codigo continua\")"
   ]
  },
  {
   "cell_type": "markdown",
   "id": "bc70e98c-2f21-4c01-b072-5a4a8ae3fdca",
   "metadata": {},
   "source": [
    "en este caso as es una palabra reservada que lo que hara es renombrar el error a lo largo veremos que tenga mas utilidades de esa naturaleza  como renombramiento de modulos renombramiento de clases"
   ]
  },
  {
   "cell_type": "markdown",
   "id": "c179fb68-49d5-48b4-b6cd-715eadeac3d2",
   "metadata": {},
   "source": [
    "nosotros podemos evaluar mas de una condicion en  una misma except"
   ]
  },
  {
   "cell_type": "code",
   "execution_count": 4,
   "id": "b63ccbeb-cb99-49f4-9c57-9c28d3a25f05",
   "metadata": {},
   "outputs": [
    {
     "name": "stdout",
     "output_type": "stream",
     "text": [
      "Error unsupported operand type(s) for /: 'str' and 'int'\n"
     ]
    }
   ],
   "source": [
    "dividiendo = \"d\"\n",
    "divisor = 0\n",
    "try:\n",
    "    resultado = dividiendo/ divisor\n",
    "except (ZeroDivisionError,TypeError) as err:\n",
    "    print(\"Error d\",err)"
   ]
  },
  {
   "cell_type": "code",
   "execution_count": null,
   "id": "929cba05-d247-44f7-b644-245350358276",
   "metadata": {},
   "outputs": [],
   "source": []
  }
 ],
 "metadata": {
  "kernelspec": {
   "display_name": "Python 3 (ipykernel)",
   "language": "python",
   "name": "python3"
  },
  "language_info": {
   "codemirror_mode": {
    "name": "ipython",
    "version": 3
   },
   "file_extension": ".py",
   "mimetype": "text/x-python",
   "name": "python",
   "nbconvert_exporter": "python",
   "pygments_lexer": "ipython3",
   "version": "3.12.2"
  }
 },
 "nbformat": 4,
 "nbformat_minor": 5
}
