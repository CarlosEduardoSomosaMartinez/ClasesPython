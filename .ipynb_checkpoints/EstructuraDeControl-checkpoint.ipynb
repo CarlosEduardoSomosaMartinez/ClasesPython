{
 "cells": [
  {
   "cell_type": "markdown",
   "metadata": {},
   "source": [
    "en este tema aremos un pequeno pausa para algo un poco mas tecnico  y es defini en si las estructuras de control y es que con todo esto nosotros hemos estamos viendo de manera tipica la forma de programar de manera secuencial"
   ]
  },
  {
   "cell_type": "code",
   "execution_count": 2,
   "metadata": {},
   "outputs": [
    {
     "name": "stdout",
     "output_type": "stream",
     "text": [
      "hola esto\n",
      "programacion secuncial\n",
      "de manera suseciva\n"
     ]
    }
   ],
   "source": [
    "print(\"hola esto\")\n",
    "print(\"programacion secuncial\")\n",
    "print(\"de manera suseciva\")"
   ]
  },
  {
   "cell_type": "markdown",
   "metadata": {},
   "source": [
    "pero desde este punto empezaremos a ver con mas frecuencia que las sentencias se pueden anidar.Es decir ,pueden incluirse unas dentro de otras para hacer  queestan dependan de las anteriores para verse ejecutadas.este tipo de comportamiento no exclusivo de las condiconales y lo veremos mas adelante"
   ]
  },
  {
   "cell_type": "markdown",
   "metadata": {},
   "source": [
    "intruccion_principal {\n",
    "    una_instruccion\n",
    "    otra_instrucion\n",
    "}\n",
    "instruccion_independiente"
   ]
  },
  {
   "cell_type": "markdown",
   "metadata": {},
   "source": [
    "python no funciona de esa manera en este caso pytho es un elnguaje donde la identacion define el anidamiento de las sentencias esto queire decir que nosotros vamos a definir que sentecias estan contenidas dentro de otras en este aspecto las que estan identadas estan contenidas en la mas proxima con menor identacions"
   ]
  },
  {
   "cell_type": "code",
   "execution_count": null,
   "metadata": {},
   "outputs": [],
   "source": [
    "def funcion():\n",
    "    print(\"primeraa sentencia\")\n",
    "    print(\"segunda sentecia\")\n",
    "    if  2==2: #estructura de control\n",
    "        print(\"otra sentencia anidada\")\n",
    "        print(\"otra sentencia tambien \")\n",
    "\n",
    "print(\"sentencia al mismo nivel\")"
   ]
  },
  {
   "cell_type": "markdown",
   "metadata": {},
   "source": [
    "una recomendacion general es que nuestra tabulacion sea igual a 4 espacios."
   ]
  }
 ],
 "metadata": {
  "kernelspec": {
   "display_name": "Python 3",
   "language": "python",
   "name": "python3"
  },
  "language_info": {
   "codemirror_mode": {
    "name": "ipython",
    "version": 3
   },
   "file_extension": ".py",
   "mimetype": "text/x-python",
   "name": "python",
   "nbconvert_exporter": "python",
   "pygments_lexer": "ipython3",
   "version": "3.12.2"
  }
 },
 "nbformat": 4,
 "nbformat_minor": 2
}
