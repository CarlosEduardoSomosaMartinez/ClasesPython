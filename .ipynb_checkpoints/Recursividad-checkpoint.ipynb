{
 "cells": [
  {
   "cell_type": "markdown",
   "id": "550006a1-598c-45a0-b4db-3b8f24400045",
   "metadata": {},
   "source": [
    "la recursividad es un concepto fundamental en la programacion y es un concepto agnostico de cualquier lenguaje de progrmacion y un concepto un poco mas complicado de enternder de manera superficial la recurcividad es la llamada de la funcion dentro de la misma funcion.\n",
    "para nostoros poder entender la recursividad y empezar a utilisarla nostros  tenemos que tener en cuenta dos partes la parte del caso base y la parte del caso de corte y eso solo lo podemos ver de la siguiente manera"
   ]
  },
  {
   "cell_type": "code",
   "execution_count": 2,
   "id": "9c09972a-59d7-41da-8abe-b46513f2af86",
   "metadata": {},
   "outputs": [
    {
     "name": "stdout",
     "output_type": "stream",
     "text": [
      "hola con la vuelta 4\n",
      "hola con la vuelta 3\n",
      "hola con la vuelta 2\n",
      "hola con la vuelta 1\n",
      "se acabo\n"
     ]
    }
   ],
   "source": [
    "def repetidor(n):\n",
    "    if not n:\n",
    "        print(\"se acabo\")\n",
    "        return None\n",
    "    else:\n",
    "        print(f\"hola con la vuelta {n}\")\n",
    "        return repetidor(n-1)\n",
    "repetidor(4)"
   ]
  },
  {
   "cell_type": "markdown",
   "id": "0ed682c3-4f0e-4b6d-8d4c-0f41cac829ee",
   "metadata": {},
   "source": [
    "lo primero que hay que evaluar es el caso de corte esta es la condicion que concluira las llamadas recursivas de las funciones y el caso general que seria las llamadas de la funcion"
   ]
  },
  {
   "cell_type": "code",
   "execution_count": 24,
   "id": "ac78b273-dc9a-4df6-bb5f-e50b5bbc21c3",
   "metadata": {},
   "outputs": [
    {
     "name": "stdout",
     "output_type": "stream",
     "text": [
      "45\n",
      "45\n",
      "720\n",
      "8\n",
      "1\n",
      "2\n",
      "3\n",
      "4\n",
      "5\n",
      "None\n",
      "edcba\n"
     ]
    }
   ],
   "source": [
    "#lista de recursividad\n",
    "lista = [1,2,3,4,5,6,7,8,9]\n",
    "def recorrido_recursivo(lista,index):\n",
    "    if index >= len(lista):\n",
    "        return 0\n",
    "    else :\n",
    "        return lista[index]+recorrido_recursivo(lista,index+1)\n",
    "\n",
    "print(recorrido_recursivo(lista,0))\n",
    "\n",
    "def recorrido_recursivo2(lista):\n",
    "    if not(len(lista)):\n",
    "        return 0\n",
    "    else:\n",
    "        return lista[0]+recorrido_recursivo2(lista[1:])\n",
    "\n",
    "print(recorrido_recursivo2(lista))\n",
    "\n",
    "#factorial de un numero\n",
    "\n",
    "def factorial_recursivo(n):\n",
    "    if n==1:\n",
    "        return 1\n",
    "    else:\n",
    "        return n*factorial_recursivo(n-1)\n",
    "\n",
    "print(factorial_recursivo(6))\n",
    "\n",
    "\n",
    "#fiboanachi\n",
    "def fibonachi_recursivo(n):\n",
    "    if n<= 1:\n",
    "        return n\n",
    "    else:\n",
    "        return fibonachi_recursivo(n-1) + fibonachi_recursivo(n-2)\n",
    "\n",
    "print(fibonachi_recursivo(6))\n",
    "\n",
    "#imprimir una secuencia\n",
    "def secuencia(lista,index):\n",
    "    if(index>=len(lista)):\n",
    "        return \n",
    "    else:\n",
    "        print(lista[index])\n",
    "        return secuencia(lista,index+1)\n",
    "print(secuencia([1,2,3,4,5],0))\n",
    "#potencia\n",
    "def potencia(base,exponente):\n",
    "    if exponente == 1:\n",
    "        return base\n",
    "    else:\n",
    "        return base * potencia(base,exponente-1)\n",
    "potencia(8,2)\n",
    "#cadena inversa\n",
    "def inversa(cadena):\n",
    "    if len(cadena)==1:\n",
    "        return cadena[-1]\n",
    "    else :\n",
    "        return cadena[-1]+inversa(cadena[:len(cadena)-1])\n",
    "print(inversa(\"abcde\"))"
   ]
  },
  {
   "cell_type": "code",
   "execution_count": null,
   "id": "51ad7e4d-8b6b-4e7f-8c48-8b196699aaf4",
   "metadata": {},
   "outputs": [],
   "source": []
  },
  {
   "cell_type": "code",
   "execution_count": null,
   "id": "72275107-17f2-4edd-a623-51c9c3ebf64b",
   "metadata": {},
   "outputs": [],
   "source": []
  },
  {
   "cell_type": "code",
   "execution_count": null,
   "id": "767b9d47-2a36-4ad5-b53c-cc0faf7edb72",
   "metadata": {},
   "outputs": [],
   "source": []
  }
 ],
 "metadata": {
  "kernelspec": {
   "display_name": "Python 3 (ipykernel)",
   "language": "python",
   "name": "python3"
  },
  "language_info": {
   "codemirror_mode": {
    "name": "ipython",
    "version": 3
   },
   "file_extension": ".py",
   "mimetype": "text/x-python",
   "name": "python",
   "nbconvert_exporter": "python",
   "pygments_lexer": "ipython3",
   "version": "3.12.2"
  }
 },
 "nbformat": 4,
 "nbformat_minor": 5
}
