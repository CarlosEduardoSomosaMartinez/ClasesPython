{
 "cells": [
  {
   "cell_type": "markdown",
   "id": "634556c0-ccae-4b44-82b2-a6b3faf72e53",
   "metadata": {},
   "source": [
    "que es un bytearray pues no es mas que un bytes pero empesamos  con  la caraccteristica de que son mutables  ahora la manera en que nosotros definimos este tipo de estructura de datos de solo una manera la explicitia y es que es muy sensillo solo ponemos"
   ]
  },
  {
   "cell_type": "code",
   "execution_count": 13,
   "id": "a7a193bf-9ed7-46fe-944c-60b5f982c063",
   "metadata": {},
   "outputs": [
    {
     "name": "stdout",
     "output_type": "stream",
     "text": [
      "32\n",
      "bytearray(b'estoNes un mensaje;')\n"
     ]
    }
   ],
   "source": [
    "arreglo_de_bytearray = bytearray(\"esto es un mensaje;\",\"utf-8\",\"ignore\")\n",
    "print(arreglo_de_bytearray[4])\n",
    "arreglo_de_bytearray[4] = 78\n",
    "print(arreglo_de_bytearray)"
   ]
  },
  {
   "cell_type": "markdown",
   "id": "fa97849d-9b3f-44aa-84f5-7841a17e0f02",
   "metadata": {},
   "source": [
    "que mas podemos recibir en estos parametros  tambien se le puede pasar un iterable de enteros con un valor de  0 255  de este modo de que retorno un arreglo y tambien le podemos pasara un bytes"
   ]
  },
  {
   "cell_type": "code",
   "execution_count": 22,
   "id": "342aa571-255f-4f54-93a0-fda2699a5352",
   "metadata": {},
   "outputs": [
    {
     "name": "stdout",
     "output_type": "stream",
     "text": [
      "!!\n"
     ]
    }
   ],
   "source": [
    "arreglo = bytearray([33,33])\n",
    "print(arreglo.decode())"
   ]
  },
  {
   "cell_type": "markdown",
   "id": "6dc3f31c-3d35-4b46-a2f7-764cc9651a5b",
   "metadata": {},
   "source": [
    "nosotros estamos un poco limitado al ora de recibir estos parametros ya que estaran en utf-18 nosotros por eso podemos usar el metodo bytes para complementarlo"
   ]
  }
 ],
 "metadata": {
  "kernelspec": {
   "display_name": "Python 3 (ipykernel)",
   "language": "python",
   "name": "python3"
  },
  "language_info": {
   "codemirror_mode": {
    "name": "ipython",
    "version": 3
   },
   "file_extension": ".py",
   "mimetype": "text/x-python",
   "name": "python",
   "nbconvert_exporter": "python",
   "pygments_lexer": "ipython3",
   "version": "3.12.2"
  }
 },
 "nbformat": 4,
 "nbformat_minor": 5
}
