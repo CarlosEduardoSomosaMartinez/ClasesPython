{
 "cells": [
  {
   "cell_type": "markdown",
   "id": "5077de97-a986-46e3-8523-002f4e29206a",
   "metadata": {},
   "source": [
    "los rangos son una secuencia de  de  froma especia inmutable de numeros entero su orma particular manera de construiirlo es atraves de numeros entero su principal particularidad es que estan escritos en se cuencia y su manera de declararla"
   ]
  },
  {
   "cell_type": "code",
   "execution_count": 1,
   "id": "4da95a15-f51e-419f-be36-034062e9982e",
   "metadata": {},
   "outputs": [
    {
     "name": "stdout",
     "output_type": "stream",
     "text": [
      "range(0, 5)\n"
     ]
    }
   ],
   "source": [
    "a = range(5)\n",
    "print(a)"
   ]
  },
  {
   "cell_type": "markdown",
   "id": "580e5018-f4b1-411c-a04f-368771696af7",
   "metadata": {},
   "source": [
    "rrange acepta 3 tipos de argumentos si este no se le acepta aceptara tres tipo de argumentos que seria donde inicio donde termino y los saltos que doy\n",
    "ahora es comun confundirse y cree que  nosotros al imprimir el objeto nos lanzara algo como un parentesis que ya vimos y es que range  no tienen esos numero solo conoce la forma de llegar a ellos  a estr proceso o llamaremos generacion perosoza este los va ir generando a medida que los va necesitando \n",
    "ahora yo tengo una capricho y es como puedo ver esos numeros"
   ]
  },
  {
   "cell_type": "code",
   "execution_count": 3,
   "id": "f5c54da7-31d7-496f-8f5a-b305bfdf9c21",
   "metadata": {},
   "outputs": [
    {
     "ename": "NameError",
     "evalue": "name 'tuples' is not defined",
     "output_type": "error",
     "traceback": [
      "\u001b[1;31m---------------------------------------------------------------------------\u001b[0m",
      "\u001b[1;31mNameError\u001b[0m                                 Traceback (most recent call last)",
      "Cell \u001b[1;32mIn[3], line 4\u001b[0m\n\u001b[0;32m      2\u001b[0m segundo_rango \u001b[38;5;241m=\u001b[39m \u001b[38;5;28mrange\u001b[39m(\u001b[38;5;241m2\u001b[39m,\u001b[38;5;241m8\u001b[39m)\n\u001b[0;32m      3\u001b[0m tercer_iterable \u001b[38;5;241m=\u001b[39m \u001b[38;5;28mrange\u001b[39m(\u001b[38;5;241m2\u001b[39m,\u001b[38;5;241m9\u001b[39m,\u001b[38;5;241m2\u001b[39m)\n\u001b[1;32m----> 4\u001b[0m \u001b[38;5;28mprint\u001b[39m(\u001b[43mtuples\u001b[49m(tercer_iterable))\n",
      "\u001b[1;31mNameError\u001b[0m: name 'tuples' is not defined"
     ]
    }
   ],
   "source": [
    "primer_rango = range(4)\n",
    "segundo_rango = range(2,8)\n",
    "tercer_iterable = range(2,9,2)\n",
    "print(tuple(tercer_iterable))"
   ]
  },
  {
   "cell_type": "code",
   "execution_count": null,
   "id": "59968662-0391-465c-9b3f-7b025370003c",
   "metadata": {},
   "outputs": [],
   "source": []
  }
 ],
 "metadata": {
  "kernelspec": {
   "display_name": "Python 3 (ipykernel)",
   "language": "python",
   "name": "python3"
  },
  "language_info": {
   "codemirror_mode": {
    "name": "ipython",
    "version": 3
   },
   "file_extension": ".py",
   "mimetype": "text/x-python",
   "name": "python",
   "nbconvert_exporter": "python",
   "pygments_lexer": "ipython3",
   "version": "3.12.2"
  }
 },
 "nbformat": 4,
 "nbformat_minor": 5
}
