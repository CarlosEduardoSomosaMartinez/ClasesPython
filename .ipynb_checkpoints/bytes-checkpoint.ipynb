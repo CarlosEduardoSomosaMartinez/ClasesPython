{
 "cells": [
  {
   "cell_type": "markdown",
   "id": "795809fc-09d7-4bd3-b443-14ae7b88223b",
   "metadata": {},
   "source": [
    "<h1>Bytes</h1>\n",
    "<p>\n",
    "    Anterior ya vimos lo que era de manera por encima  lo que era un byte bueno ya en esta seccion  lo veremos con un poco mas de foco y es que  nosotros  al poner ese prefigo estamos indicando que no estamos usando una cadena de string de manera habitual  si no que  es de bytes como lo pudiste ver estas se definen de manera literal como una cadena de texto y todo lo que se puede hacer con la cadena de texto se lo podemos hacer a la cadena de bytes con una unica peculiaridad es que  esta no tiene  por defecto el formato de utf-8  si no que  este esta en codigo ascii esto significa que esta representado  por numero del 0 al 256\n",
    "</p>"
   ]
  },
  {
   "cell_type": "code",
   "execution_count": 1,
   "id": "e59887bf-3980-4120-bdcd-2ba6ae0d0b1f",
   "metadata": {},
   "outputs": [
    {
     "data": {
      "text/plain": [
       "b'hola mundo'"
      ]
     },
     "execution_count": 1,
     "metadata": {},
     "output_type": "execute_result"
    }
   ],
   "source": [
    "b\"hola mundo\""
   ]
  },
  {
   "cell_type": "markdown",
   "id": "8fb71920-31fe-4bfe-90b8-52a4cce5ea98",
   "metadata": {},
   "source": [
    "<p>ahora pensaras que pasa si nosotros ocupamos otro tipo de texto bueno si nosotros un ejemplo ocupamos uno de estos carecteres nos generara un error  de syntaxis\n",
    "</p>"
   ]
  },
  {
   "cell_type": "code",
   "execution_count": 2,
   "id": "7f8357da-86fc-4165-af94-0a6b9e93876a",
   "metadata": {},
   "outputs": [
    {
     "ename": "SyntaxError",
     "evalue": "bytes can only contain ASCII literal characters (2032351395.py, line 1)",
     "output_type": "error",
     "traceback": [
      "\u001b[1;36m  Cell \u001b[1;32mIn[2], line 1\u001b[1;36m\u001b[0m\n\u001b[1;33m    b\"esto generara un error por que uso un caracter que no esta dentro del ascii  ñ \"\u001b[0m\n\u001b[1;37m    ^\u001b[0m\n\u001b[1;31mSyntaxError\u001b[0m\u001b[1;31m:\u001b[0m bytes can only contain ASCII literal characters\n"
     ]
    }
   ],
   "source": [
    "b\"esto generara un error por que uso un caracter que no esta dentro del ascii  ñ \""
   ]
  },
  {
   "cell_type": "markdown",
   "id": "083949ae-958d-465b-82c5-f7a9b849ccb0",
   "metadata": {},
   "source": [
    "<p>ahora anteriormente nosotros bimos que habia dos manera de crear una cadena que era la forma literal y con la funcion bueno puees con bytes es lo mismo ya tenemos la parte de la forma literal bueno pues tambien lo podemos hacer con una funcion y seria de la siguiente manera\n",
    "cuando nosotros le pasamos un argumento de tipo string es importante saber que le tenemos que pasar un segundo parametro </p>"
   ]
  },
  {
   "cell_type": "code",
   "execution_count": null,
   "id": "0682a3a2-77d2-4288-8ded-f0c036df4531",
   "metadata": {},
   "outputs": [],
   "source": []
  },
  {
   "cell_type": "code",
   "execution_count": 3,
   "id": "70effaf3-5295-4da9-aacd-b5643a0d3705",
   "metadata": {},
   "outputs": [
    {
     "ename": "TypeError",
     "evalue": "string argument without an encoding",
     "output_type": "error",
     "traceback": [
      "\u001b[1;31m---------------------------------------------------------------------------\u001b[0m",
      "\u001b[1;31mTypeError\u001b[0m                                 Traceback (most recent call last)",
      "Cell \u001b[1;32mIn[3], line 1\u001b[0m\n\u001b[1;32m----> 1\u001b[0m \u001b[38;5;28;43mbytes\u001b[39;49m\u001b[43m(\u001b[49m\u001b[38;5;124;43m\"\u001b[39;49m\u001b[38;5;124;43mhola mundo\u001b[39;49m\u001b[38;5;124;43m\"\u001b[39;49m\u001b[43m)\u001b[49m\n",
      "\u001b[1;31mTypeError\u001b[0m: string argument without an encoding"
     ]
    }
   ],
   "source": [
    "bytes(\"hola mundo\")"
   ]
  },
  {
   "cell_type": "markdown",
   "id": "06253f41-9820-4974-a685-8a7e09700d10",
   "metadata": {},
   "source": [
    "<p>ahora es importante saber de que esta manera nos permite hacer algunas cosas mas que la orma literal nos permite recibir dos parametro ese segundo parametro seria el formato por que como mencionamos anterior mente por defecto este esta en ascii pero nostros lo podemos poner de otra formato</p>"
   ]
  },
  {
   "cell_type": "code",
   "execution_count": 14,
   "id": "716eb500-af3b-4689-9df2-e5dfcda0b8b6",
   "metadata": {},
   "outputs": [
    {
     "data": {
      "text/plain": [
       "b'esto es una cadena que es esta en utf-8 y si soporta \\xc3\\xb1 '"
      ]
     },
     "execution_count": 14,
     "metadata": {},
     "output_type": "execute_result"
    }
   ],
   "source": [
    "palabra = bytes(\"esto es una cadena que es esta en utf-8 y si soporta ñ \",\"utf-8\")\n",
    "palabra"
   ]
  },
  {
   "cell_type": "markdown",
   "id": "69088b61-c953-4236-9954-c44bace79c4c",
   "metadata": {},
   "source": [
    "<p>pero que pasaria si nosotros volvemos  a usar  un parametro que  bytes no nos permite usar bueno esto lo podemos solventar con otro parametro que es el  que va a definir que pasara con lo errores</p>\n",
    "<ul>\n",
    "    <li>strict:marcara un error de encoding</li>\n",
    "    <li>ignore:solo ignorara el caracter pasando por alto el</li>\n",
    "    <li>replace:remplasara el caracter por un signo de interrogacion</li>\n",
    "</ul>"
   ]
  },
  {
   "cell_type": "code",
   "execution_count": 12,
   "id": "719af0ef-f91c-468a-834c-86ee7c08ff8c",
   "metadata": {},
   "outputs": [
    {
     "name": "stdout",
     "output_type": "stream",
     "text": [
      "b'El manejo de errores de manera ignore '\n",
      "b'El manejo de error del modo replace ?'\n"
     ]
    }
   ],
   "source": [
    "print(bytes(\"El manejo de errores de manera ignore ñ\",\"ascii\",\"ignore\"))\n",
    "print(bytes(\"El manejo de error del modo replace ñ\",\"ascii\",\"replace\"))"
   ]
  },
  {
   "cell_type": "markdown",
   "id": "abf0ae49-097c-4df6-adf1-c2cec787d73f",
   "metadata": {},
   "source": [
    "<p>ahora una vez que nosotros ya hemos visto la forma de crearlo nosotros tambien podemos decodificarlos y esto se hace con el metodo decoi  y este  funcionara de la siguiente manera esta aceptara un parametro el  cual sera el formato en el que lo decodificalos si nose especifica </p>"
   ]
  },
  {
   "cell_type": "code",
   "execution_count": 13,
   "id": "4b6a863e-1787-452d-ab9b-46eb4772dd0c",
   "metadata": {},
   "outputs": [
    {
     "data": {
      "text/plain": [
       "'esto es una cadena que es esta en utf-8 y si soporta ñ '"
      ]
     },
     "execution_count": 13,
     "metadata": {},
     "output_type": "execute_result"
    }
   ],
   "source": [
    "texto_en_bytes = b\"hola mundo\"\n",
    "texto_str = palabra.decode()\n",
    "texto_str"
   ]
  },
  {
   "cell_type": "code",
   "execution_count": null,
   "id": "a95de6a0-d9a0-4fb4-9a48-2d98a1d08692",
   "metadata": {},
   "outputs": [],
   "source": []
  }
 ],
 "metadata": {
  "kernelspec": {
   "display_name": "Python 3 (ipykernel)",
   "language": "python",
   "name": "python3"
  },
  "language_info": {
   "codemirror_mode": {
    "name": "ipython",
    "version": 3
   },
   "file_extension": ".py",
   "mimetype": "text/x-python",
   "name": "python",
   "nbconvert_exporter": "python",
   "pygments_lexer": "ipython3",
   "version": "3.12.2"
  }
 },
 "nbformat": 4,
 "nbformat_minor": 5
}
