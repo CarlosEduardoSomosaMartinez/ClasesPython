{
 "cells": [
  {
   "cell_type": "markdown",
   "id": "80517f5c-d5d1-49eb-bf3c-d12a73660ccb",
   "metadata": {},
   "source": [
    "bueno es momento de ir con una parte un poco enredada de comprender pero que es una herramienta muy pontente en el aspecto de realisar operaciones con la lista y por ese mtivo le dicaremos una clase primo y lo importante es conocer como funciona la manera de posicionarnos por que no solo funciona de manera positiva si no de manera negativa  por razones logica nosotros no podemos iniciar en zero por que pues no empieza negativo"
   ]
  },
  {
   "cell_type": "code",
   "execution_count": 2,
   "id": "4b429418-8eb2-4acf-8480-9c7dadd24cb1",
   "metadata": {},
   "outputs": [
    {
     "name": "stdout",
     "output_type": "stream",
     "text": [
      "quinto\n"
     ]
    }
   ],
   "source": [
    "lista = [\"primero\",\"segundo\",\"tercer\",\"cuarto\",\"quinto\"]\n",
    "print(lista[-1])"
   ]
  },
  {
   "cell_type": "markdown",
   "id": "07be72b9-598a-4317-8da4-2992f8a0624d",
   "metadata": {},
   "source": [
    "Para empezar a usar los slice  usan indeces que nos permite  extraer  secciones  de la lista de forma mas interesante\n",
    "usaremos la notacion de dos puntos  (:) en el cual diremos que sera el inicio y la parada dentro de un corchetes algo importante a recordar es que  la parada no estaa incluida en la  parte que cortaremos por ejemplo"
   ]
  },
  {
   "cell_type": "code",
   "execution_count": 7,
   "id": "1004555d-8036-4735-9a43-ae65d5613f50",
   "metadata": {},
   "outputs": [
    {
     "name": "stdout",
     "output_type": "stream",
     "text": [
      "['a', 'b', 'c', 'd']\n"
     ]
    }
   ],
   "source": [
    "alfa = [\"a\",\"b\",\"c\",\"d\",\"e\",\"f\",\"g\",\"h\",\"i\",\"j\",\"k\"]\n",
    "primer_slice = alfa[0:4]\n",
    "print(primer_slice)"
   ]
  },
  {
   "cell_type": "markdown",
   "id": "8e71ab2e-ec65-4db1-bc18-9fcf57471a9f",
   "metadata": {},
   "source": [
    "en este ejemplo recortamos un  parte no incluida la de indice de parada ahora nosotros podemos omitir algunas elementos de la sintaxis  por ejemplo\n",
    "si solo queremos tener un limite en la para pero el inicio es el que esta por defecto 0  no hace falta ponerlo  y tambien aplica lo mismo en caso inverso un ejemplo seria si inicio es de la mitad hasta el fin"
   ]
  },
  {
   "cell_type": "code",
   "execution_count": 8,
   "id": "ab46bb59-0c4e-4d17-9e6f-cfcf4ec4b6a1",
   "metadata": {},
   "outputs": [
    {
     "name": "stdout",
     "output_type": "stream",
     "text": [
      "['a', 'b', 'c', 'd']\n",
      "['f', 'g', 'h', 'i', 'j', 'k']\n"
     ]
    }
   ],
   "source": [
    "print(alfa[:4])\n",
    "print(alfa[5:])"
   ]
  },
  {
   "cell_type": "code",
   "execution_count": 9,
   "id": "47b6edf2-4856-419d-8324-de5e1b843091",
   "metadata": {},
   "outputs": [
    {
     "name": "stdout",
     "output_type": "stream",
     "text": [
      "1952033707200\n",
      "1952033707200\n",
      "1952034120704\n"
     ]
    }
   ],
   "source": [
    "alfa2 = alfa\n",
    "alfa3 =  alfa[:]\n",
    "print(id(alfa))\n",
    "print(id(alfa2))\n",
    "print(id(alfa3))"
   ]
  },
  {
   "cell_type": "markdown",
   "id": "883adccd-3032-4fc3-ab78-54cd633190c2",
   "metadata": {},
   "source": [
    "si nosotoro omiteremos las dos partes aremos una copi superficial"
   ]
  },
  {
   "cell_type": "markdown",
   "id": "a67b600f-a211-430a-bc6a-1c9fe1930ab0",
   "metadata": {},
   "source": [
    "anteriormente habiamos dicho  sobre el posisionamiento de slice y como usar numeros negativos  y esto tambien es punto importante y es que nosotros podemos usar numeros negativos para poder desplasarnor yy tambien para poder usar slice"
   ]
  },
  {
   "cell_type": "code",
   "execution_count": 12,
   "id": "7820cc42-7b3c-49d0-acf3-28b36954ec21",
   "metadata": {},
   "outputs": [
    {
     "name": "stdout",
     "output_type": "stream",
     "text": [
      "['g', 'h', 'i']\n"
     ]
    }
   ],
   "source": [
    "print(alfa[-5:-2])"
   ]
  },
  {
   "cell_type": "markdown",
   "id": "1d2ff1bc-562e-46e1-8633-0a1e21d635eb",
   "metadata": {},
   "source": [
    "aparte existe tambien la posibilidad de que nosotros agreguemos un tercer elemento y ese tercer elemento es al  tipo de  pasos que vamos a dar es decir si es que iria en dos en dos  o de tres en tres tambien hacer recorridos negativos  obtener fragmentos de manera inversa"
   ]
  },
  {
   "cell_type": "code",
   "execution_count": 15,
   "id": "a596e462-a440-4499-a7ce-ea64024f1d5a",
   "metadata": {},
   "outputs": [
    {
     "name": "stdout",
     "output_type": "stream",
     "text": [
      "['i', 'h', 'g', 'f', 'e', 'd', 'c', 'b']\n"
     ]
    }
   ],
   "source": [
    "print(alfa[8:0:-1])"
   ]
  },
  {
   "cell_type": "markdown",
   "id": "dea8e052-f50e-44cf-9e01-c05cca386c18",
   "metadata": {},
   "source": [
    "ahora es importante saber lo sigueinte"
   ]
  }
 ],
 "metadata": {
  "kernelspec": {
   "display_name": "Python 3 (ipykernel)",
   "language": "python",
   "name": "python3"
  },
  "language_info": {
   "codemirror_mode": {
    "name": "ipython",
    "version": 3
   },
   "file_extension": ".py",
   "mimetype": "text/x-python",
   "name": "python",
   "nbconvert_exporter": "python",
   "pygments_lexer": "ipython3",
   "version": "3.12.2"
  }
 },
 "nbformat": 4,
 "nbformat_minor": 5
}
