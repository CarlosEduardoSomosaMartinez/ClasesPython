{
 "cells": [
  {
   "cell_type": "markdown",
   "id": "ba88e0e0-a135-4aae-ba55-3da652651496",
   "metadata": {},
   "source": [
    "los iteradores son objetos   especiales que tenemos a disposicion en python esto son mu parecido a las secuencias que ya hemos visto antes tienen la capacidad de obtener elementos seccuenciales \n",
    "hay que dejar claro la diferencia entre iterable y iteradores que no solo mismo:\n",
    "\n",
    "<h2>iterables</h2>\n",
    "un iterable es cualquier objeto que se puede recorrer o iterar sobre el  esto signifiva que lo podemos recorrer  cada  elemento del iterable utilizando un blucje for ,una comprension de lista,o incluso utilizando funciones como map o filter otra cosa que nos pueden cualquier  objeto que contenga el metodo __iter__() "
   ]
  },
  {
   "cell_type": "markdown",
   "id": "e05bc212-cb88-45d6-bc17-41b041cee83b",
   "metadata": {},
   "source": [
    "<h2>Iterador</h2>\n",
    "un iterador es un objeto que permite el recorrdio secuencial de los elementos de un iterable .En Python,un iterador se crea a partir de un iterable utilizando la funcion iter() . los iteradores  tienen un metodo _ _next_ _()"
   ]
  },
  {
   "cell_type": "markdown",
   "id": "d8d00002-0d27-409f-9743-22171897435a",
   "metadata": {},
   "source": [
    "una de la peculiaridades de los iteradores es que recuerdan sus estados  eso significa que nosotros podemos recorrer una parte del iterador y despues des esto  en otro  bucle  empezar donde se quedo anteriormente y terminar de recorrerlo"
   ]
  },
  {
   "cell_type": "code",
   "execution_count": 1,
   "id": "1f9eb456-d7de-4016-9610-5d4d81f134cb",
   "metadata": {},
   "outputs": [
    {
     "name": "stdout",
     "output_type": "stream",
     "text": [
      "<range_iterator object at 0x0000016DF1ECD150>\n"
     ]
    }
   ],
   "source": [
    "iterador = iter(range(10))\n",
    "print(iterador)"
   ]
  },
  {
   "cell_type": "code",
   "execution_count": 2,
   "id": "3cc9b27a-6033-4511-b999-be8ee517a108",
   "metadata": {},
   "outputs": [
    {
     "name": "stdout",
     "output_type": "stream",
     "text": [
      "0\n",
      "1\n",
      "2\n",
      "3\n",
      "4\n",
      "5\n",
      "6\n",
      "7\n",
      "8\n",
      "9\n"
     ]
    }
   ],
   "source": [
    "for x in iterador:\n",
    "    print(x)"
   ]
  },
  {
   "cell_type": "code",
   "execution_count": 3,
   "id": "e83f788b-c30c-44b2-a8b7-a2d4cf13181f",
   "metadata": {},
   "outputs": [],
   "source": [
    "for x in iterador:\n",
    "    print(x)"
   ]
  },
  {
   "cell_type": "code",
   "execution_count": 6,
   "id": "631d8a6e-47c9-467c-ba4b-e1808adec13c",
   "metadata": {},
   "outputs": [
    {
     "name": "stdout",
     "output_type": "stream",
     "text": [
      "a\n",
      "b\n",
      "c\n",
      "d\n"
     ]
    }
   ],
   "source": [
    "mi_iterador = iter([\"a\",\"b\",\"c\",\"d\"])\n",
    "while True:\n",
    "    try:\n",
    "        elemento = next(mi_iterador)\n",
    "        print(elemento)\n",
    "    except StopIteration:\n",
    "        break"
   ]
  },
  {
   "cell_type": "code",
   "execution_count": 9,
   "id": "a2cec018-e7e5-400a-abbf-2a50fa58dc07",
   "metadata": {},
   "outputs": [
    {
     "name": "stdout",
     "output_type": "stream",
     "text": [
      "[484, 484, 1089, 121, 197136, 484, 1156]\n"
     ]
    }
   ],
   "source": [
    "#nosotros podemos  usar diferentes tipos de funciones una de ellas un ejemplo es el map ,filter enumerate\n",
    "def cuadrado(numero):\n",
    "    return numero*numero\n",
    "lista = [22,22,33,11,444,22,34]\n",
    "resultado = map(cuadrado,lista)\n",
    "print(list(resultado))\n"
   ]
  },
  {
   "cell_type": "markdown",
   "id": "42e3f76f-9220-4ed4-bf84-766406b5e806",
   "metadata": {},
   "source": [
    "eficiencia de memoria  los iteradores permiten procesar elementos  de manera incremental , llo que puede ser util cuando se trabaja con grandes conjuntso de datos eficiencia de procesamiento  y compatibilidad con bucles"
   ]
  },
  {
   "cell_type": "code",
   "execution_count": null,
   "id": "8b877efc-2132-490e-b4c9-b8a138c80858",
   "metadata": {},
   "outputs": [],
   "source": []
  }
 ],
 "metadata": {
  "kernelspec": {
   "display_name": "Python 3 (ipykernel)",
   "language": "python",
   "name": "python3"
  },
  "language_info": {
   "codemirror_mode": {
    "name": "ipython",
    "version": 3
   },
   "file_extension": ".py",
   "mimetype": "text/x-python",
   "name": "python",
   "nbconvert_exporter": "python",
   "pygments_lexer": "ipython3",
   "version": "3.12.2"
  }
 },
 "nbformat": 4,
 "nbformat_minor": 5
}
