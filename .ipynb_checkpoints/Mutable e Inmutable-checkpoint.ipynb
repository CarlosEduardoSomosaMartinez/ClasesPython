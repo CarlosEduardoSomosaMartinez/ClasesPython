{
 "cells": [
  {
   "cell_type": "markdown",
   "id": "f6c0a982-49c3-4918-b268-63e777a5eedb",
   "metadata": {},
   "source": [
    "en otros lenguajes de programacion la variables se pueden ver como cajas pero te dije en su momento que te provocaria problemas a fuuturo y es parte de estr futuro\n",
    "como vimos se crea  un identificador  que es una referencia  a un objeto esa es decir que esta etiqueta esta enlasada a un objeto y su nombre real se lo asigna python como ya lo vimos es que es accesible con la funcion id()\n",
    "ahora  nosotros cuando reasignamos   un valor a la variable lo que asemos es practiacamente crear un  nuevaidentificador con un nuevo espacio en memoria"
   ]
  },
  {
   "cell_type": "code",
   "execution_count": 2,
   "id": "fa3c5c20-033b-465a-8901-dbfae4380d82",
   "metadata": {},
   "outputs": [
    {
     "name": "stdout",
     "output_type": "stream",
     "text": [
      "140712190953912\n",
      "140712190953944\n"
     ]
    }
   ],
   "source": [
    "a = 1\n",
    "print(id(a))\n",
    "a = 2\n",
    "print(id(a))"
   ]
  },
  {
   "cell_type": "code",
   "execution_count": null,
   "id": "cb3133d3-6e8a-4e4f-a168-7264b8974da1",
   "metadata": {},
   "outputs": [],
   "source": []
  },
  {
   "cell_type": "code",
   "execution_count": null,
   "id": "9a5ccde7-beb2-4149-8471-dee01513d0b5",
   "metadata": {},
   "outputs": [],
   "source": []
  }
 ],
 "metadata": {
  "kernelspec": {
   "display_name": "Python 3 (ipykernel)",
   "language": "python",
   "name": "python3"
  },
  "language_info": {
   "codemirror_mode": {
    "name": "ipython",
    "version": 3
   },
   "file_extension": ".py",
   "mimetype": "text/x-python",
   "name": "python",
   "nbconvert_exporter": "python",
   "pygments_lexer": "ipython3",
   "version": "3.12.2"
  }
 },
 "nbformat": 4,
 "nbformat_minor": 5
}
