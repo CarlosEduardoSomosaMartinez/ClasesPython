{
 "cells": [
  {
   "cell_type": "markdown",
   "id": "3f6a2012-6512-43fd-bbbe-0a21f72903d9",
   "metadata": {},
   "source": [
    "la clase que hemos visto hasta esta hora tipo de datos simples donde podemos almacenar valores o objetos de un un mism tipo de datos\n",
    " como los strin los int los bytes ahora trataremos de  ver las estructuras de datos  mas simples existe una seri de clase que nosotos vamos a llamar contenedoras  "
   ]
  },
  {
   "cell_type": "markdown",
   "id": "b53f9765-757d-45e3-9cd5-9375d66ce85c",
   "metadata": {},
   "source": [
    "ahora ya habiamos hablado algo sobre las secuencias  tienen un conjunto de elementos ordenador que podemos acceder a ello por medio de los corchetes .Esta tambien tiene la propiedad de ser un objeto iterable .como veremos mas adelante un iterable es un objeto que se le puede extrar  elemento uno a uno"
   ]
  },
  {
   "cell_type": "markdown",
   "id": "e2495b8b-e728-47b5-94f1-5b131cdfc984",
   "metadata": {},
   "source": [
    "<h1>Tuplas</h1>"
   ]
  },
  {
   "cell_type": "markdown",
   "id": "95f7e1a2-a0a0-4d45-92fd-7bf7f5d81f19",
   "metadata": {},
   "source": [
    "hablar de las cadenas de caracteres  objetos str  o de objetos bytes  vimos que se podian tratar como secuancia y que por ejemplo la notacion de corchetes []  podiamos acceder a cada uno de sus elementos "
   ]
  },
  {
   "cell_type": "markdown",
   "id": "d027c47e-2bc4-4ab4-a152-c5664e2d31a7",
   "metadata": {},
   "source": [
    "un tupla es una secesion  de elementos cualquiera y general estos son de cualquier tipo  "
   ]
  },
  {
   "cell_type": "code",
   "execution_count": 2,
   "id": "4d113635-0517-454d-a7c9-fe040eb8e4fc",
   "metadata": {},
   "outputs": [],
   "source": [
    "#de esta manera nosotros lo odemo declarar\n",
    "vocales = \"a\",\"e\",\"i\",\"o\",\"u\"\n",
    "nombres = \"juguete\",\"carrito\",\"perrito\"\n",
    "numeros = 12,13,23,53,89\n",
    "de_todo = 32, 32.23,\"esta mezclado\",False"
   ]
  },
  {
   "cell_type": "markdown",
   "id": "1e9024f8-5db4-4f28-a12d-d4f67aa9c693",
   "metadata": {},
   "source": [
    "si nosotro ejecutamos algun de estos  lo que nos mostrara sera esta secuencia de objetos dentro de parentesis en conjunto"
   ]
  },
  {
   "cell_type": "code",
   "execution_count": 3,
   "id": "9e591b79-39f2-4ef3-8938-96e868d6df05",
   "metadata": {},
   "outputs": [
    {
     "name": "stdout",
     "output_type": "stream",
     "text": [
      "('a', 'e', 'i', 'o', 'u')\n"
     ]
    }
   ],
   "source": [
    "print(vocales)"
   ]
  },
  {
   "cell_type": "markdown",
   "id": "52aae5e4-5aa2-4c1e-bd86-0fc2febbc3d4",
   "metadata": {},
   "source": [
    " ahora nosotros  podemos declarar de dos maneraras diferentes () y con , , , , ,\n"
   ]
  },
  {
   "cell_type": "markdown",
   "id": "5cff2c90-d6c0-49d8-a4ad-5c29b65a6d4e",
   "metadata": {},
   "source": [
    "es importante aclarar que podemos definir tuplas con un elemento  pero hay que tener cuidado  ya que podriamos definir un tipo de datos"
   ]
  },
  {
   "cell_type": "code",
   "execution_count": 7,
   "id": "fed2d8c4-3aa1-471c-b61d-b3761678dbe9",
   "metadata": {},
   "outputs": [
    {
     "name": "stdout",
     "output_type": "stream",
     "text": [
      "(7,) ('string',)\n"
     ]
    }
   ],
   "source": [
    "tupla1 = 7,\n",
    "tupla2 = (\"string\",)\n",
    "print(tupla1,tupla2)"
   ]
  },
  {
   "cell_type": "code",
   "execution_count": 8,
   "id": "2ce1f4c6-a1f3-438c-8da2-eff383257d4e",
   "metadata": {},
   "outputs": [
    {
     "name": "stdout",
     "output_type": "stream",
     "text": [
      "posicion1 posiciones3\n"
     ]
    }
   ],
   "source": [
    "vocales = (\"posicion1\",\"posicion2\",\"posiciones3\")\n",
    "print(vocales[0],vocales[2])"
   ]
  },
  {
   "cell_type": "markdown",
   "id": "447b2493-ebdf-4b89-96a3-907bc8cd9a56",
   "metadata": {},
   "source": [
    "ahora los elementos que  estan en estas tuplas funcionaran de la misa manera que funcionan los tipos de objeto alos que pertenecen solo con una diferencia este tipo de estructura de datos nosotros no la podemos modificar ya creada y que se vuelve inmutable  y si la queremos modificar solo loo hariamos haciendola de nuevo  ahora una tupla puede conterner incluso otras tuplas un ejemplo como la siguiente"
   ]
  },
  {
   "cell_type": "code",
   "execution_count": 12,
   "id": "d5de8212-655a-4ef9-b110-f64dd1289e88",
   "metadata": {},
   "outputs": [
    {
     "name": "stdout",
     "output_type": "stream",
     "text": [
      "esto es\n",
      "tupla\n"
     ]
    }
   ],
   "source": [
    "tupla_dentro_tupla = (1,2,(\"esto es\",\"otra\",\"tupla\"),3,3)\n",
    "print(tupla_dentro_tupla[2][0])\n",
    "#o podemos acceder atraves de otra variable\n",
    "sub_tupla = tupla_dentro_tupla[2]\n",
    "print(sub_tupla[2])"
   ]
  },
  {
   "cell_type": "markdown",
   "id": "d26b194b-e0f8-4fa1-95ed-0491e800df0c",
   "metadata": {},
   "source": [
    "ahora es normal que nos llegos a confundir si es que vemos tantons parentesis y comas juntas por suerrte nosotros podemos dividir los renglones"
   ]
  },
  {
   "cell_type": "code",
   "execution_count": 16,
   "id": "15b14b5d-c7ca-49c2-9a47-3e4856120a18",
   "metadata": {},
   "outputs": [],
   "source": [
    "tupla2 = (2,3,4,\n",
    "         (\"esto es una tupla\",\"o talvez no\"),\n",
    "          False,True)"
   ]
  },
  {
   "cell_type": "markdown",
   "id": "73a2b80c-1176-45ed-8c93-3b8976750149",
   "metadata": {},
   "source": [
    "ahora como en todo hay otra forma de lograr crear un tupla de manera explicita y es con nuestro funcion  ahora si nosotros le pasamos un objeto iterable  como por ejejmplo una cadena de texto,  retornara una tupla con esos elementos"
   ]
  },
  {
   "cell_type": "code",
   "execution_count": null,
   "id": "382f93bd-8a5e-4212-a70c-36ef8bf57048",
   "metadata": {},
   "outputs": [],
   "source": [
    "vocales = tuplas('aeiou')\n",
    "print(tupla)"
   ]
  },
  {
   "cell_type": "markdown",
   "id": "f91ffde9-d814-48b1-abca-8d7c23ae12c1",
   "metadata": {},
   "source": []
  }
 ],
 "metadata": {
  "kernelspec": {
   "display_name": "Python 3 (ipykernel)",
   "language": "python",
   "name": "python3"
  },
  "language_info": {
   "codemirror_mode": {
    "name": "ipython",
    "version": 3
   },
   "file_extension": ".py",
   "mimetype": "text/x-python",
   "name": "python",
   "nbconvert_exporter": "python",
   "pygments_lexer": "ipython3",
   "version": "3.12.2"
  }
 },
 "nbformat": 4,
 "nbformat_minor": 5
}
