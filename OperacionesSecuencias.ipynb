{
 "cells": [
  {
   "cell_type": "markdown",
   "id": "315b166a-78b7-46e1-87fc-07a24d9562d4",
   "metadata": {},
   "source": [
    "casi todas las secuencias que ya vimos tienen operaciones en comun en conjunto nosotro\n",
    "a exepcion de los rangos , ahora una nota muy importante es que dos notal del mismo tipo se pueden  concatenar una a continuacion de la otra usando el operador  esto retornara una secuencia del mismo tipo acuerdate  gatos con gatos perros con perros"
   ]
  },
  {
   "cell_type": "code",
   "execution_count": 1,
   "id": "ff5dfb84-4b8c-4550-8322-68591b17ecbc",
   "metadata": {},
   "outputs": [
    {
     "name": "stdout",
     "output_type": "stream",
     "text": [
      "holamundo\n",
      "[1, 2, 'esto', 'el otro']\n",
      "(4, 5, True, 'corre')\n"
     ]
    }
   ],
   "source": [
    "print(\"hola\"+\"mundo\")\n",
    "print([1,2]+[\"esto\",\"el otro\"])\n",
    "print((4,5)+(True,\"corre\"))"
   ]
  },
  {
   "cell_type": "markdown",
   "id": "4e83dcc9-4127-47ff-8005-ee258a58aa05",
   "metadata": {},
   "source": [
    "como ya hemos visto antes aparte de sumar podemos multiplicar esto retornara una secuencia equivalente por el numero de veces  que nosotros multiplicando"
   ]
  },
  {
   "cell_type": "code",
   "execution_count": 2,
   "id": "16bdde1d-9d1e-4cfe-bbf6-76cd176d9f11",
   "metadata": {},
   "outputs": [
    {
     "name": "stdout",
     "output_type": "stream",
     "text": [
      "lalala\n",
      "[2, 3, 1, 2, 3, 1, 2, 3, 1]\n",
      "(3, 45, 2, 3, 45, 2, 3, 45, 2)\n"
     ]
    }
   ],
   "source": [
    "print(\"la\"*3)\n",
    "print([2,3,1]*3)\n",
    "print((3,45,2)*3)"
   ]
  },
  {
   "cell_type": "markdown",
   "id": "71c7ba07-9f94-4fc5-998c-08d460ed2d74",
   "metadata": {},
   "source": [
    "ahora nosotros podemos saber si es que algun elemeno esta en estas colecciones si es que usamos un operador de pertennecia in este actuara debolbendo un true si es que nosotros tenemos el elemento en la secuncia o  alse si nos hace falta"
   ]
  },
  {
   "cell_type": "code",
   "execution_count": 5,
   "id": "4b804407-c73e-49e0-971c-b57706c51f3e",
   "metadata": {},
   "outputs": [
    {
     "name": "stdout",
     "output_type": "stream",
     "text": [
      "True\n",
      "True\n",
      "False\n",
      "True\n"
     ]
    }
   ],
   "source": [
    "print(\"a\" in \"hola mundo\")\n",
    "print(2 in [2,3,5,11,3])\n",
    "print(9 in (4,\"2\",\"algo\"))\n",
    "print(4 in range(3,10))"
   ]
  },
  {
   "cell_type": "markdown",
   "id": "49b742c6-7e26-4c51-99f8-7107349779ab",
   "metadata": {},
   "source": [
    "en caso de algun grupo escpecial de  de secuencias tienen otro tipo de comportamiento especial:lo  que podemos hacer es buscar una subcadena  las series que  con el string con los bytes y los bytearrays"
   ]
  },
  {
   "cell_type": "code",
   "execution_count": 8,
   "id": "b794bc0f-731d-4237-8cee-cb10ef9af6a2",
   "metadata": {},
   "outputs": [
    {
     "name": "stdout",
     "output_type": "stream",
     "text": [
      "True\n",
      "True\n",
      "True\n"
     ]
    }
   ],
   "source": [
    "print(\"@outlook.com\" in \"ejemplo@outlook.com\")\n",
    "print(b\"secreto\" in b\"esto es un secreto\")\n",
    "print(bytearray((34,32,33)) in bytearray([90,9,89,9 ,34,32,33]))"
   ]
  },
  {
   "cell_type": "markdown",
   "id": "f179e317-7aad-47b7-b932-31cabda2f804",
   "metadata": {},
   "source": [
    "tambien esta el caso contrario que funciona exactamente igual pero de manera inversa"
   ]
  },
  {
   "cell_type": "code",
   "execution_count": 11,
   "id": "e3a037c5-f07c-491b-96c8-263436684434",
   "metadata": {},
   "outputs": [
    {
     "name": "stdout",
     "output_type": "stream",
     "text": [
      "False\n",
      "True\n",
      "False\n"
     ]
    }
   ],
   "source": [
    "print(\"a\" not in \"Hola Mundo\")\n",
    "print(\"esto\" not in \"talvez\")\n",
    "print(3 not in [3,4,5,9,22,2])"
   ]
  },
  {
   "cell_type": "markdown",
   "id": "8b29f242-34ba-4070-9b36-cc5a91e8f8ec",
   "metadata": {},
   "source": [
    "el sigueiente metodo lo utilisaremos para contar las vezes que se repite un objeto en nuestra secuencia si nosotros no le pasamos un argumento nos dara error"
   ]
  },
  {
   "cell_type": "code",
   "execution_count": 13,
   "id": "538177d9-6e62-4970-9175-727baf093896",
   "metadata": {},
   "outputs": [
    {
     "name": "stdout",
     "output_type": "stream",
     "text": [
      "2\n"
     ]
    }
   ],
   "source": [
    "print(\"hola mundo\".count(\"o\"))"
   ]
  },
  {
   "cell_type": "markdown",
   "id": "341d22e1-3345-486c-941c-29b0cdadb555",
   "metadata": {},
   "source": [
    "otro metodo importante es el index() que consiste en  devolvernos el indecie da la primera concidencia del objeto que nosotros le pasemos "
   ]
  },
  {
   "cell_type": "code",
   "execution_count": 22,
   "id": "7a12b8d3-a208-47e5-ae05-1205d8ee6c53",
   "metadata": {},
   "outputs": [
    {
     "name": "stdout",
     "output_type": "stream",
     "text": [
      "5\n",
      "2\n",
      "2\n"
     ]
    }
   ],
   "source": [
    "abc = (\n",
    "    \"a\",\"b\",\"c\",\"d\",\n",
    "    \"e\",\"f\",\"g\",\"h\",\n",
    "    )\n",
    "print(abc.index(\"f\"))\n",
    "secuencia  = [\"esto\",\"es\",\"una\",\"frase\",\"una\"]\n",
    "print(secuencia.index(\"una\"))\n",
    "tupla = (\"no\",\"nada\",\"aqui\")\n",
    "print(tupla.index(\"aqui\"))"
   ]
  },
  {
   "cell_type": "markdown",
   "id": "bc1a9906-9874-491d-81b7-f8e4474271d5",
   "metadata": {},
   "source": [
    "en caso de que indice no sea encontrado nos marcara un error"
   ]
  },
  {
   "cell_type": "code",
   "execution_count": 26,
   "id": "afe22f44-85af-4daa-ae22-1cfff361ff3c",
   "metadata": {},
   "outputs": [
    {
     "ename": "ValueError",
     "evalue": "0 is not in list",
     "output_type": "error",
     "traceback": [
      "\u001b[1;31m---------------------------------------------------------------------------\u001b[0m",
      "\u001b[1;31mValueError\u001b[0m                                Traceback (most recent call last)",
      "Cell \u001b[1;32mIn[26], line 1\u001b[0m\n\u001b[1;32m----> 1\u001b[0m \u001b[38;5;28mprint\u001b[39m(\u001b[43m[\u001b[49m\u001b[38;5;241;43m1\u001b[39;49m\u001b[43m,\u001b[49m\u001b[38;5;241;43m3\u001b[39;49m\u001b[43m,\u001b[49m\u001b[38;5;241;43m4\u001b[39;49m\u001b[43m,\u001b[49m\u001b[38;5;241;43m3\u001b[39;49m\u001b[43m]\u001b[49m\u001b[38;5;241;43m.\u001b[39;49m\u001b[43mindex\u001b[49m\u001b[43m(\u001b[49m\u001b[38;5;241;43m0\u001b[39;49m\u001b[43m)\u001b[49m)\n",
      "\u001b[1;31mValueError\u001b[0m: 0 is not in list"
     ]
    }
   ],
   "source": [
    "print([1,3,4,3].index(0))"
   ]
  },
  {
   "cell_type": "markdown",
   "id": "cf42cb68-a44e-44b5-82e0-8289fb51b613",
   "metadata": {},
   "source": [
    "rango tiene otras propiedades mas potente y es puedes definir el rango de busqueda con el inicio y con el final"
   ]
  },
  {
   "cell_type": "code",
   "execution_count": 32,
   "id": "c97285c1-1230-4b62-aed8-eaa3c2813ed9",
   "metadata": {},
   "outputs": [
    {
     "name": "stdout",
     "output_type": "stream",
     "text": [
      "4\n",
      "5\n"
     ]
    },
    {
     "ename": "ValueError",
     "evalue": "tuple.index(x): x not in tuple",
     "output_type": "error",
     "traceback": [
      "\u001b[1;31m---------------------------------------------------------------------------\u001b[0m",
      "\u001b[1;31mValueError\u001b[0m                                Traceback (most recent call last)",
      "Cell \u001b[1;32mIn[32], line 4\u001b[0m\n\u001b[0;32m      2\u001b[0m \u001b[38;5;28mprint\u001b[39m(tupla\u001b[38;5;241m.\u001b[39mindex(\u001b[38;5;124m\"\u001b[39m\u001b[38;5;124mcon\u001b[39m\u001b[38;5;124m\"\u001b[39m,\u001b[38;5;241m2\u001b[39m))\n\u001b[0;32m      3\u001b[0m \u001b[38;5;28mprint\u001b[39m(tupla\u001b[38;5;241m.\u001b[39mindex(\u001b[38;5;124m\"\u001b[39m\u001b[38;5;124mrango\u001b[39m\u001b[38;5;124m\"\u001b[39m,\u001b[38;5;241m2\u001b[39m,\u001b[38;5;241m6\u001b[39m))\n\u001b[1;32m----> 4\u001b[0m \u001b[38;5;28mprint\u001b[39m(\u001b[43mtupla\u001b[49m\u001b[38;5;241;43m.\u001b[39;49m\u001b[43mindex\u001b[49m\u001b[43m(\u001b[49m\u001b[38;5;124;43m\"\u001b[39;49m\u001b[38;5;124;43muna\u001b[39;49m\u001b[38;5;124;43m\"\u001b[39;49m\u001b[43m,\u001b[49m\u001b[38;5;241;43m0\u001b[39;49m\u001b[43m,\u001b[49m\u001b[38;5;241;43m2\u001b[39;49m\u001b[43m)\u001b[49m)\n",
      "\u001b[1;31mValueError\u001b[0m: tuple.index(x): x not in tuple"
     ]
    }
   ],
   "source": [
    "tupla = \"esto\",\"es\",\"una\",\"oracion\",\"con\",\"rango\",\"de\",\"busqueda\",\"amplio\"\n",
    "print(tupla.index(\"con\",2))\n",
    "print(tupla.index(\"rango\",2,6))\n",
    "print(tupla.index(\"una\",0,2))"
   ]
  },
  {
   "cell_type": "markdown",
   "id": "a4ca9b56-0c1a-4b97-bc1e-d858fce9e6ef",
   "metadata": {},
   "source": [
    "por ultimo nosotros podemos tambien saber el maximo y el menor de una funcion solo con las funciones max y min\n",
    "tambien la longitud de la sier es  de len estas funciones en si no estan dentro de los elementos de  cada una de la serie si no estan en pytho como tal"
   ]
  },
  {
   "cell_type": "code",
   "execution_count": 33,
   "id": "463e759b-1574-4b12-a7bc-43ed8d5b2e6c",
   "metadata": {},
   "outputs": [
    {
     "name": "stdout",
     "output_type": "stream",
     "text": [
      "7\n",
      "0\n",
      "41\n"
     ]
    }
   ],
   "source": [
    "print(max([4,3,7,4]))\n",
    "print(min([0,9,8,1]))\n",
    "print(len(range(8,90,2)))"
   ]
  },
  {
   "cell_type": "code",
   "execution_count": null,
   "id": "02fa7e12-c7b0-449f-96cb-bfd7cde1036f",
   "metadata": {},
   "outputs": [],
   "source": []
  }
 ],
 "metadata": {
  "kernelspec": {
   "display_name": "Python 3 (ipykernel)",
   "language": "python",
   "name": "python3"
  },
  "language_info": {
   "codemirror_mode": {
    "name": "ipython",
    "version": 3
   },
   "file_extension": ".py",
   "mimetype": "text/x-python",
   "name": "python",
   "nbconvert_exporter": "python",
   "pygments_lexer": "ipython3",
   "version": "3.12.2"
  }
 },
 "nbformat": 4,
 "nbformat_minor": 5
}
