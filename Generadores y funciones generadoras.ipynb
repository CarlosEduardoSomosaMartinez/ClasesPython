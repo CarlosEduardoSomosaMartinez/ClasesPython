{
 "cells": [
  {
   "cell_type": "markdown",
   "id": "6bbba14e-239b-4226-859e-9d1c2291cfae",
   "metadata": {},
   "source": [
    "\n",
    "El generador se encarga de calcular los valores individuales conforme son necesarios en vez de calcular toda una lista y usarla como iterable. Ahora nosotros, en vez de usar un return, usaremos un yield como el siguiente"
   ]
  },
  {
   "cell_type": "code",
   "execution_count": 5,
   "id": "01c9e7b1-9323-4eb5-a3a7-5fc22607b570",
   "metadata": {},
   "outputs": [
    {
     "name": "stdout",
     "output_type": "stream",
     "text": [
      "0\n",
      "1\n"
     ]
    }
   ],
   "source": [
    "def generador(num):\n",
    "    i = 0 \n",
    "    while i < num:\n",
    "        yield i\n",
    "        i += 1\n",
    "a = generador(3)\n",
    "print(next(a))\n",
    "print(next(a))"
   ]
  },
  {
   "cell_type": "markdown",
   "id": "b0b3876a",
   "metadata": {},
   "source": [
    "Este tipo de función nos generará un iterador el cual contiene sus mismas propiedades, por lo que también podremos recorrerlo con `next` y también estos se agotarán."
   ]
  },
  {
   "cell_type": "markdown",
   "id": "d47ddfab-7cf0-4696-8551-9be61aeeecec",
   "metadata": {},
   "source": [
    "Nosotros también podemos generar listas de esta manera."
   ]
  },
  {
   "cell_type": "code",
   "execution_count": 6,
   "id": "04ca51f9-20b3-47e0-94be-710828b0a610",
   "metadata": {},
   "outputs": [
    {
     "name": "stdout",
     "output_type": "stream",
     "text": [
      "[0, 1, 2, 3]\n"
     ]
    }
   ],
   "source": [
    "lista = list(generador(4))\n",
    "print(lista)"
   ]
  },
  {
   "cell_type": "markdown",
   "id": "0ba34b2e-e679-43f5-bd07-7cac05a5c732",
   "metadata": {},
   "source": [
    "Otra de las múltiples cosas que ocupamos al momento de utilizar funciones generadoras es la delegación entre estas clases con la palabra reservada `from`."
   ]
  },
  {
   "cell_type": "code",
   "execution_count": 7,
   "id": "e7728e6d-6564-46ec-9f52-e327361646bb",
   "metadata": {},
   "outputs": [
    {
     "name": "stdout",
     "output_type": "stream",
     "text": [
      "x\n",
      "a\n",
      "b\n",
      "c\n",
      "y\n"
     ]
    }
   ],
   "source": [
    "def generator1():\n",
    "    yield 'a'\n",
    "    yield 'b'\n",
    "    yield 'c'\n",
    "\n",
    "def generator2():\n",
    "    yield 'x'\n",
    "    yield from generator1()\n",
    "    yield 'y'\n",
    "\n",
    "for value in generator2():\n",
    "    print(value)"
   ]
  },
  {
   "cell_type": "markdown",
   "id": "48bb95bb-5087-474d-bc90-2443f046f8a1",
   "metadata": {},
   "source": [
    "Lo que hace el `yield from` simplifica la escritura de funciones generadoras que delegan la generación a otras funciones generadoras, y esto evita el anidamiento de `for` dentro de funciones generadoras."
   ]
  },
  {
   "cell_type": "code",
   "execution_count": 12,
   "id": "a0a6fc9c-149d-41db-90d5-bfb9b0a6fd65",
   "metadata": {},
   "outputs": [
    {
     "name": "stdout",
     "output_type": "stream",
     "text": [
      "0\n",
      "1\n",
      "1\n",
      "2\n",
      "3\n",
      "5\n"
     ]
    }
   ],
   "source": [
    "def fibonachi():\n",
    "    a ,b = 0,1\n",
    "    while True:\n",
    "        yield a\n",
    "        a, b = b, a+b\n",
    "sec_fib = fibonachi()\n",
    "print(next(sec_fib))\n",
    "print(next(sec_fib))\n",
    "print(next(sec_fib))\n",
    "print(next(sec_fib))\n",
    "print(next(sec_fib))\n",
    "print(next(sec_fib))"
   ]
  },
  {
   "cell_type": "code",
   "execution_count": 20,
   "id": "3edc4c1e-930f-4ad5-8fff-130a1da44909",
   "metadata": {},
   "outputs": [
    {
     "name": "stdout",
     "output_type": "stream",
     "text": [
      "1\n",
      "2\n",
      "6\n",
      "24\n",
      "120\n",
      "720\n"
     ]
    }
   ],
   "source": [
    "def factorial():\n",
    "    n = 1\n",
    "    count = 1\n",
    "    while True:\n",
    "        yield n\n",
    "        count +=1\n",
    "        n *=  count\n",
    "        \n",
    "factor = factorial()\n",
    "print(next(factor))\n",
    "print(next(factor))\n",
    "print(next(factor))\n",
    "print(next(factor))\n",
    "print(next(factor))\n",
    "print(next(factor))\n"
   ]
  }
 ],
 "metadata": {
  "kernelspec": {
   "display_name": "Python 3 (ipykernel)",
   "language": "python",
   "name": "python3"
  },
  "language_info": {
   "codemirror_mode": {
    "name": "ipython",
    "version": 3
   },
   "file_extension": ".py",
   "mimetype": "text/x-python",
   "name": "python",
   "nbconvert_exporter": "python",
   "pygments_lexer": "ipython3",
   "version": "3.12.2"
  }
 },
 "nbformat": 4,
 "nbformat_minor": 5
}
