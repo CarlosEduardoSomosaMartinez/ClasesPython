{
 "cells": [
  {
   "cell_type": "markdown",
   "metadata": {},
   "source": [
    "estos metodos son heredados de una clase heredara de la clase object estos metodos se aplican de manere implita por el lenguaje en situaciones particulares\n"
   ]
  },
  {
   "cell_type": "markdown",
   "metadata": {},
   "source": [
    "por lo tanto nosotros podemos sobrescribir este tipo de metodos si nosotros lo utilizamos en nuestras funciones des este modo podemos modificar este tipo de comportamientos"
   ]
  },
  {
   "cell_type": "code",
   "execution_count": 1,
   "metadata": {},
   "outputs": [],
   "source": [
    "class  MiClase:\n",
    "    def __init__(self,texto):\n",
    "        self.texto = texto\n",
    "\n",
    "    def __str__(self):\n",
    "        yo = id(self)\n",
    "        texto = self.texto\n",
    "        clase = type(self)\n",
    "        return f\"{texto} , de la clase {clase}.El id es {yo}\""
   ]
  },
  {
   "cell_type": "code",
   "execution_count": 4,
   "metadata": {},
   "outputs": [
    {
     "name": "stdout",
     "output_type": "stream",
     "text": [
      "esto es un texto , de la clase <class '__main__.MiClase'>.El id es 1828845950240\n",
      "<__main__.MiClase object at 0x000001A9CFB69520>\n"
     ]
    }
   ],
   "source": [
    "instancia =  MiClase(\"esto es un texto\")\n",
    "print(instancia)\n",
    "print(repr(instancia))"
   ]
  },
  {
   "cell_type": "markdown",
   "metadata": {},
   "source": [
    "ahora lo que pasa es que estamos sobreescribiendo el metodo magico y haci modificamos su comportamiento.La mayoria de la funciones de pytho tiene un metodo magico para poder ser implementadas estos metodos o la mayoria defienen comportamientos basicos por defecto de la funcion"
   ]
  },
  {
   "cell_type": "markdown",
   "metadata": {},
   "source": [
    "<h2>Crear Inicialisar y Finalizar</h2>"
   ]
  },
  {
   "cell_type": "markdown",
   "metadata": {},
   "source": [
    "nosotros ya conocemos el metodo magico de init que nos sirve para inicialisar una instancia de una clase tambien lo usamos como constructor pero aparte de estos existen otros dos metodoso que nos van a ayudar a poder llevar la creacion y la finalazacion\n",
    "el primer metodo es el metodo __new__ este metodo es un metodo para crear una nueva instancia pero antes de la inicialisacion del metodo magico init este metodo es estatico y recibe como primer parametro el cls  este metodo lo tuilisaremos cuando se quiere personalizar la creacion de una instancia  y se ejcutara primero que  __init__ recurda que este metodo es de clase y de tipo estatico"
   ]
  },
  {
   "cell_type": "code",
   "execution_count": 5,
   "metadata": {},
   "outputs": [
    {
     "name": "stdout",
     "output_type": "stream",
     "text": [
      "(3, 3)\n",
      "None\n"
     ]
    }
   ],
   "source": [
    "class MiClass:\n",
    "    def __new__(cls,*args,**kwargs):\n",
    "        print(args)\n",
    "        if args and args[0]>8:\n",
    "            print(\"cumplio\")\n",
    "            super().__new__(cls)\n",
    "        else:\n",
    "            return None\n",
    "        \n",
    "    def __init__(self,primero ,segundo):\n",
    "        self.primero = primero\n",
    "        self.segundo = segundo\n",
    "\n",
    "objeto = MiClass(3,3)\n",
    "print(objeto)"
   ]
  },
  {
   "cell_type": "markdown",
   "metadata": {},
   "source": [
    "ahora cuando nosotros vamos a poder usar este metodo magico bueno es simple la mayoria de estos metodos magicos lo vamos a poder usar cuando en la implementacion de singletons y la implementacion de flyweight"
   ]
  },
  {
   "cell_type": "markdown",
   "metadata": {},
   "source": [
    "otro metodo que nosotros vamos a ir viendo es el metodo magico del sera el metodo de del el cual nos ayudara a la parte de la iliminacion del objeto y este se ejecutara cuando ya no se pueda hacer referencia al objeto"
   ]
  },
  {
   "cell_type": "code",
   "execution_count": null,
   "metadata": {},
   "outputs": [],
   "source": [
    "class MiClass:\n",
    "    def __new__(cls,*args,**kwargs):\n",
    "        print(args)\n",
    "        if args and args[0]>8:\n",
    "            print(\"cumplio\")\n",
    "            super().__new__(cls)\n",
    "        else:\n",
    "            return None\n",
    "        \n",
    "    def __init__(self,primero ,segundo):\n",
    "        self.primero = primero\n",
    "        self.segundo = segundo\n",
    "\n",
    "    def __del__(self):\n",
    "        print(\"se elimino el elemto\")\n"
   ]
  },
  {
   "cell_type": "markdown",
   "metadata": {},
   "source": [
    "<h1>Referencia a atributos</h1>\n",
    "\n",
    "tenemos un metodo __getattribute()__ se invoca cada vez que queremos acceder u un atributo en nuestra clase o lanzar un excepcion"
   ]
  },
  {
   "cell_type": "code",
   "execution_count": 7,
   "metadata": {},
   "outputs": [
    {
     "name": "stdout",
     "output_type": "stream",
     "text": [
      "imprimiendo primero\n",
      "imprimiendo primero\n"
     ]
    }
   ],
   "source": [
    "class Persona:\n",
    "    def __init__(self,primero) :\n",
    "          self.primero = primero\n",
    "    \n",
    "    def __getattribute__(self,data):\n",
    "        print(\"imprimiendo primero\")\n",
    "        return super().__getattribute__(data)\n",
    "\n",
    "personita = Persona(\"segundo\")\n",
    "personita.primero\n",
    "personita.otroElemento"
   ]
  },
  {
   "cell_type": "markdown",
   "metadata": {},
   "source": [
    "como vez nosotros llamaremos de manera implicta a nuesto metodo cuando pidamos un atributo o cuando me marque error por llamar  auno que no existe ahora algo importante para despues continuar el conmportamiento habitual del metodo magico devemos llamar a la clase obj con super para recrobar el comportamiento usual de esta mismta\n"
   ]
  },
  {
   "cell_type": "markdown",
   "metadata": {},
   "source": [
    "ahora que pasa si en caso que tengamos un error en getattribute bueno pues nos daria un error pero si es que tenemos __getattr__ este ultimo se invocaria  para devolver el atributo que falta"
   ]
  },
  {
   "cell_type": "code",
   "execution_count": 3,
   "metadata": {},
   "outputs": [
    {
     "name": "stdout",
     "output_type": "stream",
     "text": [
      "se devuelve sobre escriviendo el metodo magico\n",
      "se devuelve sobre escriviendo el metodo magico\n",
      "esto no se encuentra data\n"
     ]
    }
   ],
   "source": [
    "class Persona:\n",
    "    def __init__(self,nombre):\n",
    "        self.nombre = nombre\n",
    "    \n",
    "    def __getattribute__(self, __name: str):\n",
    "        print(\"se devuelve sobre escriviendo el metodo magico\")\n",
    "        return super().__getattribute__(__name)\n",
    "    \n",
    "    def __getattr__(self,dato):\n",
    "        print(f\"esto no se encuentra {dato}\")\n",
    "        \n",
    "personita = Persona(\"juan\")\n",
    "personita.nombre\n",
    "personita.data"
   ]
  },
  {
   "cell_type": "markdown",
   "metadata": {},
   "source": [
    "otro elemento que se ejecuta cuando nosotros estamos asigando algun valor es el de __setattr__ este recive dos valores el nombre del atributo y como segundo el  valor a asignar a hora es importante que cuando asignamos dentro del metodo magico  tenemos que usar la propiedad de dict de lo contrario entraremos en un ciclo de estar activando este metodo magico de manera continua"
   ]
  },
  {
   "cell_type": "code",
   "execution_count": 1,
   "metadata": {},
   "outputs": [],
   "source": [
    "class Persona:\n",
    "    def __init(self,name):\n",
    "        self.name = name\n",
    "\n",
    "    def __getattribute__(self, atributo):\n",
    "        print(\"estamos desde getatribute\")\n",
    "        print(f\"buscando el atributo {atributo}\")\n",
    "        return super().__getattribute__(atributo)\n",
    "    \n",
    "    def __getattr__(self,atributo):\n",
    "        print(\"estamos en getattr\")\n",
    "        return f\"el atributo {atributo} no existe\"\n",
    "    \n",
    "    def __setattr__(self,name,value):\n",
    "        print(\"estamos en setattr\")\n",
    "        self.__dict__[name] = value"
   ]
  },
  {
   "cell_type": "markdown",
   "metadata": {},
   "source": [
    "por el utlimo metodo __delattr__ es el que se encarga de borrar los atributos cuando  hacemos por ejemplo del .recive como argumento el nombre del atributo  que se va a borrar"
   ]
  },
  {
   "cell_type": "markdown",
   "metadata": {},
   "source": [
    "<h1>Objetos Invocables</h1>"
   ]
  },
  {
   "cell_type": "markdown",
   "metadata": {},
   "source": [
    "en python nosotros ya sabemos que al llamar una funcion tenemos que usar los parentesis para que esta sea llamado esto recibe el nombre de invocable o calleable  este metodo magico convierte a nuestra funcion en un metodo calleable"
   ]
  },
  {
   "cell_type": "markdown",
   "metadata": {},
   "source": []
  }
 ],
 "metadata": {
  "kernelspec": {
   "display_name": "Python 3",
   "language": "python",
   "name": "python3"
  },
  "language_info": {
   "codemirror_mode": {
    "name": "ipython",
    "version": 3
   },
   "file_extension": ".py",
   "mimetype": "text/x-python",
   "name": "python",
   "nbconvert_exporter": "python",
   "pygments_lexer": "ipython3",
   "version": "3.12.2"
  }
 },
 "nbformat": 4,
 "nbformat_minor": 2
}
