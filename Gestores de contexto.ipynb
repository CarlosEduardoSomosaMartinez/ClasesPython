{
 "cells": [
  {
   "cell_type": "markdown",
   "id": "a922c56b-88b5-4002-aaef-8217e7419119",
   "metadata": {},
   "source": [
    "Un gestor de contexto nos va a ayudar para que ciertos recursos sean liberados después de que los hemos utilizado, sin importar si un error se ha producido o no. Aunque de manera rápida veremos explícitamente qué son, todavía no tendremos la habilidad para nosotros poder usarlos. Los utilizaremos para poder ocupar recursos como una conexión a una base de datos, una conexión a una API o incluso trabajar con archivos."
   ]
  },
  {
   "cell_type": "markdown",
   "id": "e3b25aab-a8d5-4099-ad2d-672285942d16",
   "metadata": {},
   "source": [
    "\"¿Qué haríamos nosotros en caso de contar con un gestor de contexto? Sería de la siguiente manera al querer trabajar con un archivo.\""
   ]
  },
  {
   "cell_type": "code",
   "execution_count": 4,
   "id": "f786567f-75b2-43c3-9370-6f5a17c89a2f",
   "metadata": {},
   "outputs": [
    {
     "name": "stdout",
     "output_type": "stream",
     "text": [
      "error\n"
     ]
    }
   ],
   "source": [
    "try: \n",
    "    fichero = open(\"texto.txt\")\n",
    "except Exception as error:\n",
    "    print(\"error\")\n",
    "    pass\n",
    "else:\n",
    "    contenido = fichero.readline()\n",
    "    print(contenido)\n",
    "finally:\n",
    "    if \"fichero\" in locals():\n",
    "        fichero.close()"
   ]
  },
  {
   "cell_type": "code",
   "execution_count": 10,
   "id": "33c132a6-5ca5-488e-8ed2-69ef38c7d476",
   "metadata": {},
   "outputs": [
    {
     "name": "stdout",
     "output_type": "stream",
     "text": [
      "{'a': 1}\n"
     ]
    }
   ],
   "source": [
    "def variables():\n",
    "    a = 1\n",
    "    print(locals())\n",
    "variables()"
   ]
  },
  {
   "cell_type": "markdown",
   "id": "44b45e91-27c4-45ea-b098-817d3d222d60",
   "metadata": {},
   "source": [
    "Nosotros acabamos de crear una estructura para abrir un archivo o iniciar algún tipo de recursos, y si no hay problemas, hacer lo que sea y después cerrarlo. Disponemos de una estructura para este tipo de casos, que sería la palabra reservada \"with\"."
   ]
  },
  {
   "cell_type": "code",
   "execution_count": 12,
   "id": "a6a9526a-a1af-4ce8-a43c-4cc347d22037",
   "metadata": {},
   "outputs": [
    {
     "ename": "FileNotFoundError",
     "evalue": "[Errno 2] No such file or directory: 'texto.txt'",
     "output_type": "error",
     "traceback": [
      "\u001b[1;31m---------------------------------------------------------------------------\u001b[0m",
      "\u001b[1;31mFileNotFoundError\u001b[0m                         Traceback (most recent call last)",
      "Cell \u001b[1;32mIn[12], line 1\u001b[0m\n\u001b[1;32m----> 1\u001b[0m \u001b[38;5;28;01mwith\u001b[39;00m \u001b[38;5;28;43mopen\u001b[39;49m\u001b[43m(\u001b[49m\u001b[38;5;124;43m\"\u001b[39;49m\u001b[38;5;124;43mtexto.txt\u001b[39;49m\u001b[38;5;124;43m\"\u001b[39;49m\u001b[43m)\u001b[49m \u001b[38;5;28;01mas\u001b[39;00m fichero:\n\u001b[0;32m      2\u001b[0m     contenido \u001b[38;5;241m=\u001b[39m fichero\u001b[38;5;241m.\u001b[39mreadline()\n\u001b[0;32m      3\u001b[0m     \u001b[38;5;28mprint\u001b[39m(contenido)\n",
      "File \u001b[1;32m~\\AppData\\Local\\Programs\\Python\\Python312\\Lib\\site-packages\\IPython\\core\\interactiveshell.py:310\u001b[0m, in \u001b[0;36m_modified_open\u001b[1;34m(file, *args, **kwargs)\u001b[0m\n\u001b[0;32m    303\u001b[0m \u001b[38;5;28;01mif\u001b[39;00m file \u001b[38;5;129;01min\u001b[39;00m {\u001b[38;5;241m0\u001b[39m, \u001b[38;5;241m1\u001b[39m, \u001b[38;5;241m2\u001b[39m}:\n\u001b[0;32m    304\u001b[0m     \u001b[38;5;28;01mraise\u001b[39;00m \u001b[38;5;167;01mValueError\u001b[39;00m(\n\u001b[0;32m    305\u001b[0m         \u001b[38;5;124mf\u001b[39m\u001b[38;5;124m\"\u001b[39m\u001b[38;5;124mIPython won\u001b[39m\u001b[38;5;124m'\u001b[39m\u001b[38;5;124mt let you open fd=\u001b[39m\u001b[38;5;132;01m{\u001b[39;00mfile\u001b[38;5;132;01m}\u001b[39;00m\u001b[38;5;124m by default \u001b[39m\u001b[38;5;124m\"\u001b[39m\n\u001b[0;32m    306\u001b[0m         \u001b[38;5;124m\"\u001b[39m\u001b[38;5;124mas it is likely to crash IPython. If you know what you are doing, \u001b[39m\u001b[38;5;124m\"\u001b[39m\n\u001b[0;32m    307\u001b[0m         \u001b[38;5;124m\"\u001b[39m\u001b[38;5;124myou can use builtins\u001b[39m\u001b[38;5;124m'\u001b[39m\u001b[38;5;124m open.\u001b[39m\u001b[38;5;124m\"\u001b[39m\n\u001b[0;32m    308\u001b[0m     )\n\u001b[1;32m--> 310\u001b[0m \u001b[38;5;28;01mreturn\u001b[39;00m \u001b[43mio_open\u001b[49m\u001b[43m(\u001b[49m\u001b[43mfile\u001b[49m\u001b[43m,\u001b[49m\u001b[43m \u001b[49m\u001b[38;5;241;43m*\u001b[39;49m\u001b[43margs\u001b[49m\u001b[43m,\u001b[49m\u001b[43m \u001b[49m\u001b[38;5;241;43m*\u001b[39;49m\u001b[38;5;241;43m*\u001b[39;49m\u001b[43mkwargs\u001b[49m\u001b[43m)\u001b[49m\n",
      "\u001b[1;31mFileNotFoundError\u001b[0m: [Errno 2] No such file or directory: 'texto.txt'"
     ]
    }
   ],
   "source": [
    "with open(\"texto.txt\") as fichero:\n",
    "    contenido = fichero.readline()\n",
    "    print(contenido)"
   ]
  },
  {
   "cell_type": "markdown",
   "id": "5500ebeb-00b9-4d51-a653-b14de9ca78a9",
   "metadata": {},
   "source": [
    "nosotros no podemos usar todos los objetos con la clausula witch que tenga los metodos __ enter __ y __ exit __ "
   ]
  }
 ],
 "metadata": {
  "kernelspec": {
   "display_name": "Python 3 (ipykernel)",
   "language": "python",
   "name": "python3"
  },
  "language_info": {
   "codemirror_mode": {
    "name": "ipython",
    "version": 3
   },
   "file_extension": ".py",
   "mimetype": "text/x-python",
   "name": "python",
   "nbconvert_exporter": "python",
   "pygments_lexer": "ipython3",
   "version": "3.12.2"
  }
 },
 "nbformat": 4,
 "nbformat_minor": 5
}
