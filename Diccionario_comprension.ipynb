{
 "cells": [
  {
   "cell_type": "markdown",
   "id": "d9f35fa8-bcbe-4bf4-82b8-0442485ca355",
   "metadata": {},
   "source": [
    "Sí, nosotros podemos usar casi la misma sintaxis para crear un diccionario, solo usando dos valores para representar clave-valor:\n",
    "\n",
    " \n",
    "diccionario = {clave: valor for variable in iterable if condicion}\n",
    " \n",
    "\n",
    "Esta es una forma de crear un diccionario utilizando comprensión de diccionarios en Python."
   ]
  },
  {
   "cell_type": "code",
   "execution_count": 3,
   "id": "0a951e1f-39b2-4481-9a6b-f13230011bc7",
   "metadata": {},
   "outputs": [
    {
     "name": "stdout",
     "output_type": "stream",
     "text": [
      "{'A': 'D', 'B': 'C', 'C': 'B', 'D': 'A'}\n"
     ]
    }
   ],
   "source": [
    "primera = [\"A\",\"B\",\"C\",\"D\"]\n",
    "segundo = [\"D\",\"C\",\"B\",\"A\"]\n",
    "\n",
    "co = { clave:valor for clave,valor in zip(primera,segundo)}\n",
    "print(co)"
   ]
  },
  {
   "cell_type": "code",
   "execution_count": 4,
   "id": "e775a3d3-dfde-43cb-8c63-a75d116ec25f",
   "metadata": {},
   "outputs": [
    {
     "name": "stdout",
     "output_type": "stream",
     "text": [
      "{'lun': 'Lunes', 'mar': 'Martes', 'mie': 'Miercoles', 'jue': 'Jueves', 'vie': 'Viernes', 'sab': 'Sabado', 'dom': 'Domingo'}\n"
     ]
    }
   ],
   "source": [
    "lista_semana = [\n",
    "    \"lunes\",\n",
    "    \"martes\",\n",
    "    \"miercoles\",\n",
    "    \"jueves\",\n",
    "    \"viernes\",\n",
    "    \"sabado\",\n",
    "    \"domingo\"\n",
    "]\n",
    "dic_semana = {dia[0:3]:dia.capitalize() for dia in lista_semana}\n",
    "print(dic_semana)"
   ]
  },
  {
   "cell_type": "code",
   "execution_count": null,
   "id": "a05c0fef-f73e-4bb5-b5d8-f6378e84ff95",
   "metadata": {},
   "outputs": [],
   "source": [
    "e"
   ]
  }
 ],
 "metadata": {
  "kernelspec": {
   "display_name": "Python 3 (ipykernel)",
   "language": "python",
   "name": "python3"
  },
  "language_info": {
   "codemirror_mode": {
    "name": "ipython",
    "version": 3
   },
   "file_extension": ".py",
   "mimetype": "text/x-python",
   "name": "python",
   "nbconvert_exporter": "python",
   "pygments_lexer": "ipython3",
   "version": "3.12.2"
  }
 },
 "nbformat": 4,
 "nbformat_minor": 5
}
