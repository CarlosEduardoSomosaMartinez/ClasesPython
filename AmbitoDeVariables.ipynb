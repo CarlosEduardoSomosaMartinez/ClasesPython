{
 "cells": [
  {
   "cell_type": "markdown",
   "id": "e6f3b166-91b6-4d9a-b439-c9a232c9e620",
   "metadata": {},
   "source": [
    " Cuando tenemos funciones con sus propias variables, puede darse el caso de que en las funciones se repitan esos nombres de variables, o que los nombres de las variables coincidan con el cuerpo del programa. En este tipo de casos, Python divide sus variables por ámbitos, de forma que un nombre no sobrescriba a los otros.\n",
    "\n",
    "La forma en que vamos a definir el ámbito de un nombre es la parte del código desde la cual dicho nombre es accesible, ya sea para lectura, para modificación o, en general, para acceder de cualquier modo. Podemos decir que el ámbito del nombre es donde este mismo se definió. De este modo, dos funciones pueden tener dos variables sin que ninguna entre en conflicto.\n",
    "\n",
    "Ahora bien, si se define una variable en el cuerpo del programa y el mismo nombre dentro de una función, Python las identificará como variables distintas"
   ]
  },
  {
   "cell_type": "code",
   "execution_count": 2,
   "id": "926a3ad1-deeb-4f28-add5-997902a755bd",
   "metadata": {},
   "outputs": [
    {
     "name": "stdout",
     "output_type": "stream",
     "text": [
      "dentro de la funcion\n",
      "fuera de la funcion\n"
     ]
    }
   ],
   "source": [
    "variable = \"fuera de la funcion\"\n",
    "def una_funcion():\n",
    "    variable = \"dentro de la funcion\"\n",
    "    print(variable)\n",
    "una_funcion()\n",
    "print(variable)"
   ]
  },
  {
   "cell_type": "markdown",
   "id": "20d62154-d2e4-4d24-b3a0-6f3752fed8a4",
   "metadata": {},
   "source": [
    "\n",
    "Las variables creadas en el cuerpo del programa se denominan variables globales, y las que están en algún bloque de código se denominarán locales."
   ]
  },
  {
   "cell_type": "markdown",
   "id": "cfaa5815-22dc-4e63-98f2-faafc073aad0",
   "metadata": {},
   "source": [
    "Hay que entender que las variables están ordenadas de manera jerárquica, por lo que se puede acceder dentro de una función (bloque de código) a las contenidas en un bloque superior, pero no a la inversa."
   ]
  },
  {
   "cell_type": "code",
   "execution_count": 3,
   "id": "107cd561-1cbe-4145-8aa0-54e64a59cf57",
   "metadata": {},
   "outputs": [
    {
     "name": "stdout",
     "output_type": "stream",
     "text": [
      "esta variable esta afuera\n"
     ]
    }
   ],
   "source": [
    "variable=\"esta variable esta afuera\"\n",
    "def una_funcion():\n",
    "    print(variable)\n",
    "una_funcion()"
   ]
  },
  {
   "cell_type": "markdown",
   "id": "52d4099c-76bc-4058-9d41-9da5b629964c",
   "metadata": {},
   "source": [
    "En pocas palabras, las variables globales son visibles desde cualquier lugar de nuestro código, mientras que las locales solo pueden ser accedidas desde la función en la que han sido creadas."
   ]
  },
  {
   "cell_type": "markdown",
   "id": "d204d6e5-18b3-40db-bcbd-c534682845cc",
   "metadata": {},
   "source": [
    "Hay algo importante que debemos tener en cuenta: podemos intentar alterar el valor de una variable global dentro de una función, ya que tenemos acceso a ellas. Sin embargo, esto no es del todo cierto, ya que al intentarlo nos daremos cuenta de que se genera una nueva variable con el valor asignado dentro de la función"
   ]
  },
  {
   "cell_type": "code",
   "execution_count": 9,
   "id": "a7de3030-dd17-410c-a299-222ed2eca6fe",
   "metadata": {},
   "outputs": [
    {
     "name": "stdout",
     "output_type": "stream",
     "text": [
      "funcion afuera\n",
      "funcion adentro\n"
     ]
    }
   ],
   "source": [
    "variable = \"funcion afuera\"\n",
    "def una_funcion():\n",
    "    variable = \"funcion adentro\"\n",
    "    print(variable)\n",
    "    \n",
    "print(variable)\n",
    "una_funcion()"
   ]
  },
  {
   "cell_type": "markdown",
   "id": "aac85798-5fe8-4947-a137-8f901cf7e9d8",
   "metadata": {},
   "source": [
    "Ahora podemos afirmar que si utilizamos una variable global y luego intentamos reasignarla o crearla dentro de una función, generará un error."
   ]
  },
  {
   "cell_type": "code",
   "execution_count": 10,
   "id": "226e6cfd-8f3a-48da-bac5-43b89c65b003",
   "metadata": {},
   "outputs": [
    {
     "ename": "UnboundLocalError",
     "evalue": "cannot access local variable 'variable' where it is not associated with a value",
     "output_type": "error",
     "traceback": [
      "\u001b[1;31m---------------------------------------------------------------------------\u001b[0m",
      "\u001b[1;31mUnboundLocalError\u001b[0m                         Traceback (most recent call last)",
      "Cell \u001b[1;32mIn[10], line 5\u001b[0m\n\u001b[0;32m      3\u001b[0m     \u001b[38;5;28mprint\u001b[39m(variable)\n\u001b[0;32m      4\u001b[0m     variable \u001b[38;5;241m=\u001b[39m \u001b[38;5;124m\"\u001b[39m\u001b[38;5;124mfuncion adentro\u001b[39m\u001b[38;5;124m\"\u001b[39m\n\u001b[1;32m----> 5\u001b[0m \u001b[43muna_funcion\u001b[49m\u001b[43m(\u001b[49m\u001b[43m)\u001b[49m\n",
      "Cell \u001b[1;32mIn[10], line 3\u001b[0m, in \u001b[0;36muna_funcion\u001b[1;34m()\u001b[0m\n\u001b[0;32m      2\u001b[0m \u001b[38;5;28;01mdef\u001b[39;00m \u001b[38;5;21muna_funcion\u001b[39m():\n\u001b[1;32m----> 3\u001b[0m     \u001b[38;5;28mprint\u001b[39m(\u001b[43mvariable\u001b[49m)\n\u001b[0;32m      4\u001b[0m     variable \u001b[38;5;241m=\u001b[39m \u001b[38;5;124m\"\u001b[39m\u001b[38;5;124mfuncion adentro\u001b[39m\u001b[38;5;124m\"\u001b[39m\n",
      "\u001b[1;31mUnboundLocalError\u001b[0m: cannot access local variable 'variable' where it is not associated with a value"
     ]
    }
   ],
   "source": [
    "variable = \"funcion afuera\"\n",
    "def una_funcion():\n",
    "    print(variable)\n",
    "    variable = \"funcion adentro\"\n",
    "una_funcion()"
   ]
  },
  {
   "cell_type": "markdown",
   "id": "d851d359-57fa-4d45-82df-eb8469489bc4",
   "metadata": {},
   "source": [
    "\n",
    "Ahora, por otro lado, nosotros podemos utilizar la palabra clave global, la cual nos permitirá acceder a estas variables externas para poder modificarlas o visualizarlas. También de esta manera, estas variables pueden ser accedidas desde otras funciones o desde el cuerpo del programa como cualquier otra variable global, y si ya existe, solo se modificará."
   ]
  },
  {
   "cell_type": "code",
   "execution_count": 13,
   "id": "00dd6616-2965-4437-b6b6-0723a272ab8a",
   "metadata": {},
   "outputs": [
    {
     "name": "stdout",
     "output_type": "stream",
     "text": [
      "fuera de la funcion\n",
      "esto es la funcion adentro\n",
      "esto es la funcion adentro\n"
     ]
    }
   ],
   "source": [
    "variable = \"fuera de la funcion\"\n",
    "def una_funcion():\n",
    "    global variable\n",
    "    print(variable)\n",
    "    variable = \"esto es la funcion adentro\"\n",
    "    print(variable)\n",
    "una_funcion()\n",
    "print(variable)"
   ]
  },
  {
   "cell_type": "code",
   "execution_count": 17,
   "id": "b5efd893-f337-46fa-9e2e-b9982126167f",
   "metadata": {},
   "outputs": [
    {
     "name": "stdout",
     "output_type": "stream",
     "text": [
      "1\n"
     ]
    }
   ],
   "source": [
    "#otra declaracion\n",
    "def otra_funcion():\n",
    "    global variable1\n",
    "    variable1 = 1\n",
    "\n",
    "def otra_otra_funcion():\n",
    "    print(variable1)\n",
    "otra_funcion()\n",
    "otra_otra_funcion()"
   ]
  },
  {
   "cell_type": "markdown",
   "id": "d231a254-b90f-47d7-97c3-5afb5975bbaf",
   "metadata": {},
   "source": [
    "\n",
    "Ahora, es incorrecto e incluso desaconsejable realizar este tipo de modificaciones, ya que hacen que el código sea mucho más confuso y difícil de mantener."
   ]
  },
  {
   "cell_type": "markdown",
   "id": "f6896cdf-ca3e-4357-a4df-496533e2466b",
   "metadata": {},
   "source": [
    " Ahora nosotros debemos tener en cuenta que cuando usemos objetos mutables, estos serán modificados cuando sean pasados como parámetros o no."
   ]
  },
  {
   "cell_type": "code",
   "execution_count": 3,
   "id": "432df3c2-b68c-4486-a7c4-6a95943a4798",
   "metadata": {},
   "outputs": [
    {
     "name": "stdout",
     "output_type": "stream",
     "text": [
      "['aleatoria data']\n"
     ]
    }
   ],
   "source": [
    "listas_global=[]\n",
    "def una_funcion():\n",
    "    listas_global.append(\"aleatoria data\")\n",
    "una_funcion()\n",
    "print(listas_global)"
   ]
  },
  {
   "cell_type": "code",
   "execution_count": null,
   "id": "2289f325-f3f6-497b-8778-f51da337d744",
   "metadata": {},
   "outputs": [],
   "source": []
  }
 ],
 "metadata": {
  "kernelspec": {
   "display_name": "Python 3 (ipykernel)",
   "language": "python",
   "name": "python3"
  },
  "language_info": {
   "codemirror_mode": {
    "name": "ipython",
    "version": 3
   },
   "file_extension": ".py",
   "mimetype": "text/x-python",
   "name": "python",
   "nbconvert_exporter": "python",
   "pygments_lexer": "ipython3",
   "version": "3.12.2"
  }
 },
 "nbformat": 4,
 "nbformat_minor": 5
}
