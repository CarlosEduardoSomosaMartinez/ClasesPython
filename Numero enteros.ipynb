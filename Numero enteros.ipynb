{
 "cells": [
  {
   "cell_type": "markdown",
   "id": "909a4562-2ca4-4821-afff-b9d55131edba",
   "metadata": {},
   "source": [
    "En Python, el tipo de dato que se utiliza para representar los números enteros, es decir, aquellos que no tienen un punto decimal, es la clase `int`. Estos números enteros se pueden representar de forma literal escribiendo directamente el número en el código."
   ]
  },
  {
   "cell_type": "code",
   "execution_count": 5,
   "id": "4cfe6e9d-8c16-4728-a502-f32ecdca4768",
   "metadata": {},
   "outputs": [
    {
     "data": {
      "text/plain": [
       "1"
      ]
     },
     "execution_count": 5,
     "metadata": {},
     "output_type": "execute_result"
    }
   ],
   "source": [
    "a = 1\n",
    "a"
   ]
  },
  {
   "cell_type": "markdown",
   "id": "29bf5e46-1809-483b-b3b6-aea118a863f6",
   "metadata": {},
   "source": [
    "Ahora no es común, pero en caso de ser necesario, nosotros podemos separar nuestros números con guiones bajos (`_`) para separar magnitudes demasiado grandes, ya que poner comas o puntos no sería apropiado."
   ]
  },
  {
   "cell_type": "code",
   "execution_count": 7,
   "id": "b1156ac4-1a93-4716-a87c-4341b6d4865d",
   "metadata": {},
   "outputs": [
    {
     "data": {
      "text/plain": [
       "100000000"
      ]
     },
     "execution_count": 7,
     "metadata": {},
     "output_type": "execute_result"
    }
   ],
   "source": [
    "a = 100_000_000\n",
    "a"
   ]
  },
  {
   "cell_type": "markdown",
   "id": "fa6b1086-3473-478d-b8df-f3bde690df20",
   "metadata": {},
   "source": []
  },
  {
   "cell_type": "code",
   "execution_count": 10,
   "id": "90789acd-969c-433b-9875-d3833375f95f",
   "metadata": {},
   "outputs": [
    {
     "name": "stdout",
     "output_type": "stream",
     "text": [
      "6\n",
      "359\n",
      "3851\n"
     ]
    }
   ],
   "source": [
    "print(0b110)\n",
    "print(0o547)\n",
    "print(0xf0b)"
   ]
  },
  {
   "cell_type": "code",
   "execution_count": 11,
   "id": "68dfdf45-1ff8-479c-865f-69229223d144",
   "metadata": {},
   "outputs": [
    {
     "name": "stdout",
     "output_type": "stream",
     "text": [
      "12\n"
     ]
    }
   ],
   "source": [
    "print(0b110+0b110)"
   ]
  },
  {
   "cell_type": "markdown",
   "id": "66b55535-d9ae-4547-8805-797b6fc24d33",
   "metadata": {},
   "source": [
    "Ahora es importante tener en cuenta que aunque representemos un literal numérico en formato binario, octal o decimal, Python lo almacenará como el mismo tipo de objeto entero. Estos números también tienen signos por defecto, que son positivos, pero nosotros podemos indicar que son números negativos con el signo de menos."
   ]
  },
  {
   "cell_type": "code",
   "execution_count": 12,
   "id": "e60411d0-411c-492f-b310-a026d7d626de",
   "metadata": {},
   "outputs": [
    {
     "name": "stdout",
     "output_type": "stream",
     "text": [
      "-17\n",
      "-98\n"
     ]
    }
   ],
   "source": [
    "print(-0b10001)\n",
    "print(-98)"
   ]
  },
  {
   "cell_type": "markdown",
   "id": "02f331b3-cb31-4436-80d8-daeda0e37ebd",
   "metadata": {},
   "source": [
    "Para nosotros poder iniciar un `int` de manera explícita, lo que tenemos que hacer es usar una función, al igual que con los otros tipos de datos. Una función equivalente para iniciar un entero de manera explícita es la función `int()`."
   ]
  },
  {
   "cell_type": "code",
   "execution_count": 13,
   "id": "9054a37a-a843-4fd4-b0d1-0ceae4498bd7",
   "metadata": {},
   "outputs": [
    {
     "data": {
      "text/plain": [
       "3"
      ]
     },
     "execution_count": 13,
     "metadata": {},
     "output_type": "execute_result"
    }
   ],
   "source": [
    "int(3.1415)"
   ]
  },
  {
   "cell_type": "markdown",
   "id": "f16e57f7-e3d5-4282-9930-84a0326b680a",
   "metadata": {},
   "source": [
    "Nosotros también podemos realizar ciertas operaciones con funciones para llevar a cabo las mismas tareas que con operadores aritméticos comunes."
   ]
  },
  {
   "cell_type": "code",
   "execution_count": 16,
   "id": "f8db53f6-886c-4c41-b3b2-54fd3bd21d15",
   "metadata": {},
   "outputs": [
    {
     "name": "stdout",
     "output_type": "stream",
     "text": [
      "4\n",
      "4\n",
      "1.0\n",
      "0\n",
      "0\n",
      "8\n",
      "8\n",
      "1.7320508075688772\n"
     ]
    }
   ],
   "source": [
    "import math\n",
    "print(2+2)\n",
    "print(2*2)\n",
    "print(2/2)\n",
    "print(2-2)\n",
    "print(2%2)\n",
    "#potencia  se hace de estas dos manera\n",
    "print(2**3)\n",
    "print(pow(2,3))\n",
    "print(math.sqrt(3))"
   ]
  }
 ],
 "metadata": {
  "kernelspec": {
   "display_name": "Python 3 (ipykernel)",
   "language": "python",
   "name": "python3"
  },
  "language_info": {
   "codemirror_mode": {
    "name": "ipython",
    "version": 3
   },
   "file_extension": ".py",
   "mimetype": "text/x-python",
   "name": "python",
   "nbconvert_exporter": "python",
   "pygments_lexer": "ipython3",
   "version": "3.12.2"
  }
 },
 "nbformat": 4,
 "nbformat_minor": 5
}
