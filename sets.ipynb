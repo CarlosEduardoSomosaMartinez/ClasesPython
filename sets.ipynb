{
 "cells": [
  {
   "cell_type": "markdown",
   "id": "1f102eca-d25c-423d-8b8e-cb9b748e0efb",
   "metadata": {},
   "source": [
    "los colecciones de set son un conjunto de datos los cuales son hasheables en los que no podremos repetir elementos esos no poseen indices  ahora para poder utilisarlos nosotros podemos usar los {} pero no usamos la estructura de clave valor"
   ]
  },
  {
   "cell_type": "code",
   "execution_count": 2,
   "id": "a32fa249-392e-440e-bc13-dd63dc06e847",
   "metadata": {},
   "outputs": [
    {
     "name": "stdout",
     "output_type": "stream",
     "text": [
      "{'cuchara', 'tenedor', 'cuchillos', 'cucharilla'}\n"
     ]
    }
   ],
   "source": [
    "cubiertos = {\"cuchara\",\"tenedor\",\"cuchillos\",\"cucharilla\",\"cuchara\"}\n",
    "print(cubiertos)"
   ]
  },
  {
   "cell_type": "markdown",
   "id": "923e1bbf-0dfc-443e-9150-f996a32d4bb2",
   "metadata": {},
   "source": [
    "ahora nosotros podemos  utilisarlos tembien de una manera mas explicita par poder convertir una secuencia que tenga elementos repetidos a un set que no los tenga "
   ]
  },
  {
   "cell_type": "code",
   "execution_count": 1,
   "id": "3bb5bbfd-7052-413d-bc00-d6531fbd1dd5",
   "metadata": {},
   "outputs": [
    {
     "ename": "TypeError",
     "evalue": "'set' object is not subscriptable",
     "output_type": "error",
     "traceback": [
      "\u001b[1;31m---------------------------------------------------------------------------\u001b[0m",
      "\u001b[1;31mTypeError\u001b[0m                                 Traceback (most recent call last)",
      "Cell \u001b[1;32mIn[1], line 2\u001b[0m\n\u001b[0;32m      1\u001b[0m secuencia_no_repetidas \u001b[38;5;241m=\u001b[39m \u001b[38;5;28mset\u001b[39m([\u001b[38;5;124m\"\u001b[39m\u001b[38;5;124mprimero\u001b[39m\u001b[38;5;124m\"\u001b[39m,\u001b[38;5;124m\"\u001b[39m\u001b[38;5;124msegundo\u001b[39m\u001b[38;5;124m\"\u001b[39m,\u001b[38;5;124m\"\u001b[39m\u001b[38;5;124mtercero\u001b[39m\u001b[38;5;124m\"\u001b[39m,\u001b[38;5;124m\"\u001b[39m\u001b[38;5;124mprimero\u001b[39m\u001b[38;5;124m\"\u001b[39m])\n\u001b[1;32m----> 2\u001b[0m \u001b[38;5;28mprint\u001b[39m(\u001b[43msecuencia_no_repetidas\u001b[49m\u001b[43m[\u001b[49m\u001b[38;5;241;43m0\u001b[39;49m\u001b[43m]\u001b[49m)\n",
      "\u001b[1;31mTypeError\u001b[0m: 'set' object is not subscriptable"
     ]
    }
   ],
   "source": [
    "secuencia_no_repetidas = set([\"primero\",\"segundo\",\"tercero\",\"primero\"])\n",
    "print(secuencia_no_repetidas)"
   ]
  },
  {
   "cell_type": "markdown",
   "id": "c4f9e78f-98a8-4103-88b3-660b8156c971",
   "metadata": {},
   "source": [
    "ahora hay que tener en cuenta algunas cosas los elementos que puede contener un set y es que estos no pueden contener elementos no hasheables"
   ]
  },
  {
   "cell_type": "code",
   "execution_count": 5,
   "id": "b0fa9ae2-6989-4a7b-b1ab-d4a76ec9d033",
   "metadata": {},
   "outputs": [
    {
     "ename": "TypeError",
     "evalue": "unhashable type: 'list'",
     "output_type": "error",
     "traceback": [
      "\u001b[1;31m---------------------------------------------------------------------------\u001b[0m",
      "\u001b[1;31mTypeError\u001b[0m                                 Traceback (most recent call last)",
      "Cell \u001b[1;32mIn[5], line 1\u001b[0m\n\u001b[1;32m----> 1\u001b[0m secuencia \u001b[38;5;241m=\u001b[39m \u001b[38;5;28;43mset\u001b[39;49m\u001b[43m(\u001b[49m\u001b[43m[\u001b[49m\u001b[43m(\u001b[49m\u001b[38;5;241;43m1\u001b[39;49m\u001b[43m,\u001b[49m\u001b[38;5;241;43m2\u001b[39;49m\u001b[43m)\u001b[49m\u001b[43m,\u001b[49m\u001b[43m[\u001b[49m\u001b[38;5;241;43m2\u001b[39;49m\u001b[43m,\u001b[49m\u001b[38;5;241;43m3\u001b[39;49m\u001b[43m]\u001b[49m\u001b[43m]\u001b[49m\u001b[43m)\u001b[49m\n",
      "\u001b[1;31mTypeError\u001b[0m: unhashable type: 'list'"
     ]
    }
   ],
   "source": [
    "secuencia = set([(1,2),[2,3]])"
   ]
  },
  {
   "cell_type": "code",
   "execution_count": 9,
   "id": "af043863-e5f7-404e-935e-fdea78329c45",
   "metadata": {},
   "outputs": [
    {
     "name": "stdout",
     "output_type": "stream",
     "text": [
      "{(8, 9), (1, 2)}\n"
     ]
    }
   ],
   "source": [
    "secuencia = set([(1,2),(8,9)])\n",
    "print(secuencia)"
   ]
  },
  {
   "cell_type": "markdown",
   "id": "8046aa6d-d71d-4abb-be05-1fa96e89ab34",
   "metadata": {},
   "source": [
    "la parte importante de este cosa de elementos es que podemos aplicar sierto tipos de elementos para que podemos encontrar union  una diferencia  una diferencia simetrica y elementos en comunes en estas colecciones"
   ]
  },
  {
   "cell_type": "code",
   "execution_count": 2,
   "id": "ca966987-6fa2-4522-8bfe-fd2134af960e",
   "metadata": {},
   "outputs": [
    {
     "name": "stdout",
     "output_type": "stream",
     "text": [
      "{1, 2, 3, 4, 5, 6, 7, 8, 9, 10}\n"
     ]
    }
   ],
   "source": [
    "#la union de los sets\n",
    "a = {1,2,3,4,5,6,7}\n",
    "b = {1,2,8,9,10}\n",
    "\n",
    "union = a|b\n",
    "print(union)"
   ]
  },
  {
   "cell_type": "markdown",
   "id": "58c2ba10-4a29-4e65-b774-5dd07dc75fae",
   "metadata": {},
   "source": [
    "excluyemos los elementos  que tengan en comun con el segundo elemento"
   ]
  },
  {
   "cell_type": "code",
   "execution_count": 3,
   "id": "9347d813-6aa9-46b0-a148-7038c7bf8833",
   "metadata": {},
   "outputs": [
    {
     "name": "stdout",
     "output_type": "stream",
     "text": [
      "{3, 4, 5, 6, 7}\n"
     ]
    }
   ],
   "source": [
    "excluyendo = a - b\n",
    "print(excluyendo)"
   ]
  },
  {
   "cell_type": "code",
   "execution_count": null,
   "id": "8883dd6f-0257-49f3-b69d-714303708671",
   "metadata": {},
   "outputs": [],
   "source": [
    "hay diferencia simetrica acento circunflejo (^)"
   ]
  },
  {
   "cell_type": "code",
   "execution_count": 4,
   "id": "88caea09-c5a2-4e9b-b88f-032e95fed1b9",
   "metadata": {},
   "outputs": [
    {
     "name": "stdout",
     "output_type": "stream",
     "text": [
      "{3, 4, 5, 6, 7, 8, 9, 10}\n"
     ]
    }
   ],
   "source": [
    "circunflejo = a ^ b\n",
    "print(circunflejo)"
   ]
  },
  {
   "cell_type": "markdown",
   "id": "8957b8ae-d74e-47b1-8eac-2086fe40f486",
   "metadata": {},
   "source": [
    "la interseccion de dos sets "
   ]
  },
  {
   "cell_type": "code",
   "execution_count": 5,
   "id": "4668085a-890a-490c-971f-305dad869dad",
   "metadata": {},
   "outputs": [
    {
     "name": "stdout",
     "output_type": "stream",
     "text": [
      "{1, 2}\n"
     ]
    }
   ],
   "source": [
    "interseccion = a & b\n",
    "print(interseccion)"
   ]
  },
  {
   "cell_type": "markdown",
   "id": "f0a2d90c-e942-444b-b779-c097b8b01b82",
   "metadata": {},
   "source": [
    "ahora nosotros tenemos la  equivalencia con metodos que seria union() difference() symetric_difference() intersection() "
   ]
  },
  {
   "cell_type": "code",
   "execution_count": 9,
   "id": "18d56b82-25d0-421d-a6f8-7c19c63918c1",
   "metadata": {},
   "outputs": [
    {
     "name": "stdout",
     "output_type": "stream",
     "text": [
      "{1, 2, 3, 4, 5, 6, 7, 8, 9, 10}\n",
      "{3, 4, 5, 6, 7}\n",
      "{3, 4, 5, 6, 7, 8, 9, 10}\n",
      "{1, 2}\n"
     ]
    }
   ],
   "source": [
    "print(a.union(b))\n",
    "print(a.difference(b))\n",
    "print(a.symmetric_difference(b))\n",
    "print(a.intersection(b))"
   ]
  },
  {
   "cell_type": "markdown",
   "id": "32bf5e03-ffb1-4d53-af89-c45d2207ec60",
   "metadata": {},
   "source": [
    "ahor nosotros podemos agregar elementoa a nuestro set y tambien podemos eliminar y limpiar nuestro set"
   ]
  },
  {
   "cell_type": "code",
   "execution_count": 12,
   "id": "66ce4d2a-c810-45cb-9676-edbc49bf3789",
   "metadata": {},
   "outputs": [
    {
     "name": "stdout",
     "output_type": "stream",
     "text": [
      "{'algo'}\n"
     ]
    },
    {
     "ename": "KeyError",
     "evalue": "1",
     "output_type": "error",
     "traceback": [
      "\u001b[1;31m---------------------------------------------------------------------------\u001b[0m",
      "\u001b[1;31mKeyError\u001b[0m                                  Traceback (most recent call last)",
      "Cell \u001b[1;32mIn[12], line 3\u001b[0m\n\u001b[0;32m      1\u001b[0m a\u001b[38;5;241m.\u001b[39madd(\u001b[38;5;124m\"\u001b[39m\u001b[38;5;124malgo\u001b[39m\u001b[38;5;124m\"\u001b[39m)\n\u001b[0;32m      2\u001b[0m \u001b[38;5;28mprint\u001b[39m(a)\n\u001b[1;32m----> 3\u001b[0m \u001b[43ma\u001b[49m\u001b[38;5;241;43m.\u001b[39;49m\u001b[43mremove\u001b[49m\u001b[43m(\u001b[49m\u001b[38;5;241;43m1\u001b[39;49m\u001b[43m)\u001b[49m\n\u001b[0;32m      4\u001b[0m \u001b[38;5;28mprint\u001b[39m(a)\n\u001b[0;32m      5\u001b[0m a\u001b[38;5;241m.\u001b[39mdiscard(\u001b[38;5;241m2\u001b[39m)\n",
      "\u001b[1;31mKeyError\u001b[0m: 1"
     ]
    }
   ],
   "source": [
    "a.add(\"algo\")\n",
    "print(a)\n",
    "a.remove(1)\n",
    "print(a)\n",
    "a.discard(2)\n",
    "print(a)\n",
    "a.clear()\n",
    "print(a)"
   ]
  },
  {
   "cell_type": "markdown",
   "id": "d5243125-9c94-4c71-a152-753f85921d89",
   "metadata": {},
   "source": [
    "el frozenset es  lo mismo pero inmutable"
   ]
  },
  {
   "cell_type": "code",
   "execution_count": null,
   "id": "3553c274-365a-4424-8a6c-cf7c86868a08",
   "metadata": {},
   "outputs": [],
   "source": []
  }
 ],
 "metadata": {
  "kernelspec": {
   "display_name": "Python 3 (ipykernel)",
   "language": "python",
   "name": "python3"
  },
  "language_info": {
   "codemirror_mode": {
    "name": "ipython",
    "version": 3
   },
   "file_extension": ".py",
   "mimetype": "text/x-python",
   "name": "python",
   "nbconvert_exporter": "python",
   "pygments_lexer": "ipython3",
   "version": "3.12.2"
  }
 },
 "nbformat": 4,
 "nbformat_minor": 5
}
