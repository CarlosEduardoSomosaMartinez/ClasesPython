{
 "cells": [
  {
   "cell_type": "markdown",
   "id": "795809fc-09d7-4bd3-b443-14ae7b88223b",
   "metadata": {},
   "source": [
    "Anteriormente, vimos de manera superficial lo que era un byte. En esta sección, lo veremos con un poco más de detalle. Al utilizar el prefijo b, indicamos que no estamos usando una cadena de texto de manera habitual, sino que estamos trabajando con bytes. Como pudiste ver, estos se definen de manera literal, al igual que una cadena de texto, y todo lo que se puede hacer con una cadena de texto se puede hacer con una cadena de bytes. La única peculiaridad es que, por defecto, los bytes no están en formato UTF-8, sino en código ASCII. Esto significa que están representados por números del 0 al 255"
   ]
  },
  {
   "cell_type": "code",
   "execution_count": 1,
   "id": "e59887bf-3980-4120-bdcd-2ba6ae0d0b1f",
   "metadata": {},
   "outputs": [
    {
     "data": {
      "text/plain": [
       "b'hola mundo'"
      ]
     },
     "execution_count": 1,
     "metadata": {},
     "output_type": "execute_result"
    }
   ],
   "source": [
    "b\"hola mundo\""
   ]
  },
  {
   "cell_type": "markdown",
   "id": "8fb71920-31fe-4bfe-90b8-52a4cce5ea98",
   "metadata": {},
   "source": [
    "Ahora, podrías preguntarte qué sucede si utilizamos otro tipo de texto. Bueno, si utilizamos, por ejemplo, uno de estos caracteres, nos generará un error de sintaxis."
   ]
  },
  {
   "cell_type": "code",
   "execution_count": 2,
   "id": "7f8357da-86fc-4165-af94-0a6b9e93876a",
   "metadata": {},
   "outputs": [
    {
     "ename": "SyntaxError",
     "evalue": "bytes can only contain ASCII literal characters (2032351395.py, line 1)",
     "output_type": "error",
     "traceback": [
      "\u001b[1;36m  Cell \u001b[1;32mIn[2], line 1\u001b[1;36m\u001b[0m\n\u001b[1;33m    b\"esto generara un error por que uso un caracter que no esta dentro del ascii  ñ \"\u001b[0m\n\u001b[1;37m    ^\u001b[0m\n\u001b[1;31mSyntaxError\u001b[0m\u001b[1;31m:\u001b[0m bytes can only contain ASCII literal characters\n"
     ]
    }
   ],
   "source": [
    "b\"esto generara un error por que uso un caracter que no esta dentro del ascii  ñ \""
   ]
  },
  {
   "cell_type": "markdown",
   "id": "083949ae-958d-465b-82c5-f7a9b849ccb0",
   "metadata": {},
   "source": [
    "Anteriormente, vimos que había dos maneras de crear una cadena, utilizando la forma literal y la función bytes(). Con los bytes es lo mismo, ya que también podemos utilizar tanto la forma literal como la función. Cuando le pasamos un argumento de tipo string a la función bytes(), es importante saber que también debemos pasar un segundo parámetro."
   ]
  },
  {
   "cell_type": "code",
   "execution_count": 3,
   "id": "70effaf3-5295-4da9-aacd-b5643a0d3705",
   "metadata": {},
   "outputs": [
    {
     "ename": "TypeError",
     "evalue": "string argument without an encoding",
     "output_type": "error",
     "traceback": [
      "\u001b[1;31m---------------------------------------------------------------------------\u001b[0m",
      "\u001b[1;31mTypeError\u001b[0m                                 Traceback (most recent call last)",
      "Cell \u001b[1;32mIn[3], line 1\u001b[0m\n\u001b[1;32m----> 1\u001b[0m \u001b[38;5;28;43mbytes\u001b[39;49m\u001b[43m(\u001b[49m\u001b[38;5;124;43m\"\u001b[39;49m\u001b[38;5;124;43mhola mundo\u001b[39;49m\u001b[38;5;124;43m\"\u001b[39;49m\u001b[43m)\u001b[49m\n",
      "\u001b[1;31mTypeError\u001b[0m: string argument without an encoding"
     ]
    }
   ],
   "source": [
    "bytes(\"hola mundo\")"
   ]
  },
  {
   "cell_type": "markdown",
   "id": "06253f41-9820-4974-a685-8a7e09700d10",
   "metadata": {},
   "source": [
    "Ahora, es importante saber que esta manera nos permite hacer algunas cosas más que la forma literal. Nos permite recibir dos parámetros, y el segundo parámetro sería el formato. Como mencionamos anteriormente, por defecto este está en ASCII, pero nosotros podemos especificar otro formato"
   ]
  },
  {
   "cell_type": "code",
   "execution_count": 14,
   "id": "716eb500-af3b-4689-9df2-e5dfcda0b8b6",
   "metadata": {},
   "outputs": [
    {
     "data": {
      "text/plain": [
       "b'esto es una cadena que es esta en utf-8 y si soporta \\xc3\\xb1 '"
      ]
     },
     "execution_count": 14,
     "metadata": {},
     "output_type": "execute_result"
    }
   ],
   "source": [
    "palabra = bytes(\"esto es una cadena que es esta en utf-8 y si soporta ñ \",\"utf-8\")\n",
    "palabra"
   ]
  },
  {
   "cell_type": "markdown",
   "id": "69088b61-c953-4236-9954-c44bace79c4c",
   "metadata": {},
   "source": [
    "<p>pero que pasaria si nosotros volvemos  a usar  un parametro que  bytes no nos permite usar bueno esto lo podemos solventar con otro parametro que es el  que va a definir que pasara con lo errores</p>\n",
    "<ul>\n",
    "    <li>strict:marcara un error de encoding</li>\n",
    "    <li>ignore:solo ignorara el caracter pasando por alto el</li>\n",
    "    <li>replace:remplasara el caracter por un signo de interrogacion</li>\n",
    "</ul>"
   ]
  },
  {
   "cell_type": "code",
   "execution_count": 12,
   "id": "719af0ef-f91c-468a-834c-86ee7c08ff8c",
   "metadata": {},
   "outputs": [
    {
     "name": "stdout",
     "output_type": "stream",
     "text": [
      "b'El manejo de errores de manera ignore '\n",
      "b'El manejo de error del modo replace ?'\n"
     ]
    }
   ],
   "source": [
    "print(bytes(\"El manejo de errores de manera ignore ñ\",\"ascii\",\"ignore\"))\n",
    "print(bytes(\"El manejo de error del modo replace ñ\",\"ascii\",\"replace\"))"
   ]
  },
  {
   "cell_type": "markdown",
   "id": "abf0ae49-097c-4df6-adf1-c2cec787d73f",
   "metadata": {},
   "source": [
    "<p>Ahora, una vez que hemos visto la forma de crearlos, también podemos decodificarlos. Esto se hace con el método decode(), y funcionará de la siguiente manera: aceptará un parámetro, el cual será el formato en el que se decodificará. Si no se especifica este formato </p>"
   ]
  },
  {
   "cell_type": "code",
   "execution_count": 13,
   "id": "4b6a863e-1787-452d-ab9b-46eb4772dd0c",
   "metadata": {},
   "outputs": [
    {
     "data": {
      "text/plain": [
       "'esto es una cadena que es esta en utf-8 y si soporta ñ '"
      ]
     },
     "execution_count": 13,
     "metadata": {},
     "output_type": "execute_result"
    }
   ],
   "source": [
    "texto_en_bytes = b\"hola mundo\"\n",
    "\n",
    "texto_str = palabra.decode()\n",
    "\n",
    "texto_str"
   ]
  }
 ],
 "metadata": {
  "kernelspec": {
   "display_name": "Python 3 (ipykernel)",
   "language": "python",
   "name": "python3"
  },
  "language_info": {
   "codemirror_mode": {
    "name": "ipython",
    "version": 3
   },
   "file_extension": ".py",
   "mimetype": "text/x-python",
   "name": "python",
   "nbconvert_exporter": "python",
   "pygments_lexer": "ipython3",
   "version": "3.12.2"
  }
 },
 "nbformat": 4,
 "nbformat_minor": 5
}
