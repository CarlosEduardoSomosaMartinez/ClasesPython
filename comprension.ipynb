{
 "cells": [
  {
   "cell_type": "markdown",
   "id": "c39bde9c-f8f3-42c4-b534-db1b6950dacb",
   "metadata": {},
   "source": [
    "Nosotros podemos declarar una colección de dos maneras usualmente. Sabemos que lo podemos hacer por extensión, la cual es la siguiente:"
   ]
  },
  {
   "cell_type": "code",
   "execution_count": 1,
   "id": "a8d9342b-152c-4513-b7cb-9845defb9ca7",
   "metadata": {},
   "outputs": [],
   "source": [
    "lista = [1,2,3,4,5]"
   ]
  },
  {
   "cell_type": "markdown",
   "id": "83c0015c-6ee3-43f6-8705-12c5eff94156",
   "metadata": {},
   "source": [
    "Pero hay otra manera denominada por compresión. Este tipo de declaración está en lugar de definir sus elementos, indica qué tipo de propiedades deben tener."
   ]
  },
  {
   "cell_type": "markdown",
   "id": "64e3da02-539c-412b-971c-8e7b18834bba",
   "metadata": {},
   "source": [
    "<h1>Lista,generadores,sets de Comprension</h1>"
   ]
  },
  {
   "cell_type": "markdown",
   "id": "7031abba-f414-41e9-be8e-85e016ed18e3",
   "metadata": {},
   "source": [
    "el formato comun de las listas de compresion es la sigueinte \n",
    "<p>Lista =  [Operacion for Variable in Iterable]</p>"
   ]
  },
  {
   "cell_type": "markdown",
   "id": "93ddda17-8a44-4086-ad33-cee6a1da74bc",
   "metadata": {},
   "source": [
    "Estas se declaran dentro de los corchetes. Dentro de ellos, podemos declarar un bucle `for` antes de la operación que queremos aplicar a cada uno de ellos. Por ejemplo:"
   ]
  },
  {
   "cell_type": "code",
   "execution_count": 6,
   "id": "43af4a07-61fd-4c07-910f-0c158d1d983f",
   "metadata": {},
   "outputs": [
    {
     "name": "stdout",
     "output_type": "stream",
     "text": [
      "['Lunes', 'Martes', 'Mirecoles', 'Jueves', 'Vierens', 'Savado', 'Domingo']\n"
     ]
    }
   ],
   "source": [
    "dias = [\"lunes\",\"martes\",\"mirecoles\",\"jueves\",\"vierens\",\"savado\",\"domingo\"]\n",
    "semana_mayusculas = [dia.capitalize() for dia in dias]\n",
    "print(semana_mayusculas)"
   ]
  },
  {
   "cell_type": "code",
   "execution_count": 8,
   "id": "b37fc66d-b88c-4083-aee3-b283a7797d31",
   "metadata": {},
   "outputs": [
    {
     "name": "stdout",
     "output_type": "stream",
     "text": [
      "[2, 4, 6, 8, 10, 12, 14]\n"
     ]
    }
   ],
   "source": [
    "numeros = [1,2,3,4,5,6,7]\n",
    "multiplicacion = [x*2 for x in numeros]\n",
    "print(multiplicacion)"
   ]
  },
  {
   "cell_type": "markdown",
   "id": "be24ac0c-4ae8-4ed2-9c12-4e3a261359e4",
   "metadata": {},
   "source": [
    "Cuando nosotros tenemos una operación donde no queremos usar la variable que representa el elemento, podemos cambiarla por un guion bajo (_)."
   ]
  },
  {
   "cell_type": "code",
   "execution_count": 10,
   "id": "444d2a0b-16db-4d38-afff-c6bd12632109",
   "metadata": {},
   "outputs": [
    {
     "name": "stdout",
     "output_type": "stream",
     "text": [
      "['repetimos', 'repetimos', 'repetimos', 'repetimos', 'repetimos', 'repetimos', 'repetimos', 'repetimos', 'repetimos', 'repetimos']\n"
     ]
    }
   ],
   "source": [
    "oracion_repetida = [\"repetimos\" for _ in range(10)]\n",
    "print(oracion_repetida)"
   ]
  },
  {
   "cell_type": "markdown",
   "id": "629d99a6-c8a2-48c1-ae1b-5e2095ff4bc2",
   "metadata": {},
   "source": [
    "Nosotros podemos usar cualquier iterable que soporte un bucle `for` para crear esta lista por comprensión."
   ]
  },
  {
   "cell_type": "code",
   "execution_count": 13,
   "id": "d0404e1d-5c61-49be-8e54-bed1f29c3b45",
   "metadata": {},
   "outputs": [
    {
     "name": "stdout",
     "output_type": "stream",
     "text": [
      "[('a', 'azul'), ('r', 'rojo'), ('m', 'marron')]\n"
     ]
    }
   ],
   "source": [
    "diccionarion={\"a\":\"azul\",\"r\":\"rojo\",\"m\":\"marron\"}\n",
    "items_tuplas = [ item for item  in diccionarion.items() ]\n",
    "print(items_tuplas)"
   ]
  },
  {
   "cell_type": "markdown",
   "id": "6b517805-0777-464f-be39-ef1dfbfaf584",
   "metadata": {},
   "source": [
    " Ahora nosotros podemos poner condiciones para filtrar los resultados."
   ]
  },
  {
   "cell_type": "code",
   "execution_count": 15,
   "id": "b36b1fae-d3cf-49db-8e7d-5381bbc8f393",
   "metadata": {},
   "outputs": [
    {
     "name": "stdout",
     "output_type": "stream",
     "text": [
      "[49, 196, 441, 784, 1225, 1764, 2401, 3136, 3969, 4900, 5929, 7056, 8281, 9604]\n"
     ]
    }
   ],
   "source": [
    "lista_comprimida = [x ** 2 for x in range(1,100)  if x % 7 ==0]\n",
    "print(lista_comprimida)"
   ]
  },
  {
   "cell_type": "markdown",
   "id": "a292b920-2452-443a-bf54-37e37ba40850",
   "metadata": {},
   "source": [
    " Ahora nosotros podemos ver cómo sería en caso de no contar con esta compresión."
   ]
  },
  {
   "cell_type": "code",
   "execution_count": 16,
   "id": "14d10ee9-9c07-4de9-81e4-163d0dfeb036",
   "metadata": {},
   "outputs": [
    {
     "name": "stdout",
     "output_type": "stream",
     "text": [
      "[49, 196, 441, 784, 1225, 1764, 2401, 3136, 3969, 4900, 5929, 7056, 8281, 9604]\n"
     ]
    }
   ],
   "source": [
    "lista = []\n",
    "for variable in range(1,100):\n",
    "    if variable % 7 == 0:\n",
    "        lista.append(variable ** 2)\n",
    "print(lista)"
   ]
  },
  {
   "cell_type": "markdown",
   "id": "43ed1232-5936-4db4-97ba-9fcf1795af4e",
   "metadata": {},
   "source": [
    "Elevando la complejidad, nosotros podemos tener listas por comprensión dentro de listas por comprensión."
   ]
  },
  {
   "cell_type": "code",
   "execution_count": 17,
   "id": "3e36a6aa-cb64-4f1a-9d83-1a9ef7fd2aeb",
   "metadata": {},
   "outputs": [
    {
     "name": "stdout",
     "output_type": "stream",
     "text": [
      "['mi numero es 0', 'mi numero es 1', 'mi numero es 4', 'mi numero es 9', 'mi numero es 16', 'mi numero es 25', 'mi numero es 36', 'mi numero es 49', 'mi numero es 64', 'mi numero es 81']\n"
     ]
    }
   ],
   "source": [
    "lista = [(f\"mi numero es { element}\") for element in [x**2 for x in range(10)]]\n",
    "print(lista)"
   ]
  },
  {
   "cell_type": "markdown",
   "id": "9e74f406-c1dd-40e9-8589-fa36e8fffb23",
   "metadata": {},
   "source": [
    "Nosotros podemos hacer algo como multiplicar dos listas para crear una tercera."
   ]
  },
  {
   "cell_type": "code",
   "execution_count": 2,
   "id": "b5408453-151d-41de-ab54-a3e8eab83e6a",
   "metadata": {},
   "outputs": [
    {
     "name": "stdout",
     "output_type": "stream",
     "text": [
      "[1, 4, 3, 8, 5, 12, 7, 16, 9, 20]\n"
     ]
    }
   ],
   "source": [
    "numeros = [1, 2, 3, 4, 5, 6, 7, 8, 9, 10]\n",
    "\n",
    "doble_o_mismo = [x * 2 if x % 2 == 0 else x for x in numeros]\n",
    "print(doble_o_mismo)\n"
   ]
  }
 ],
 "metadata": {
  "kernelspec": {
   "display_name": "Python 3 (ipykernel)",
   "language": "python",
   "name": "python3"
  },
  "language_info": {
   "codemirror_mode": {
    "name": "ipython",
    "version": 3
   },
   "file_extension": ".py",
   "mimetype": "text/x-python",
   "name": "python",
   "nbconvert_exporter": "python",
   "pygments_lexer": "ipython3",
   "version": "3.12.2"
  }
 },
 "nbformat": 4,
 "nbformat_minor": 5
}
