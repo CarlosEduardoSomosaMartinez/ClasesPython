{
 "cells": [
  {
   "cell_type": "markdown",
   "id": "6a968b1a-4ab6-488d-bac5-a8cfff4c2593",
   "metadata": {},
   "source": [
    "Nosotros podemos asignar valores a colecciones que contengan la misma cantidad de elementos, por ejemplo:"
   ]
  },
  {
   "cell_type": "code",
   "execution_count": 7,
   "id": "240454d6-608d-484e-b970-ddaec41dfc90",
   "metadata": {},
   "outputs": [
    {
     "name": "stdout",
     "output_type": "stream",
     "text": [
      "1 2 3 4\n",
      "1 2 3\n",
      "1 2 3\n",
      "a b c\n",
      "1 2 3\n",
      "('a', 1) ('b', 2) ('c', 3)\n"
     ]
    }
   ],
   "source": [
    "tupla = (1,2,3,4)\n",
    "a,b,c,d = tupla\n",
    "print(a,b,c,d)\n",
    "#para un lista\n",
    "lista = [1,2,3,]\n",
    "a1,b1,c1 = lista\n",
    "print(a1,b1,c1)\n",
    "#set\n",
    "set = {1,2,3}\n",
    "a2,b2,c2 = set\n",
    "print(a2,b2,c2)\n",
    "#diccionarios\n",
    "diccionario = {\"a\":1,\"b\":2,\"c\":3}\n",
    "a3,b3,c3 = diccionario\n",
    "a4,b4,c4 = diccionario.values()\n",
    "a5,b5,c5 = diccionario.items()\n",
    "print(a3,b3,c3)\n",
    "print(a4,b4,c4)\n",
    "print(a5,b5,c5)"
   ]
  },
  {
   "cell_type": "markdown",
   "id": "878e2670-3d31-46f9-b8d2-dc3ae9a8b060",
   "metadata": {},
   "source": [
    " Ahora, existe un problema común en estos casos, y es que necesitamos tener el mismo número de valores que de variables para la asignación. Sin embargo, también podemos resolver esto de una forma muy sencilla."
   ]
  },
  {
   "cell_type": "code",
   "execution_count": 8,
   "id": "b267df2b-378d-439b-9522-3b4fc08bfb8a",
   "metadata": {},
   "outputs": [
    {
     "name": "stdout",
     "output_type": "stream",
     "text": [
      "1 2 [3, 4, 5]\n"
     ]
    }
   ],
   "source": [
    "lista = [ 1,2,3,4,5 ]\n",
    "valor_1,valor_2,*valor_3 = lista\n",
    "print(valor_1,valor_2,valor_3)"
   ]
  },
  {
   "cell_type": "markdown",
   "id": "e2633a1e-2a02-4213-9c9f-a9a1faa30683",
   "metadata": {},
   "source": [
    "este asterico marcara para poder almacenar los valores extras que estan en la coleccion y esta tambien no es necesaria ponerla al final puede estan en cualquier lugar"
   ]
  },
  {
   "cell_type": "code",
   "execution_count": 9,
   "id": "1da0f436-4a58-4fbb-a737-3b1a72e88c23",
   "metadata": {},
   "outputs": [
    {
     "name": "stdout",
     "output_type": "stream",
     "text": [
      "1 [2, 3, 4] 5\n"
     ]
    }
   ],
   "source": [
    "dato_1,*dato_2,dato_3 = lista\n",
    "print(dato_1,dato_2,dato_3)"
   ]
  },
  {
   "cell_type": "markdown",
   "id": "dd10a8aa-a845-4f3f-b09a-334df7c87241",
   "metadata": {},
   "source": [
    "Ahora, una de las restricciones que tenemos es que solo podemos usar un solo asterisco."
   ]
  },
  {
   "cell_type": "markdown",
   "id": "aa1c2ab8-d925-4eed-b3ac-31268d3198ef",
   "metadata": {},
   "source": [
    "Algo que podemos hacer con esta forma de desempaquetar datos es crear una lista a partir de la siguiente."
   ]
  },
  {
   "cell_type": "code",
   "execution_count": 12,
   "id": "0483bb69-0f56-4fc2-948b-1f0d1f544f2a",
   "metadata": {},
   "outputs": [
    {
     "name": "stdout",
     "output_type": "stream",
     "text": [
      "[1, 2, 3, 4, 5, 6]\n"
     ]
    }
   ],
   "source": [
    "*listota, = 1,2,3,4,5,6\n",
    "print(listota)"
   ]
  },
  {
   "cell_type": "markdown",
   "id": "bc35a4ea-647e-4f27-9727-e3aa6c16c69f",
   "metadata": {},
   "source": [
    " Otra forma de desempaquetar la lista nos permite extraer los elementos de una colección en cierto contexto. Un ejemplo es con la función print(). Esta función puede tener múltiples parámetros para que nosotros podamos imprimir. También le podemos pasar una lista, pero la imprime de manera diferente.\n",
    "\n",
    "Ahora, si nosotros queremos imprimir los elementos de esta lista, se vería algo así:"
   ]
  },
  {
   "cell_type": "code",
   "execution_count": 13,
   "id": "526d08d6-0a21-4e5b-873e-6e51059c6004",
   "metadata": {},
   "outputs": [
    {
     "name": "stdout",
     "output_type": "stream",
     "text": [
      "esto es una frase\n"
     ]
    }
   ],
   "source": [
    "frase = [\"esto\", \"es\", \"una\",\"frase\"]\n",
    "a,b,c,d = frase\n",
    "print(a,b,c,d)"
   ]
  },
  {
   "cell_type": "markdown",
   "id": "41696c9b-1dec-4428-a02b-a94a0d9540a5",
   "metadata": {},
   "source": [
    "Esta forma se ve muy poco práctica y ocupa más código del que podríamos usar. Por eso, tenemos otra forma de hacerlo."
   ]
  },
  {
   "cell_type": "code",
   "execution_count": 14,
   "id": "03df1d3a-452c-496c-be8f-bab0225ece6a",
   "metadata": {},
   "outputs": [
    {
     "name": "stdout",
     "output_type": "stream",
     "text": [
      "esto es una frase\n"
     ]
    }
   ],
   "source": [
    "print(*frase)"
   ]
  },
  {
   "cell_type": "markdown",
   "id": "4b56a9d7-8585-4f12-aecc-53b3fe63c77f",
   "metadata": {},
   "source": [
    "No hay que confundirnos, esto es un atajo para desempaquetar los elementos de una lista y poner los valores separados por comas."
   ]
  },
  {
   "cell_type": "code",
   "execution_count": 15,
   "id": "30032d30-feb2-4b63-a4be-7ebee6e36cd8",
   "metadata": {},
   "outputs": [
    {
     "name": "stdout",
     "output_type": "stream",
     "text": [
      "(1, 2, 3, 4, 4, 5, 6, 7)\n"
     ]
    }
   ],
   "source": [
    "lista1 = [1,2,3,4]\n",
    "lista2 = [4,5,6,7]\n",
    "tupla1 = *lista1,*lista2\n",
    "print(tupla1)"
   ]
  },
  {
   "cell_type": "markdown",
   "id": "66423d8a-de84-457c-9797-0da16b93ae06",
   "metadata": {},
   "source": [
    "Ahora, si intentamos usar este método de desempaquetar con un diccionario, podemos notar que los diccionarios son un poco diferentes."
   ]
  },
  {
   "cell_type": "code",
   "execution_count": 19,
   "id": "14d0b4a8-f243-43f3-997e-68a8a1884780",
   "metadata": {},
   "outputs": [
    {
     "name": "stdout",
     "output_type": "stream",
     "text": [
      "a b c\n",
      "Esto es una frase\n",
      "('a', 'Esto') ('b', 'es') ('c', 'una frase')\n"
     ]
    }
   ],
   "source": [
    "diccionario1 = {\"a\":\"Esto\",\"b\":\"es\",\"c\":\"una frase\"}\n",
    "print(*diccionario1)\n",
    "print(*diccionario1.values())\n",
    "print(*diccionario1.items())"
   ]
  },
  {
   "cell_type": "markdown",
   "id": "e94577c0-bfed-4787-be16-4b3847eb177e",
   "metadata": {},
   "source": [
    "Ahora nosotros podemos desempaquetar dos asteriscos de modo que se pueden asignar valores a claves que podemos usar en la función como argumentos con nombre. Por ejemplo, en un formato clave = valor."
   ]
  },
  {
   "cell_type": "code",
   "execution_count": 20,
   "id": "cdea7f29-fa8a-40a1-8727-6de71a09f0ca",
   "metadata": {},
   "outputs": [
    {
     "ename": "TypeError",
     "evalue": "'a' is an invalid keyword argument for print()",
     "output_type": "error",
     "traceback": [
      "\u001b[1;31m---------------------------------------------------------------------------\u001b[0m",
      "\u001b[1;31mTypeError\u001b[0m                                 Traceback (most recent call last)",
      "Cell \u001b[1;32mIn[20], line 1\u001b[0m\n\u001b[1;32m----> 1\u001b[0m \u001b[38;5;28;43mprint\u001b[39;49m\u001b[43m(\u001b[49m\u001b[38;5;241;43m*\u001b[39;49m\u001b[38;5;241;43m*\u001b[39;49m\u001b[43mdiccionario\u001b[49m\u001b[43m)\u001b[49m\n",
      "\u001b[1;31mTypeError\u001b[0m: 'a' is an invalid keyword argument for print()"
     ]
    }
   ],
   "source": [
    "print(**diccionario)"
   ]
  },
  {
   "cell_type": "markdown",
   "id": "7542a84d-ad8a-4f4d-8d2d-2dd85c8b6962",
   "metadata": {},
   "source": [
    "Ahora nosotros podemos crear un nuevo diccionario a partir de la unión de dos diccionarios usando los asteriscos, de la misma manera que la unión de su forma normal.\n"
   ]
  },
  {
   "cell_type": "code",
   "execution_count": 23,
   "id": "65757bfd-2128-4db7-b1cb-3cf6bfe6347c",
   "metadata": {},
   "outputs": [
    {
     "name": "stdout",
     "output_type": "stream",
     "text": [
      "{'a': 1, 'b': 2, 'c': 3, 'd': 4}\n",
      "{'a': 1, 'b': 2, 'c': 3, 'd': 4}\n"
     ]
    }
   ],
   "source": [
    "diccionario1 = {'a':1,'b':2}\n",
    "diccionario2 = {'c':3,'d':4}\n",
    "union = {**diccionario1,**diccionario2}\n",
    "union2 = diccionario1 | diccionario2\n",
    "print(union)\n",
    "print(union2)"
   ]
  }
 ],
 "metadata": {
  "kernelspec": {
   "display_name": "Python 3 (ipykernel)",
   "language": "python",
   "name": "python3"
  },
  "language_info": {
   "codemirror_mode": {
    "name": "ipython",
    "version": 3
   },
   "file_extension": ".py",
   "mimetype": "text/x-python",
   "name": "python",
   "nbconvert_exporter": "python",
   "pygments_lexer": "ipython3",
   "version": "3.12.2"
  }
 },
 "nbformat": 4,
 "nbformat_minor": 5
}
