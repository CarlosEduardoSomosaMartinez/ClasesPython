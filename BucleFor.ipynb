{
 "cells": [
  {
   "cell_type": "markdown",
   "metadata": {},
   "source": [
    "Sin duda, es el tipo de bucle más usado en Python. En Python, el bucle for ha cambiado mucho y se utiliza para recorrer listas, diccionarios y en general los objetos que en Python se denominan iterables."
   ]
  },
  {
   "cell_type": "code",
   "execution_count": 1,
   "metadata": {},
   "outputs": [
    {
     "ename": "NameError",
     "evalue": "name 'iterables' is not defined",
     "output_type": "error",
     "traceback": [
      "\u001b[1;31m---------------------------------------------------------------------------\u001b[0m",
      "\u001b[1;31mNameError\u001b[0m                                 Traceback (most recent call last)",
      "Cell \u001b[1;32mIn[1], line 1\u001b[0m\n\u001b[1;32m----> 1\u001b[0m \u001b[38;5;28;01mfor\u001b[39;00m variables \u001b[38;5;129;01min\u001b[39;00m \u001b[43miterables\u001b[49m:\n\u001b[0;32m      2\u001b[0m     instrucciones \n",
      "\u001b[1;31mNameError\u001b[0m: name 'iterables' is not defined"
     ]
    }
   ],
   "source": [
    "for variables in iterables:\n",
    "    instrucciones "
   ]
  },
  {
   "cell_type": "markdown",
   "metadata": {},
   "source": [
    "Esto ejecutará instrucciones para cada elemento del iterable que ha sido almacenado en variables. Por ejemplo:"
   ]
  },
  {
   "cell_type": "code",
   "execution_count": 2,
   "metadata": {},
   "outputs": [
    {
     "name": "stdout",
     "output_type": "stream",
     "text": [
      "-------\n",
      "calcetin\n",
      "-------\n",
      "pantalon\n",
      "-------\n",
      "camisa\n",
      "-------\n",
      "camiseta\n",
      "-------\n",
      "el otro calcetin\n",
      "-------\n",
      "gorra\n"
     ]
    }
   ],
   "source": [
    "lista = [\"calcetin\",\"pantalon\",\"camisa\",\"camiseta\",\"el otro calcetin\",\"gorra\"]\n",
    "for prenda in lista:\n",
    "    print(\"-------\")\n",
    "    print(prenda)"
   ]
  },
  {
   "cell_type": "markdown",
   "metadata": {},
   "source": [
    "podemos reducir el for a una linea"
   ]
  },
  {
   "cell_type": "code",
   "execution_count": 3,
   "metadata": {},
   "outputs": [
    {
     "name": "stdout",
     "output_type": "stream",
     "text": [
      "calcetin\n",
      "pantalon\n",
      "camisa\n",
      "camiseta\n",
      "el otro calcetin\n",
      "gorra\n"
     ]
    }
   ],
   "source": [
    "for prenda in lista:print(prenda)"
   ]
  },
  {
   "cell_type": "code",
   "execution_count": 4,
   "metadata": {},
   "outputs": [
    {
     "name": "stdout",
     "output_type": "stream",
     "text": [
      "letra a\n",
      "letra e\n",
      "letra i\n",
      "letra o\n",
      "letra u\n",
      "se acabo\n"
     ]
    }
   ],
   "source": [
    "letras = [\"a\",\"e\",\"i\",\"o\",\"u\"]\n",
    "for  letra in letras:\n",
    "    print(f\"letra {letra}\")\n",
    "else:\n",
    "    print(\"se acabo\") "
   ]
  }
 ],
 "metadata": {
  "kernelspec": {
   "display_name": "Python 3 (ipykernel)",
   "language": "python",
   "name": "python3"
  },
  "language_info": {
   "codemirror_mode": {
    "name": "ipython",
    "version": 3
   },
   "file_extension": ".py",
   "mimetype": "text/x-python",
   "name": "python",
   "nbconvert_exporter": "python",
   "pygments_lexer": "ipython3",
   "version": "3.12.2"
  }
 },
 "nbformat": 4,
 "nbformat_minor": 4
}
