{
 "cells": [
  {
   "cell_type": "markdown",
   "metadata": {},
   "source": [
    "que es if o salto condicional anteriormente vimo que  nuestro programa puede ser una suceion de sentencias pero este no se puede limitarse solo esto si no que tambie nostros podemos hacer que nuestro porgrama tiene que reaccionar al entorno tiene que tomar decisiones esta estructura condicional se encargara de evaluar  expresiones  y en funcion de esto tomar una decision y haci poder ejecutar un determinado  bloque de codigo"
   ]
  },
  {
   "cell_type": "markdown",
   "metadata": {},
   "source": []
  },
  {
   "cell_type": "code",
   "execution_count": 1,
   "metadata": {},
   "outputs": [
    {
     "name": "stdout",
     "output_type": "stream",
     "text": [
      "la condicion se cumplio\n"
     ]
    }
   ],
   "source": [
    "value = 7\n",
    "if value > 5:\n",
    "    print(\"la condicion se cumplio\")"
   ]
  },
  {
   "cell_type": "markdown",
   "metadata": {},
   "source": [
    "la sentencia if interpreta el codigo que le sigue en un contexto logico lo que quiere decir que espera la evaluacion de un valor logico que seria decir algo como esto             if bool(valor): .Si el contenido de un bloque consta de una sola linea .ahora nosotros podemos reducir  esto a una sola linea"
   ]
  },
  {
   "cell_type": "code",
   "execution_count": 2,
   "metadata": {},
   "outputs": [
    {
     "name": "stdout",
     "output_type": "stream",
     "text": [
      "la variable es quince\n"
     ]
    }
   ],
   "source": [
    "variable = 15\n",
    "if variable == 15:print(\"la variable es quince\")"
   ]
  },
  {
   "cell_type": "markdown",
   "metadata": {},
   "source": [
    "la sintaxis de python nos permite que la condicion de python sea lo mas compleja posible"
   ]
  },
  {
   "cell_type": "code",
   "execution_count": 4,
   "metadata": {},
   "outputs": [],
   "source": [
    "if len(\"esto es un texto\") == 10 and  len(\"esto es otra frase\") > 10 and 2>3 :\n",
    "    print(\"la condicion se cumplio\")\n",
    "    "
   ]
  },
  {
   "cell_type": "markdown",
   "metadata": {},
   "source": [
    "en este momento nosostros podemos aplicar presedencia de operadores para poder conseguir un desarrollo mas optimo aunque es mas comun utilizar parentesis para agrupar y ordenar nuestras sentencias"
   ]
  },
  {
   "cell_type": "code",
   "execution_count": 6,
   "metadata": {},
   "outputs": [
    {
     "name": "stdout",
     "output_type": "stream",
     "text": [
      "condiciones por separaras por parentesis\n"
     ]
    }
   ],
   "source": [
    "if (len(\"algo\") > 3 or  2 > 3 ) and (3%3 == 0 and 2+2 == 4):\n",
    "    print(\"condiciones por separaras por parentesis\")"
   ]
  },
  {
   "cell_type": "markdown",
   "metadata": {},
   "source": [
    "ahora tambien hay otra cosa que es importatne observar es comentar la evaluacion floja o tambien conocido como el corto circuito y esto se refiere a un comportamiento en el cual cuando nostros acemos una evauacion de una expresion logica se detiene al ya determinarse una expresion final que se esta evaluando  esto se aplica principalmente en los operadores logicos and y or y esque nuestra evaluacion empezara de izquierda a derecha y si en el caso de and ya un falso esto terminara la evaluacion y no dara un falso y en el caso de  or sea verdadero este terminara la evaluacion dandonos verdadero\n"
   ]
  },
  {
   "cell_type": "code",
   "execution_count": 13,
   "metadata": {},
   "outputs": [],
   "source": [
    "y = 0\n",
    "x = 10\n",
    "resultado =(y!=0) and  (x/y > 5)\n",
    "\n",
    "lista = [1,2,3,4,5]\n",
    "resultado = (len(lista)>0) and (lista[0] == 1)\n",
    "\n",
    "numero = 9\n",
    "resultado = (type(numero) != int) and (sum(9))"
   ]
  },
  {
   "cell_type": "markdown",
   "metadata": {},
   "source": [
    "pro la naturaleza de python nostros no podemos no podemos dejar esta estructura de froma vacia  en caso de no tenerlas de manera provisional podemos usar el pass "
   ]
  },
  {
   "cell_type": "code",
   "execution_count": 14,
   "metadata": {},
   "outputs": [],
   "source": [
    "if 2>3:\n",
    "    pass #esta manera nosotros evitamos tener un error"
   ]
  },
  {
   "cell_type": "markdown",
   "metadata": {},
   "source": [
    "ahora nosotros tambien  podemos usar un complemento con el if el cual es el else  y esta indicara  que en caso de que no se pueda cumplir la expresion dada en el if  se ejecutara las sentencias dadas en el else"
   ]
  },
  {
   "cell_type": "code",
   "execution_count": 15,
   "metadata": {},
   "outputs": [
    {
     "name": "stdout",
     "output_type": "stream",
     "text": [
      "mi numero no es mayor que 10\n",
      "esto se muestra siempre\n"
     ]
    }
   ],
   "source": [
    "x = 10\n",
    "if x > 10:\n",
    "    print(\"mi numero es mayor que 10\")\n",
    "else:\n",
    "    print(\"mi numero no es mayor que 10\")\n",
    "print(\"esto se muestra siempre\")"
   ]
  },
  {
   "cell_type": "markdown",
   "metadata": {},
   "source": [
    "nosotros tambien podemos contar con lo que es  la sentecia elif que nos permite elvarar estructura un poco mas complejas la cual funcionara de la siguiente manera "
   ]
  },
  {
   "cell_type": "code",
   "execution_count": 16,
   "metadata": {},
   "outputs": [
    {
     "name": "stdout",
     "output_type": "stream",
     "text": [
      "mi numero es mayor que tres \n"
     ]
    }
   ],
   "source": [
    "if x > 3:\n",
    "    print(\"mi numero es mayor que tres \")\n",
    "elif x < 3:\n",
    "    print(\"mi numero es menor que tres\")\n",
    "else:\n",
    "    print(\"mi numero es tres\")"
   ]
  },
  {
   "cell_type": "markdown",
   "metadata": {},
   "source": [
    "hay que tener cuidado al usar estos operadores y la orden logica ya que podemos obtener errores logicos si encadenamos mal estas condiciones ya que si estas llega a cumplirse los demas bloques no se ejecutaran"
   ]
  },
  {
   "cell_type": "code",
   "execution_count": 18,
   "metadata": {},
   "outputs": [],
   "source": [
    "x = 10\n",
    "if x < 2 :\n",
    "    print(\"es mayor que 2\")\n",
    "elif x < 6:\n",
    "    print(\"es mayor que 6\")\n",
    "elif x < 9:\n",
    "    print(\"es mayor que 9\")"
   ]
  },
  {
   "cell_type": "code",
   "execution_count": null,
   "metadata": {},
   "outputs": [],
   "source": []
  }
 ],
 "metadata": {
  "kernelspec": {
   "display_name": "Python 3",
   "language": "python",
   "name": "python3"
  },
  "language_info": {
   "codemirror_mode": {
    "name": "ipython",
    "version": 3
   },
   "file_extension": ".py",
   "mimetype": "text/x-python",
   "name": "python",
   "nbconvert_exporter": "python",
   "pygments_lexer": "ipython3",
   "version": "3.12.2"
  }
 },
 "nbformat": 4,
 "nbformat_minor": 2
}
