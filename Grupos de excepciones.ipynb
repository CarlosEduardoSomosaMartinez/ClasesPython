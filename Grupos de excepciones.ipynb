{
 "cells": [
  {
   "cell_type": "markdown",
   "id": "aaf4c874-630a-46a0-a5c4-340183a64982",
   "metadata": {},
   "source": [
    "nosotros podemos hacer grupos de excepciones"
   ]
  },
  {
   "cell_type": "code",
   "execution_count": 2,
   "id": "dc3800d3-01fe-4778-8724-3a2843bcb956",
   "metadata": {},
   "outputs": [],
   "source": [
    "grupo = ExceptionGroup(\"Mi grupo\",(TypeError(),ZeroDivisionError()))"
   ]
  },
  {
   "cell_type": "markdown",
   "id": "5bcde348-8745-4823-ab64-680d3c3a4171",
   "metadata": {},
   "source": [
    "ahora  nostros podemos lanzar este grupo de excepciones  hara que se nos muestre en un formato en especial"
   ]
  },
  {
   "cell_type": "code",
   "execution_count": 3,
   "id": "3c9d311f-026b-4755-bcdf-3348b2f16109",
   "metadata": {},
   "outputs": [
    {
     "name": "stderr",
     "output_type": "stream",
     "text": [
      "  + Exception Group Traceback (most recent call last):\n",
      "  |   File \"C:\\Users\\Carlo\\AppData\\Local\\Programs\\Python\\Python312\\Lib\\site-packages\\IPython\\core\\interactiveshell.py\", line 3553, in run_code\n",
      "  |     exec(code_obj, self.user_global_ns, self.user_ns)\n",
      "  |   File \"C:\\Users\\Carlo\\AppData\\Local\\Temp\\ipykernel_6208\\3410532619.py\", line 1, in <module>\n",
      "  |     raise grupo\n",
      "  | ExceptionGroup: Mi grupo (2 sub-exceptions)\n",
      "  +-+---------------- 1 ----------------\n",
      "    | TypeError\n",
      "    +---------------- 2 ----------------\n",
      "    | ZeroDivisionError\n",
      "    +------------------------------------\n"
     ]
    }
   ],
   "source": [
    "raise grupo"
   ]
  },
  {
   "cell_type": "markdown",
   "id": "c150cab5-87b5-4802-a6a6-3de5482c19e5",
   "metadata": {},
   "source": [
    "ahora nosotros podemos capturar un grupo de excepcione usando except ExceptionGroup: del mismo modo de otra  excepciones"
   ]
  },
  {
   "cell_type": "code",
   "execution_count": 7,
   "id": "f7dffd53-a833-4426-99b0-621662690805",
   "metadata": {},
   "outputs": [
    {
     "name": "stdout",
     "output_type": "stream",
     "text": [
      "Grupo de excepciones capturado\n"
     ]
    }
   ],
   "source": [
    "grupo = ExceptionGroup(\"Mi grupo\",(TypeError(),ZeroDivisionError()))\n",
    "try:\n",
    "    raise grupo\n",
    "except ExceptionGroup:\n",
    "    print(\"Grupo de excepciones capturado\")"
   ]
  },
  {
   "cell_type": "markdown",
   "id": "44d2640a-271b-4e2e-bde1-ac81dd7f958a",
   "metadata": {},
   "source": [
    "esta no es la manera mas eficiente de capturar dichos datos  lo usual es que nosotros podamos capturar esto de manera individual  para poder hacerlo hay que usar una nueva notacion que seria except*"
   ]
  },
  {
   "cell_type": "code",
   "execution_count": 13,
   "id": "87c0d570-cf2e-4816-94ad-5529251d1d3e",
   "metadata": {},
   "outputs": [
    {
     "name": "stdout",
     "output_type": "stream",
     "text": [
      "Grupo de excepciones capturado\n",
      "grupo de excepciones capturado2\n",
      "Mi grupo (2 sub-exceptions)\n"
     ]
    }
   ],
   "source": [
    "grupo = ExceptionGroup(\"Mi grupo\",(TypeError(),ZeroDivisionError()))\n",
    "try:\n",
    "    try:\n",
    "        raise grupo\n",
    "    except* ZeroDivisionError:\n",
    "        print(\"Grupo de excepciones capturado\")\n",
    "        raise\n",
    "    except* TypeError:\n",
    "        print(\"grupo de excepciones capturado2\")\n",
    "        raise\n",
    "except ExceptionGroup as error:\n",
    "    print(error)"
   ]
  },
  {
   "cell_type": "markdown",
   "id": "aeaaea33-2301-4d54-b9da-5df729fc5f1a",
   "metadata": {},
   "source": [
    "el funcionamiento de la palabra except* sigue siendo exactamente el mismo que el anterior soloo que este si puede capturar las excepciones de un grupo\n",
    "Para nsotros capturar dichas excepciones con except*  es necesario captrurar todas as excepcioned del grupo del modo que si llegamos a dejar alguna no  seguira dando erro al ejecutarlo la unica diferencia es que nos mostrara un error en el cual nostros podamos ver la unica que noo capturamos"
   ]
  },
  {
   "cell_type": "code",
   "execution_count": 14,
   "id": "dd4c287d-7a00-41e2-93a5-6e8e30a305dd",
   "metadata": {},
   "outputs": [
    {
     "name": "stdout",
     "output_type": "stream",
     "text": [
      "Grupo de excepciones capturado\n"
     ]
    },
    {
     "name": "stderr",
     "output_type": "stream",
     "text": [
      "  + Exception Group Traceback (most recent call last):\n",
      "  |   File \"C:\\Users\\Carlo\\AppData\\Local\\Programs\\Python\\Python312\\Lib\\site-packages\\IPython\\core\\interactiveshell.py\", line 3553, in run_code\n",
      "  |     exec(code_obj, self.user_global_ns, self.user_ns)\n",
      "  |   File \"C:\\Users\\Carlo\\AppData\\Local\\Temp\\ipykernel_6208\\1841049520.py\", line 3, in <module>\n",
      "  |     raise grupo\n",
      "  | ExceptionGroup: Mi grupo (1 sub-exception)\n",
      "  +-+---------------- 1 ----------------\n",
      "    | TypeError\n",
      "    +------------------------------------\n"
     ]
    }
   ],
   "source": [
    "grupo = ExceptionGroup(\"Mi grupo\",(TypeError(),ZeroDivisionError()))\n",
    "try:\n",
    "    raise grupo\n",
    "except* ZeroDivisionError:\n",
    "    print(\"Grupo de excepciones capturado\")"
   ]
  },
  {
   "cell_type": "code",
   "execution_count": null,
   "id": "40462a8d-1ff0-4ce5-a153-63d22df9f83e",
   "metadata": {},
   "outputs": [],
   "source": []
  }
 ],
 "metadata": {
  "kernelspec": {
   "display_name": "Python 3 (ipykernel)",
   "language": "python",
   "name": "python3"
  },
  "language_info": {
   "codemirror_mode": {
    "name": "ipython",
    "version": 3
   },
   "file_extension": ".py",
   "mimetype": "text/x-python",
   "name": "python",
   "nbconvert_exporter": "python",
   "pygments_lexer": "ipython3",
   "version": "3.12.2"
  }
 },
 "nbformat": 4,
 "nbformat_minor": 5
}
