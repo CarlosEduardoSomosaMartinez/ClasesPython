{
 "cells": [
  {
   "cell_type": "markdown",
   "metadata": {},
   "source": [
    "Entiendo, vamos a dar una pausa en este tema para profundizar en algo un poco más técnico. Vamos a definir las estructuras de control. Hasta ahora, hemos estado viendo de manera típica la forma de programar de manera secuencial.\n"
   ]
  },
  {
   "cell_type": "code",
   "execution_count": 2,
   "metadata": {},
   "outputs": [
    {
     "name": "stdout",
     "output_type": "stream",
     "text": [
      "hola esto\n",
      "programacion secuncial\n",
      "de manera suseciva\n"
     ]
    }
   ],
   "source": [
    "print(\"hola esto\")\n",
    "print(\"programacion secuncial\")\n",
    "print(\"de manera suseciva\")"
   ]
  },
  {
   "cell_type": "markdown",
   "metadata": {},
   "source": [
    "Entiendo. Desde este punto empezaremos a ver con más frecuencia que las sentencias se pueden anidar. Es decir, pueden incluirse unas dentro de otras para hacer que estén dependan de las anteriores para verse ejecutadas. Este tipo de comportamiento no es exclusivo de las condicionales y lo veremos más adelante."
   ]
  },
  {
   "cell_type": "markdown",
   "metadata": {},
   "source": [
    "intruccion_principal {\n",
    "    una_instruccion\n",
    "    otra_instrucion\n",
    "}\n",
    "instruccion_independiente"
   ]
  },
  {
   "cell_type": "markdown",
   "metadata": {},
   "source": [
    "Entiendo. Python funciona de esa manera; en este caso, es un lenguaje donde la indentación define el anidamiento de las sentencias. Esto significa que nosotros vamos a definir qué sentencias están contenidas dentro de otras. En este aspecto, las sentencias que están indentadas están contenidas en la más próxima con menor identación."
   ]
  },
  {
   "cell_type": "code",
   "execution_count": null,
   "metadata": {},
   "outputs": [],
   "source": [
    "def funcion():\n",
    "    print(\"primeraa sentencia\")\n",
    "    print(\"segunda sentecia\")\n",
    "    if  2==2: #estructura de control\n",
    "        print(\"otra sentencia anidada\")\n",
    "        print(\"otra sentencia tambien \")\n",
    "\n",
    "print(\"sentencia al mismo nivel\")"
   ]
  },
  {
   "cell_type": "markdown",
   "metadata": {},
   "source": [
    "Una recomendación general es que nuestra tabulación sea igual a 4 espacios.\n"
   ]
  }
 ],
 "metadata": {
  "kernelspec": {
   "display_name": "Python 3 (ipykernel)",
   "language": "python",
   "name": "python3"
  },
  "language_info": {
   "codemirror_mode": {
    "name": "ipython",
    "version": 3
   },
   "file_extension": ".py",
   "mimetype": "text/x-python",
   "name": "python",
   "nbconvert_exporter": "python",
   "pygments_lexer": "ipython3",
   "version": "3.12.2"
  }
 },
 "nbformat": 4,
 "nbformat_minor": 4
}
