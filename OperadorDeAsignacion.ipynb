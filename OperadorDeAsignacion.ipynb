{
 "cells": [
  {
   "cell_type": "markdown",
   "id": "15b4aed8-43af-438b-bcd5-8a055c986c92",
   "metadata": {},
   "source": [
    "existe  un operador  llamado operator morsa  walrus operator Gracias  a esto operador  podemos resolver  nuestro problema  de forma simple y elegante"
   ]
  },
  {
   "cell_type": "code",
   "execution_count": 2,
   "id": "70c0eecf-0e05-49fd-bc53-7796b866fe11",
   "metadata": {},
   "outputs": [
    {
     "name": "stdin",
     "output_type": "stream",
     "text": [
      "di algo? hola\n"
     ]
    },
    {
     "name": "stdout",
     "output_type": "stream",
     "text": [
      "has hablado  hola\n"
     ]
    },
    {
     "name": "stdin",
     "output_type": "stream",
     "text": [
      "di algo? que haces\n"
     ]
    },
    {
     "name": "stdout",
     "output_type": "stream",
     "text": [
      "has hablado  que haces\n"
     ]
    },
    {
     "name": "stdin",
     "output_type": "stream",
     "text": [
      "di algo? nada\n"
     ]
    },
    {
     "name": "stdout",
     "output_type": "stream",
     "text": [
      "has hablado  nada\n"
     ]
    },
    {
     "name": "stdin",
     "output_type": "stream",
     "text": [
      "di algo? aluciina\n"
     ]
    },
    {
     "name": "stdout",
     "output_type": "stream",
     "text": [
      "has hablado  aluciina\n"
     ]
    },
    {
     "name": "stdin",
     "output_type": "stream",
     "text": [
      "di algo? \n"
     ]
    }
   ],
   "source": [
    "while  respuesta := input(\"di algo?\"):\n",
    "    print(\"has hablado \",respuesta)\n",
    "    "
   ]
  },
  {
   "cell_type": "markdown",
   "id": "1549432d-b8f1-4686-83f7-c30494fba802",
   "metadata": {},
   "source": [
    "este tipo de operador los podemos usar  para asignar un valor  a una variable  seguida de una expresion mas grande  y en paralelo se evalua la expresion un ejemplo\n"
   ]
  },
  {
   "cell_type": "markdown",
   "id": "2abe7620-636a-438e-89d7-02f7e12e0de2",
   "metadata": {},
   "source": [
    "cabe recalcar qu este tipo de operador no puede remplazar al operdor de asignacion"
   ]
  },
  {
   "cell_type": "code",
   "execution_count": 4,
   "id": "b966f219-cdc4-4449-aadc-f3346709e90d",
   "metadata": {},
   "outputs": [
    {
     "name": "stdout",
     "output_type": "stream",
     "text": [
      "12\n"
     ]
    }
   ],
   "source": [
    "if (longitud:=len(\"esta oracion\"))> 4:\n",
    "    print(longitud)"
   ]
  },
  {
   "cell_type": "code",
   "execution_count": null,
   "id": "7fe4c6db-e5f9-486b-ac30-da329e96bf15",
   "metadata": {},
   "outputs": [],
   "source": []
  }
 ],
 "metadata": {
  "kernelspec": {
   "display_name": "Python 3 (ipykernel)",
   "language": "python",
   "name": "python3"
  },
  "language_info": {
   "codemirror_mode": {
    "name": "ipython",
    "version": 3
   },
   "file_extension": ".py",
   "mimetype": "text/x-python",
   "name": "python",
   "nbconvert_exporter": "python",
   "pygments_lexer": "ipython3",
   "version": "3.12.2"
  }
 },
 "nbformat": 4,
 "nbformat_minor": 5
}
