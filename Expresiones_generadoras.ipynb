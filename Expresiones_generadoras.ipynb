{
 "cells": [
  {
   "cell_type": "markdown",
   "id": "39328c0a-1110-481f-af8a-45bc4e82d117",
   "metadata": {},
   "source": [
    "Las expresiones generadoras no son más que la manera de utilizarlas en una función que se puede usar de manera explícita. Por ejemplo, se puede construir varios tipos de iterables pasándole a la función constructora una de estas expresiones como argumentos."
   ]
  },
  {
   "cell_type": "code",
   "execution_count": 7,
   "id": "188f5fc7-d3ce-475a-8469-0897ee286324",
   "metadata": {},
   "outputs": [
    {
     "name": "stdout",
     "output_type": "stream",
     "text": [
      "(2, 3, 4, 5)\n",
      "[2, 3, 4, 5]\n"
     ]
    }
   ],
   "source": [
    "tuplas = tuple(i for i in (0,1,2,3,4,5) if i > 1)\n",
    "print(tuplas)\n",
    "lista = list(i for i in (0,1,2,3,4,5) if i > 1)\n",
    "print(lista)\n",
    "dias_de_la_semana = []"
   ]
  }
 ],
 "metadata": {
  "kernelspec": {
   "display_name": "Python 3 (ipykernel)",
   "language": "python",
   "name": "python3"
  },
  "language_info": {
   "codemirror_mode": {
    "name": "ipython",
    "version": 3
   },
   "file_extension": ".py",
   "mimetype": "text/x-python",
   "name": "python",
   "nbconvert_exporter": "python",
   "pygments_lexer": "ipython3",
   "version": "3.12.2"
  }
 },
 "nbformat": 4,
 "nbformat_minor": 5
}
